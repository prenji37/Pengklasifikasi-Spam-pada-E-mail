{
  "cells": [
    {
      "cell_type": "code",
      "execution_count": 1,
      "metadata": {
        "id": "fqVXAPQmyW0Q"
      },
      "outputs": [],
      "source": [
        "import numpy as np\n",
        "import pandas as pd\n",
        "import os\n",
        "for dirname, _, filenames in os.walk('spam_ham_dataset.csv'):\n",
        "    for filename in filenames:\n",
        "        print(os.path.join(dirname, filename))"
      ]
    },
    {
      "cell_type": "code",
      "execution_count": 2,
      "metadata": {
        "colab": {
          "base_uri": "https://localhost:8080/",
          "height": 206
        },
        "id": "qTnP5sIVyXjO",
        "outputId": "2fe7c620-605a-4527-e17f-11d0e7877f6e"
      },
      "outputs": [
        {
          "data": {
            "text/html": [
              "<div>\n",
              "<style scoped>\n",
              "    .dataframe tbody tr th:only-of-type {\n",
              "        vertical-align: middle;\n",
              "    }\n",
              "\n",
              "    .dataframe tbody tr th {\n",
              "        vertical-align: top;\n",
              "    }\n",
              "\n",
              "    .dataframe thead th {\n",
              "        text-align: right;\n",
              "    }\n",
              "</style>\n",
              "<table border=\"1\" class=\"dataframe\">\n",
              "  <thead>\n",
              "    <tr style=\"text-align: right;\">\n",
              "      <th></th>\n",
              "      <th>Unnamed: 0</th>\n",
              "      <th>label</th>\n",
              "      <th>text</th>\n",
              "      <th>label_num</th>\n",
              "    </tr>\n",
              "  </thead>\n",
              "  <tbody>\n",
              "    <tr>\n",
              "      <th>0</th>\n",
              "      <td>605</td>\n",
              "      <td>ham</td>\n",
              "      <td>Subject: enron methanol ; meter # : 988291\\r\\n...</td>\n",
              "      <td>0</td>\n",
              "    </tr>\n",
              "    <tr>\n",
              "      <th>1</th>\n",
              "      <td>2349</td>\n",
              "      <td>ham</td>\n",
              "      <td>Subject: hpl nom for january 9 , 2001\\r\\n( see...</td>\n",
              "      <td>0</td>\n",
              "    </tr>\n",
              "    <tr>\n",
              "      <th>2</th>\n",
              "      <td>3624</td>\n",
              "      <td>ham</td>\n",
              "      <td>Subject: neon retreat\\r\\nho ho ho , we ' re ar...</td>\n",
              "      <td>0</td>\n",
              "    </tr>\n",
              "    <tr>\n",
              "      <th>3</th>\n",
              "      <td>4685</td>\n",
              "      <td>spam</td>\n",
              "      <td>Subject: photoshop , windows , office . cheap ...</td>\n",
              "      <td>1</td>\n",
              "    </tr>\n",
              "    <tr>\n",
              "      <th>4</th>\n",
              "      <td>2030</td>\n",
              "      <td>ham</td>\n",
              "      <td>Subject: re : indian springs\\r\\nthis deal is t...</td>\n",
              "      <td>0</td>\n",
              "    </tr>\n",
              "  </tbody>\n",
              "</table>\n",
              "</div>"
            ],
            "text/plain": [
              "   Unnamed: 0 label                                               text   \n",
              "0         605   ham  Subject: enron methanol ; meter # : 988291\\r\\n...  \\\n",
              "1        2349   ham  Subject: hpl nom for january 9 , 2001\\r\\n( see...   \n",
              "2        3624   ham  Subject: neon retreat\\r\\nho ho ho , we ' re ar...   \n",
              "3        4685  spam  Subject: photoshop , windows , office . cheap ...   \n",
              "4        2030   ham  Subject: re : indian springs\\r\\nthis deal is t...   \n",
              "\n",
              "   label_num  \n",
              "0          0  \n",
              "1          0  \n",
              "2          0  \n",
              "3          1  \n",
              "4          0  "
            ]
          },
          "execution_count": 2,
          "metadata": {},
          "output_type": "execute_result"
        }
      ],
      "source": [
        "df = pd.read_csv('spam_ham_dataset.csv')\n",
        "df.head()"
      ]
    },
    {
      "cell_type": "code",
      "execution_count": 3,
      "metadata": {
        "colab": {
          "base_uri": "https://localhost:8080/"
        },
        "id": "_ZT3H8YTyaGA",
        "outputId": "9d866d22-b7de-4013-a798-1136916e0b64"
      },
      "outputs": [
        {
          "name": "stdout",
          "output_type": "stream",
          "text": [
            "<class 'pandas.core.frame.DataFrame'>\n",
            "RangeIndex: 5171 entries, 0 to 5170\n",
            "Data columns (total 4 columns):\n",
            " #   Column      Non-Null Count  Dtype \n",
            "---  ------      --------------  ----- \n",
            " 0   Unnamed: 0  5171 non-null   int64 \n",
            " 1   label       5171 non-null   object\n",
            " 2   text        5171 non-null   object\n",
            " 3   label_num   5171 non-null   int64 \n",
            "dtypes: int64(2), object(2)\n",
            "memory usage: 161.7+ KB\n"
          ]
        }
      ],
      "source": [
        "df.info()"
      ]
    },
    {
      "cell_type": "code",
      "execution_count": 4,
      "metadata": {
        "colab": {
          "base_uri": "https://localhost:8080/"
        },
        "id": "vN2e0A96yzts",
        "outputId": "7afb6564-fc50-4fdd-fc11-dc508db07b4e"
      },
      "outputs": [
        {
          "data": {
            "text/plain": [
              "Unnamed: 0    0\n",
              "label         0\n",
              "text          0\n",
              "label_num     0\n",
              "dtype: int64"
            ]
          },
          "execution_count": 4,
          "metadata": {},
          "output_type": "execute_result"
        }
      ],
      "source": [
        "df.isna().sum()"
      ]
    },
    {
      "cell_type": "code",
      "execution_count": 5,
      "metadata": {
        "colab": {
          "base_uri": "https://localhost:8080/",
          "height": 467
        },
        "id": "7wKOvwF1yeT8",
        "outputId": "03dafcb4-a836-4cef-8718-0a98eb85cd03"
      },
      "outputs": [
        {
          "data": {
            "text/plain": [
              "<AxesSubplot: xlabel='label', ylabel='count'>"
            ]
          },
          "execution_count": 5,
          "metadata": {},
          "output_type": "execute_result"
        },
        {
          "data": {
            "image/png": "[encoded data removed]",
            "text/plain": [
              "<Figure size 640x480 with 1 Axes>"
            ]
          },
          "metadata": {},
          "output_type": "display_data"
        }
      ],
      "source": [
        "import seaborn as sns\n",
        "sns.countplot(x=\"label\",data=df)"
      ]
    },
    {
      "cell_type": "markdown",
      "metadata": {
        "id": "u0meJL1w74iK"
      },
      "source": [
        "# Data Cleansing"
      ]
    },
    {
      "cell_type": "code",
      "execution_count": 6,
      "metadata": {
        "colab": {
          "base_uri": "https://localhost:8080/"
        },
        "id": "oMA_cSeky3j9",
        "outputId": "a30c5b97-0e1f-4c98-fb33-05edb6bf03c3"
      },
      "outputs": [
        {
          "name": "stdout",
          "output_type": "stream",
          "text": [
            "Subject: enron methanol ; meter # : 988291\n",
            "this is a follow up to the note i gave you on monday , 4 / 3 / 00 { preliminary\n",
            "flow data provided by daren } .\n",
            "please override pop ' s daily volume { presently zero } to reflect daily\n",
            "activity you can obtain from gas control .\n",
            "this change is needed asap for economics purposes .\n"
          ]
        }
      ],
      "source": [
        "print(df['text'][0])"
      ]
    },
    {
      "cell_type": "code",
      "execution_count": 7,
      "metadata": {
        "colab": {
          "base_uri": "https://localhost:8080/"
        },
        "id": "JMuONUP9zDpj",
        "outputId": "1750658b-7d7c-4b1d-9314-fc7591ab77d2"
      },
      "outputs": [
        {
          "name": "stdout",
          "output_type": "stream",
          "text": [
            "Requirement already satisfied: contractions in c:\\users\\ela\\appdata\\local\\packages\\pythonsoftwarefoundation.python.3.11_qbz5n2kfra8p0\\localcache\\local-packages\\python311\\site-packages (0.1.73)\n",
            "Requirement already satisfied: textsearch>=0.0.21 in c:\\users\\ela\\appdata\\local\\packages\\pythonsoftwarefoundation.python.3.11_qbz5n2kfra8p0\\localcache\\local-packages\\python311\\site-packages (from contractions) (0.0.24)\n",
            "Requirement already satisfied: anyascii in c:\\users\\ela\\appdata\\local\\packages\\pythonsoftwarefoundation.python.3.11_qbz5n2kfra8p0\\localcache\\local-packages\\python311\\site-packages (from textsearch>=0.0.21->contractions) (0.3.2)\n",
            "Requirement already satisfied: pyahocorasick in c:\\users\\ela\\appdata\\local\\packages\\pythonsoftwarefoundation.python.3.11_qbz5n2kfra8p0\\localcache\\local-packages\\python311\\site-packages (from textsearch>=0.0.21->contractions) (2.0.0)\n",
            "Note: you may need to restart the kernel to use updated packages.\n"
          ]
        }
      ],
      "source": [
        "pip install contractions"
      ]
    },
    {
      "cell_type": "code",
      "execution_count": 8,
      "metadata": {
        "colab": {
          "base_uri": "https://localhost:8080/"
        },
        "id": "IXjqqaDoy_8k",
        "outputId": "79ec289e-400d-4399-e62c-7ebc23f36714"
      },
      "outputs": [
        {
          "name": "stderr",
          "output_type": "stream",
          "text": [
            "[nltk_data] Downloading package stopwords to\n",
            "[nltk_data]     C:\\Users\\ela\\AppData\\Roaming\\nltk_data...\n",
            "[nltk_data]   Package stopwords is already up-to-date!\n"
          ]
        }
      ],
      "source": [
        "import contractions\n",
        "#contractions adalah paket dalam python yang digunakan untuk memperluas contractions dalam bahasa Inggris ke bentuk aslinya. Contoh I'll menjadi \"Saya akan\"\n",
        "from tqdm import tqdm #tqdm digunakan untuk melacak kemajuan pekerjaan. Paket ini menampilkan persentase perulangan yang telah dilakukan.\n",
        "import nltk\n",
        "#nltk adalah sebuah paket pustaka yang terutama digunakan untuk menangani masalah yang berhubungan dengan pemrosesan bahasa alami.\n",
        "import re\n",
        "nltk.download('stopwords')\n",
        "from nltk.corpus import stopwords\n",
        "#mengunduh stopwords dari bahasa Inggris\n",
        "stopwords = stopwords.words('english')\n",
        "#Menghapus stopwords 'no','nor' dan 'not'\n",
        "stopwords.remove('no')\n",
        "stopwords.remove('nor')\n",
        "stopwords.remove('not')"
      ]
    },
    {
      "cell_type": "code",
      "execution_count": 9,
      "metadata": {
        "colab": {
          "base_uri": "https://localhost:8080/"
        },
        "id": "cS3tZTL0zN1G",
        "outputId": "9c7fcff8-e277-4e8e-8816-0a714898f34a"
      },
      "outputs": [
        {
          "name": "stderr",
          "output_type": "stream",
          "text": [
            " 12%|█▏        | 638/5171 [00:00<00:05, 823.05it/s]"
          ]
        },
        {
          "name": "stderr",
          "output_type": "stream",
          "text": [
            "100%|██████████| 5171/5171 [00:06<00:00, 739.00it/s] \n"
          ]
        }
      ],
      "source": [
        "processed_mails=[]\n",
        "for i in tqdm(df['text']):\n",
        "    #Regular expression that removes all the html tags pressent in the reviews\n",
        "    i=re.sub('(<[\\w\\s]*/?>)',\"\",i)\n",
        "    #Expanding all the contractions present in the review to is respective actual form\n",
        "    i=contractions.fix(i)\n",
        "    #Removing all the special charactesrs from the review text\n",
        "    i=re.sub('[^a-zA-Z0-9\\s]+',\"\",i)\n",
        "    #Removing all the digits present in the review text\n",
        "    i=re.sub('\\d+',\"\",i)\n",
        "    #Making all the review text to be of lower case as well as removing the stopwords and words of length less than 3\n",
        "    processed_mails.append(\" \".join([j.lower() for j in i.split() if j not in stopwords and len(j)>=3]))"
      ]
    },
    {
      "cell_type": "markdown",
      "metadata": {
        "id": "_OtQMxlIQSqz"
      },
      "source": []
    },
    {
      "cell_type": "code",
      "execution_count": 10,
      "metadata": {
        "colab": {
          "base_uri": "https://localhost:8080/",
          "height": 206
        },
        "id": "y2MOgiLNzTkL",
        "outputId": "baee918b-8dc0-4b16-9410-fcb3a7107ee2"
      },
      "outputs": [
        {
          "data": {
            "text/html": [
              "<div>\n",
              "<style scoped>\n",
              "    .dataframe tbody tr th:only-of-type {\n",
              "        vertical-align: middle;\n",
              "    }\n",
              "\n",
              "    .dataframe tbody tr th {\n",
              "        vertical-align: top;\n",
              "    }\n",
              "\n",
              "    .dataframe thead th {\n",
              "        text-align: right;\n",
              "    }\n",
              "</style>\n",
              "<table border=\"1\" class=\"dataframe\">\n",
              "  <thead>\n",
              "    <tr style=\"text-align: right;\">\n",
              "      <th></th>\n",
              "      <th>text</th>\n",
              "      <th>Spam/Ham</th>\n",
              "    </tr>\n",
              "  </thead>\n",
              "  <tbody>\n",
              "    <tr>\n",
              "      <th>0</th>\n",
              "      <td>subject enron methanol meter follow note gave ...</td>\n",
              "      <td>0</td>\n",
              "    </tr>\n",
              "    <tr>\n",
              "      <th>1</th>\n",
              "      <td>subject hpl nom january see attached file hpln...</td>\n",
              "      <td>0</td>\n",
              "    </tr>\n",
              "    <tr>\n",
              "      <th>2</th>\n",
              "      <td>subject neon retreat around wonderful time yea...</td>\n",
              "      <td>0</td>\n",
              "    </tr>\n",
              "    <tr>\n",
              "      <th>3</th>\n",
              "      <td>subject photoshop windows office cheap main tr...</td>\n",
              "      <td>1</td>\n",
              "    </tr>\n",
              "    <tr>\n",
              "      <th>4</th>\n",
              "      <td>subject indian springs deal book teco pvr reve...</td>\n",
              "      <td>0</td>\n",
              "    </tr>\n",
              "  </tbody>\n",
              "</table>\n",
              "</div>"
            ],
            "text/plain": [
              "                                                text  Spam/Ham\n",
              "0  subject enron methanol meter follow note gave ...         0\n",
              "1  subject hpl nom january see attached file hpln...         0\n",
              "2  subject neon retreat around wonderful time yea...         0\n",
              "3  subject photoshop windows office cheap main tr...         1\n",
              "4  subject indian springs deal book teco pvr reve...         0"
            ]
          },
          "execution_count": 10,
          "metadata": {},
          "output_type": "execute_result"
        }
      ],
      "source": [
        "#Creating a new datafram using the Processed Reviews\n",
        "processed_df=pd.DataFrame({'text':processed_mails,'Spam/Ham':list(df['label_num'])})\n",
        "processed_df.head()"
      ]
    },
    {
      "cell_type": "markdown",
      "metadata": {
        "id": "dBNkCDeq2TbF"
      },
      "source": [
        "# Train Model"
      ]
    },
    {
      "cell_type": "code",
      "execution_count": 11,
      "metadata": {
        "id": "bqhn-_Fu3Ocq"
      },
      "outputs": [],
      "source": [
        "from sklearn.metrics import confusion_matrix\n",
        "from sklearn.model_selection import KFold\n",
        "from sklearn.model_selection import cross_val_score\n",
        "from sklearn.model_selection import GridSearchCV\n",
        "from sklearn.preprocessing import scale\n",
        "from sklearn.svm import SVC\n",
        "from sklearn.feature_extraction.text import TfidfVectorizer\n",
        "from sklearn.model_selection import train_test_split\n",
        "from sklearn.metrics import accuracy_score, classification_report\n",
        "import matplotlib.pyplot as plt\n",
        "import seaborn as sns"
      ]
    },
    {
      "cell_type": "markdown",
      "metadata": {
        "id": "VTDnB_rvwUa8"
      },
      "source": [
        "## **DATA PREPARASI**"
      ]
    },
    {
      "cell_type": "code",
      "execution_count": 12,
      "metadata": {
        "id": "hXZPZTPR1XTK"
      },
      "outputs": [],
      "source": [
        "X=processed_df['text']\n",
        "Y=processed_df['Spam/Ham']\n",
        "from sklearn.model_selection import train_test_split\n",
        "x_train,x_test,y_train,y_test=train_test_split(X,Y,stratify=Y,test_size=0.2, random_state = 0)"
      ]
    },
    {
      "cell_type": "code",
      "execution_count": 13,
      "metadata": {
        "id": "wbtayXKcVl4o"
      },
      "outputs": [],
      "source": [
        "# Menyimpan hasil train dan test ke dalam DataFrame\n",
        "train_data = pd.DataFrame({'text': x_train, 'Spam/Ham': y_train})\n",
        "test_data = pd.DataFrame({'text': x_test, 'Spam/Ham': y_test})\n",
        "\n",
        "# Menyimpan DataFrame ke dalam file CSV\n",
        "train_data.to_csv('train_data_spam_ham.csv', index=False)\n",
        "test_data.to_csv('test_data_spam_ham.csv', index=False)"
      ]
    },
    {
      "cell_type": "markdown",
      "metadata": {
        "id": "n7XOq9Ww6Ea4"
      },
      "source": [
        "# **EKSTRAKSI FITUR**"
      ]
    },
    {
      "cell_type": "code",
      "execution_count": 14,
      "metadata": {
        "id": "FXZ2Bx8R7XHc"
      },
      "outputs": [],
      "source": [
        "# TF-IDF Vectorizer untuk mengubah teks menjadi representasi vektor TF-IDF\n",
        "tfidf_vectorizer = TfidfVectorizer()\n",
        "# Transformasi data teks menjadi vektor TF-IDF\n",
        "x_train_tfidf = tfidf_vectorizer.fit_transform(x_train)\n",
        "x_test_tfidf = tfidf_vectorizer.transform(x_test)"
      ]
    },
    {
      "cell_type": "markdown",
      "metadata": {
        "id": "lUKfKu8E6_bB"
      },
      "source": [
        "# *Build Model*"
      ]
    },
    {
      "cell_type": "code",
      "execution_count": 15,
      "metadata": {
        "colab": {
          "base_uri": "https://localhost:8080/"
        },
        "id": "1wjf0AFY6VP6",
        "outputId": "ae3e1e15-f6d4-4c0a-b838-088eb35b990f"
      },
      "outputs": [
        {
          "name": "stdout",
          "output_type": "stream",
          "text": [
            "Akurasi: 0.9835748792270531\n",
            "Classification Report:\n",
            "               precision    recall  f1-score   support\n",
            "\n",
            "           0       0.99      0.98      0.99       735\n",
            "           1       0.96      0.98      0.97       300\n",
            "\n",
            "    accuracy                           0.98      1035\n",
            "   macro avg       0.98      0.98      0.98      1035\n",
            "weighted avg       0.98      0.98      0.98      1035\n",
            "\n"
          ]
        }
      ],
      "source": [
        "# Inisialisasi model SVM\n",
        "svm_model = SVC(kernel='linear')\n",
        "svm_model.fit(x_train_tfidf, y_train)\n",
        "\n",
        "y_pred = svm_model.predict(x_test_tfidf)\n",
        "accuracy = accuracy_score(y_test, y_pred)\n",
        "report = classification_report(y_test, y_pred)\n",
        "\n",
        "print(\"Akurasi:\", accuracy)\n",
        "print(\"Classification Report:\\n\", report)"
      ]
    },
    {
      "cell_type": "code",
      "execution_count": 16,
      "metadata": {
        "colab": {
          "base_uri": "https://localhost:8080/"
        },
        "id": "9mrkvyhUk4fp",
        "outputId": "07f9355b-3f34-4ea9-8639-f3ebf1f2922c"
      },
      "outputs": [
        {
          "name": "stdout",
          "output_type": "stream",
          "text": [
            "Model SVM telah disimpan dalam file svm_model.pkl\n"
          ]
        }
      ],
      "source": [
        "import joblib\n",
        "\n",
        "# Simpan model SVM ke dalam file .pkl\n",
        "model_filename = 'svm_model.pkl'\n",
        "joblib.dump(svm_model, model_filename)\n",
        "\n",
        "print(f\"Model SVM telah disimpan dalam file {model_filename}\")"
      ]
    },
    {
      "cell_type": "code",
      "execution_count": 17,
      "metadata": {
        "colab": {
          "base_uri": "https://localhost:8080/"
        },
        "id": "pv8lcfxq7hCK",
        "outputId": "1fcf28fc-3156-4492-c1a2-75217ce35e3e"
      },
      "outputs": [
        {
          "data": {
            "text/plain": [
              "array([[723,  12],\n",
              "       [  5, 295]], dtype=int64)"
            ]
          },
          "execution_count": 17,
          "metadata": {},
          "output_type": "execute_result"
        }
      ],
      "source": [
        "from sklearn import metrics\n",
        "metrics.confusion_matrix(y_true=y_test, y_pred=y_pred)"
      ]
    },
    {
      "cell_type": "code",
      "execution_count": 18,
      "metadata": {
        "colab": {
          "base_uri": "https://localhost:8080/"
        },
        "id": "0r_sM4eE7l4s",
        "outputId": "981acd79-3705-4c12-94e1-4cc5cf348f7f"
      },
      "outputs": [
        {
          "name": "stdout",
          "output_type": "stream",
          "text": [
            "accuracy 0.9835748792270531\n",
            "precision 0.9609120521172638\n",
            "recall 0.9833333333333333\n",
            "F1-Score 0.971993410214168\n"
          ]
        }
      ],
      "source": [
        "# accuracy\n",
        "print(\"accuracy\", metrics.accuracy_score(y_test, y_pred))\n",
        "# precision\n",
        "print(\"precision\", metrics.precision_score(y_test, y_pred))\n",
        "# recall\n",
        "print(\"recall\", metrics.recall_score(y_test, y_pred))\n",
        "# F1-Score\n",
        "print(\"F1-Score\", metrics.f1_score(y_test, y_pred))"
      ]
    },
    {
      "cell_type": "code",
      "execution_count": 19,
      "metadata": {
        "colab": {
          "base_uri": "https://localhost:8080/"
        },
        "id": "itIPJk6Y7oqE",
        "outputId": "1b39150c-5374-4057-e82c-f8a5976f34b8"
      },
      "outputs": [
        {
          "name": "stdout",
          "output_type": "stream",
          "text": [
            "specificity 0.9836660617059891\n"
          ]
        }
      ],
      "source": [
        "# spesifisitas (% ham yang diklasifikasikan)\\\n",
        "# kalkulasi dengan rumus a/(a+b)\n",
        "# a = baris pertama kolom pertama\n",
        "# b = baris pertama kolom kedua\n",
        "print(\"specificity\", 1084/(1084+18))"
      ]
    },
    {
      "cell_type": "code",
      "execution_count": 20,
      "metadata": {
        "id": "Eov16IV-3Y6i"
      },
      "outputs": [],
      "source": [
        "# membuat objek KFold dengan 5 pemisahan\n",
        "folds = KFold(n_splits = 5, shuffle = True, random_state = 0)\n",
        "# menginstansiasi sebuah model dengan biaya = 1\n",
        "model = SVC(C = 1)"
      ]
    },
    {
      "cell_type": "code",
      "execution_count": 21,
      "metadata": {
        "id": "xOshebNe3ayB"
      },
      "outputs": [],
      "source": [
        "# menghitung skor validasi silang\n",
        "cv_results = cross_val_score(model, x_train_tfidf, y_train, cv = folds, scoring = 'accuracy')"
      ]
    },
    {
      "cell_type": "code",
      "execution_count": 22,
      "metadata": {
        "colab": {
          "base_uri": "https://localhost:8080/"
        },
        "id": "kgqHSZ423cWJ",
        "outputId": "ba705d10-dc8b-4308-9192-af0e1aa8a1e9"
      },
      "outputs": [
        {
          "name": "stdout",
          "output_type": "stream",
          "text": [
            "[0.98309179 0.98428053 0.99032648 0.98307134 0.98428053]\n",
            "rata-rata akurasi = 0.9850101349969916\n"
          ]
        }
      ],
      "source": [
        "# print 5 akurasi yang diperoleh dari 5 lipatan\n",
        "print(cv_results)\n",
        "print(\"rata-rata akurasi = {}\".format(cv_results.mean()))"
      ]
    },
    {
      "cell_type": "code",
      "execution_count": 23,
      "metadata": {
        "id": "VaZDdBw61pqT"
      },
      "outputs": [],
      "source": [
        "params = {\"C\": [0.1, 1, 10, 100]}\n",
        "\n",
        "model = SVC()\n",
        "\n",
        "# mengatur skema pencarian grid\n",
        "# perhatikan bahwa kita masih menggunakan skema CV 5 kali lipat yang telah kita siapkan sebelumnya\n",
        "model_cv = GridSearchCV(estimator = model, param_grid = params,\n",
        "                        scoring= 'accuracy',\n",
        "                        cv = folds,\n",
        "                        verbose = 1,\n",
        "                       return_train_score=True)"
      ]
    },
    {
      "cell_type": "code",
      "execution_count": 24,
      "metadata": {
        "colab": {
          "base_uri": "https://localhost:8080/",
          "height": 158
        },
        "id": "I6hGqJZa32Wg",
        "outputId": "57a7bb65-0b41-415f-cd20-56e80687a548"
      },
      "outputs": [
        {
          "name": "stdout",
          "output_type": "stream",
          "text": [
            "Fitting 5 folds for each of 4 candidates, totalling 20 fits\n"
          ]
        },
        {
          "data": {
            "text/html": [
              "<style>#sk-container-id-1 {color: black;}#sk-container-id-1 pre{padding: 0;}#sk-container-id-1 div.sk-toggleable {background-color: white;}#sk-container-id-1 label.sk-toggleable__label {cursor: pointer;display: block;width: 100%;margin-bottom: 0;padding: 0.3em;box-sizing: border-box;text-align: center;}#sk-container-id-1 label.sk-toggleable__label-arrow:before {content: \"▸\";float: left;margin-right: 0.25em;color: #696969;}#sk-container-id-1 label.sk-toggleable__label-arrow:hover:before {color: black;}#sk-container-id-1 div.sk-estimator:hover label.sk-toggleable__label-arrow:before {color: black;}#sk-container-id-1 div.sk-toggleable__content {max-height: 0;max-width: 0;overflow: hidden;text-align: left;background-color: #f0f8ff;}#sk-container-id-1 div.sk-toggleable__content pre {margin: 0.2em;color: black;border-radius: 0.25em;background-color: #f0f8ff;}#sk-container-id-1 input.sk-toggleable__control:checked~div.sk-toggleable__content {max-height: 200px;max-width: 100%;overflow: auto;}#sk-container-id-1 input.sk-toggleable__control:checked~label.sk-toggleable__label-arrow:before {content: \"▾\";}#sk-container-id-1 div.sk-estimator input.sk-toggleable__control:checked~label.sk-toggleable__label {background-color: #d4ebff;}#sk-container-id-1 div.sk-label input.sk-toggleable__control:checked~label.sk-toggleable__label {background-color: #d4ebff;}#sk-container-id-1 input.sk-hidden--visually {border: 0;clip: rect(1px 1px 1px 1px);clip: rect(1px, 1px, 1px, 1px);height: 1px;margin: -1px;overflow: hidden;padding: 0;position: absolute;width: 1px;}#sk-container-id-1 div.sk-estimator {font-family: monospace;background-color: #f0f8ff;border: 1px dotted black;border-radius: 0.25em;box-sizing: border-box;margin-bottom: 0.5em;}#sk-container-id-1 div.sk-estimator:hover {background-color: #d4ebff;}#sk-container-id-1 div.sk-parallel-item::after {content: \"\";width: 100%;border-bottom: 1px solid gray;flex-grow: 1;}#sk-container-id-1 div.sk-label:hover label.sk-toggleable__label {background-color: #d4ebff;}#sk-container-id-1 div.sk-serial::before {content: \"\";position: absolute;border-left: 1px solid gray;box-sizing: border-box;top: 0;bottom: 0;left: 50%;z-index: 0;}#sk-container-id-1 div.sk-serial {display: flex;flex-direction: column;align-items: center;background-color: white;padding-right: 0.2em;padding-left: 0.2em;position: relative;}#sk-container-id-1 div.sk-item {position: relative;z-index: 1;}#sk-container-id-1 div.sk-parallel {display: flex;align-items: stretch;justify-content: center;background-color: white;position: relative;}#sk-container-id-1 div.sk-item::before, #sk-container-id-1 div.sk-parallel-item::before {content: \"\";position: absolute;border-left: 1px solid gray;box-sizing: border-box;top: 0;bottom: 0;left: 50%;z-index: -1;}#sk-container-id-1 div.sk-parallel-item {display: flex;flex-direction: column;z-index: 1;position: relative;background-color: white;}#sk-container-id-1 div.sk-parallel-item:first-child::after {align-self: flex-end;width: 50%;}#sk-container-id-1 div.sk-parallel-item:last-child::after {align-self: flex-start;width: 50%;}#sk-container-id-1 div.sk-parallel-item:only-child::after {width: 0;}#sk-container-id-1 div.sk-dashed-wrapped {border: 1px dashed gray;margin: 0 0.4em 0.5em 0.4em;box-sizing: border-box;padding-bottom: 0.4em;background-color: white;}#sk-container-id-1 div.sk-label label {font-family: monospace;font-weight: bold;display: inline-block;line-height: 1.2em;}#sk-container-id-1 div.sk-label-container {text-align: center;}#sk-container-id-1 div.sk-container {/* jupyter's `normalize.less` sets `[hidden] { display: none; }` but bootstrap.min.css set `[hidden] { display: none !important; }` so we also need the `!important` here to be able to override the default hidden behavior on the sphinx rendered scikit-learn.org. See: https://github.com/scikit-learn/scikit-learn/issues/21755 */display: inline-block !important;position: relative;}#sk-container-id-1 div.sk-text-repr-fallback {display: none;}</style><div id=\"sk-container-id-1\" class=\"sk-top-container\"><div class=\"sk-text-repr-fallback\"><pre>GridSearchCV(cv=KFold(n_splits=5, random_state=0, shuffle=True),\n",
              "             estimator=SVC(), param_grid={&#x27;C&#x27;: [0.1, 1, 10, 100]},\n",
              "             return_train_score=True, scoring=&#x27;accuracy&#x27;, verbose=1)</pre><b>In a Jupyter environment, please rerun this cell to show the HTML representation or trust the notebook. <br />On GitHub, the HTML representation is unable to render, please try loading this page with nbviewer.org.</b></div><div class=\"sk-container\" hidden><div class=\"sk-item sk-dashed-wrapped\"><div class=\"sk-label-container\"><div class=\"sk-label sk-toggleable\"><input class=\"sk-toggleable__control sk-hidden--visually\" id=\"sk-estimator-id-1\" type=\"checkbox\" ><label for=\"sk-estimator-id-1\" class=\"sk-toggleable__label sk-toggleable__label-arrow\">GridSearchCV</label><div class=\"sk-toggleable__content\"><pre>GridSearchCV(cv=KFold(n_splits=5, random_state=0, shuffle=True),\n",
              "             estimator=SVC(), param_grid={&#x27;C&#x27;: [0.1, 1, 10, 100]},\n",
              "             return_train_score=True, scoring=&#x27;accuracy&#x27;, verbose=1)</pre></div></div></div><div class=\"sk-parallel\"><div class=\"sk-parallel-item\"><div class=\"sk-item\"><div class=\"sk-label-container\"><div class=\"sk-label sk-toggleable\"><input class=\"sk-toggleable__control sk-hidden--visually\" id=\"sk-estimator-id-2\" type=\"checkbox\" ><label for=\"sk-estimator-id-2\" class=\"sk-toggleable__label sk-toggleable__label-arrow\">estimator: SVC</label><div class=\"sk-toggleable__content\"><pre>SVC()</pre></div></div></div><div class=\"sk-serial\"><div class=\"sk-item\"><div class=\"sk-estimator sk-toggleable\"><input class=\"sk-toggleable__control sk-hidden--visually\" id=\"sk-estimator-id-3\" type=\"checkbox\" ><label for=\"sk-estimator-id-3\" class=\"sk-toggleable__label sk-toggleable__label-arrow\">SVC</label><div class=\"sk-toggleable__content\"><pre>SVC()</pre></div></div></div></div></div></div></div></div></div></div>"
            ],
            "text/plain": [
              "GridSearchCV(cv=KFold(n_splits=5, random_state=0, shuffle=True),\n",
              "             estimator=SVC(), param_grid={'C': [0.1, 1, 10, 100]},\n",
              "             return_train_score=True, scoring='accuracy', verbose=1)"
            ]
          },
          "execution_count": 24,
          "metadata": {},
          "output_type": "execute_result"
        }
      ],
      "source": [
        "# cocok dengan model - model ini akan cocok dengan 5 lipatan di semua nilai C\n",
        "model_cv.fit(x_train_tfidf, y_train)"
      ]
    },
    {
      "cell_type": "code",
      "execution_count": 25,
      "metadata": {
        "colab": {
          "base_uri": "https://localhost:8080/",
          "height": 276
        },
        "id": "kMrWh7_24Sof",
        "outputId": "e630e96b-bcaa-40e6-f6bd-e8ff62423626"
      },
      "outputs": [
        {
          "data": {
            "text/html": [
              "<div>\n",
              "<style scoped>\n",
              "    .dataframe tbody tr th:only-of-type {\n",
              "        vertical-align: middle;\n",
              "    }\n",
              "\n",
              "    .dataframe tbody tr th {\n",
              "        vertical-align: top;\n",
              "    }\n",
              "\n",
              "    .dataframe thead th {\n",
              "        text-align: right;\n",
              "    }\n",
              "</style>\n",
              "<table border=\"1\" class=\"dataframe\">\n",
              "  <thead>\n",
              "    <tr style=\"text-align: right;\">\n",
              "      <th></th>\n",
              "      <th>mean_fit_time</th>\n",
              "      <th>std_fit_time</th>\n",
              "      <th>mean_score_time</th>\n",
              "      <th>std_score_time</th>\n",
              "      <th>param_C</th>\n",
              "      <th>params</th>\n",
              "      <th>split0_test_score</th>\n",
              "      <th>split1_test_score</th>\n",
              "      <th>split2_test_score</th>\n",
              "      <th>split3_test_score</th>\n",
              "      <th>...</th>\n",
              "      <th>mean_test_score</th>\n",
              "      <th>std_test_score</th>\n",
              "      <th>rank_test_score</th>\n",
              "      <th>split0_train_score</th>\n",
              "      <th>split1_train_score</th>\n",
              "      <th>split2_train_score</th>\n",
              "      <th>split3_train_score</th>\n",
              "      <th>split4_train_score</th>\n",
              "      <th>mean_train_score</th>\n",
              "      <th>std_train_score</th>\n",
              "    </tr>\n",
              "  </thead>\n",
              "  <tbody>\n",
              "    <tr>\n",
              "      <th>0</th>\n",
              "      <td>8.316382</td>\n",
              "      <td>1.549002</td>\n",
              "      <td>1.651432</td>\n",
              "      <td>0.268115</td>\n",
              "      <td>0.1</td>\n",
              "      <td>{'C': 0.1}</td>\n",
              "      <td>0.719807</td>\n",
              "      <td>0.732769</td>\n",
              "      <td>0.711004</td>\n",
              "      <td>0.766626</td>\n",
              "      <td>...</td>\n",
              "      <td>0.727033</td>\n",
              "      <td>0.021895</td>\n",
              "      <td>4</td>\n",
              "      <td>0.733071</td>\n",
              "      <td>0.73285</td>\n",
              "      <td>0.734059</td>\n",
              "      <td>0.728317</td>\n",
              "      <td>0.737383</td>\n",
              "      <td>0.733136</td>\n",
              "      <td>0.002905</td>\n",
              "    </tr>\n",
              "    <tr>\n",
              "      <th>1</th>\n",
              "      <td>6.175561</td>\n",
              "      <td>1.033364</td>\n",
              "      <td>1.262880</td>\n",
              "      <td>0.066216</td>\n",
              "      <td>1</td>\n",
              "      <td>{'C': 1}</td>\n",
              "      <td>0.983092</td>\n",
              "      <td>0.984281</td>\n",
              "      <td>0.990326</td>\n",
              "      <td>0.983071</td>\n",
              "      <td>...</td>\n",
              "      <td>0.985010</td>\n",
              "      <td>0.002712</td>\n",
              "      <td>3</td>\n",
              "      <td>1.000000</td>\n",
              "      <td>1.00000</td>\n",
              "      <td>1.000000</td>\n",
              "      <td>1.000000</td>\n",
              "      <td>1.000000</td>\n",
              "      <td>1.000000</td>\n",
              "      <td>0.000000</td>\n",
              "    </tr>\n",
              "    <tr>\n",
              "      <th>2</th>\n",
              "      <td>8.010889</td>\n",
              "      <td>0.410564</td>\n",
              "      <td>1.260738</td>\n",
              "      <td>0.031952</td>\n",
              "      <td>10</td>\n",
              "      <td>{'C': 10}</td>\n",
              "      <td>0.986715</td>\n",
              "      <td>0.984281</td>\n",
              "      <td>0.992745</td>\n",
              "      <td>0.984281</td>\n",
              "      <td>...</td>\n",
              "      <td>0.986944</td>\n",
              "      <td>0.003097</td>\n",
              "      <td>1</td>\n",
              "      <td>1.000000</td>\n",
              "      <td>1.00000</td>\n",
              "      <td>1.000000</td>\n",
              "      <td>1.000000</td>\n",
              "      <td>1.000000</td>\n",
              "      <td>1.000000</td>\n",
              "      <td>0.000000</td>\n",
              "    </tr>\n",
              "    <tr>\n",
              "      <th>3</th>\n",
              "      <td>10.865883</td>\n",
              "      <td>3.003775</td>\n",
              "      <td>1.738161</td>\n",
              "      <td>0.578305</td>\n",
              "      <td>100</td>\n",
              "      <td>{'C': 100}</td>\n",
              "      <td>0.986715</td>\n",
              "      <td>0.984281</td>\n",
              "      <td>0.992745</td>\n",
              "      <td>0.984281</td>\n",
              "      <td>...</td>\n",
              "      <td>0.986944</td>\n",
              "      <td>0.003097</td>\n",
              "      <td>1</td>\n",
              "      <td>1.000000</td>\n",
              "      <td>1.00000</td>\n",
              "      <td>1.000000</td>\n",
              "      <td>1.000000</td>\n",
              "      <td>1.000000</td>\n",
              "      <td>1.000000</td>\n",
              "      <td>0.000000</td>\n",
              "    </tr>\n",
              "  </tbody>\n",
              "</table>\n",
              "<p>4 rows × 21 columns</p>\n",
              "</div>"
            ],
            "text/plain": [
              "   mean_fit_time  std_fit_time  mean_score_time  std_score_time param_C   \n",
              "0       8.316382      1.549002         1.651432        0.268115     0.1  \\\n",
              "1       6.175561      1.033364         1.262880        0.066216       1   \n",
              "2       8.010889      0.410564         1.260738        0.031952      10   \n",
              "3      10.865883      3.003775         1.738161        0.578305     100   \n",
              "\n",
              "       params  split0_test_score  split1_test_score  split2_test_score   \n",
              "0  {'C': 0.1}           0.719807           0.732769           0.711004  \\\n",
              "1    {'C': 1}           0.983092           0.984281           0.990326   \n",
              "2   {'C': 10}           0.986715           0.984281           0.992745   \n",
              "3  {'C': 100}           0.986715           0.984281           0.992745   \n",
              "\n",
              "   split3_test_score  ...  mean_test_score  std_test_score  rank_test_score   \n",
              "0           0.766626  ...         0.727033        0.021895                4  \\\n",
              "1           0.983071  ...         0.985010        0.002712                3   \n",
              "2           0.984281  ...         0.986944        0.003097                1   \n",
              "3           0.984281  ...         0.986944        0.003097                1   \n",
              "\n",
              "   split0_train_score  split1_train_score  split2_train_score   \n",
              "0            0.733071             0.73285            0.734059  \\\n",
              "1            1.000000             1.00000            1.000000   \n",
              "2            1.000000             1.00000            1.000000   \n",
              "3            1.000000             1.00000            1.000000   \n",
              "\n",
              "   split3_train_score  split4_train_score  mean_train_score  std_train_score  \n",
              "0            0.728317            0.737383          0.733136         0.002905  \n",
              "1            1.000000            1.000000          1.000000         0.000000  \n",
              "2            1.000000            1.000000          1.000000         0.000000  \n",
              "3            1.000000            1.000000          1.000000         0.000000  \n",
              "\n",
              "[4 rows x 21 columns]"
            ]
          },
          "execution_count": 25,
          "metadata": {},
          "output_type": "execute_result"
        }
      ],
      "source": [
        "cv_results = pd.DataFrame(model_cv.cv_results_)\n",
        "cv_results"
      ]
    },
    {
      "cell_type": "code",
      "execution_count": 26,
      "metadata": {
        "colab": {
          "base_uri": "https://localhost:8080/",
          "height": 546
        },
        "id": "y3jaJB5O405o",
        "outputId": "98815530-9de2-4ddf-d50e-55d5f6ea4157"
      },
      "outputs": [
        {
          "data": {
            "image/png": "[encoded data removed]",
            "text/plain": [
              "<Figure size 800x600 with 1 Axes>"
            ]
          },
          "metadata": {},
          "output_type": "display_data"
        }
      ],
      "source": [
        "plt.figure(figsize=(8, 6))\n",
        "plt.plot(cv_results['param_C'], cv_results['mean_test_score'])\n",
        "plt.plot(cv_results['param_C'], cv_results['mean_train_score'])\n",
        "plt.xlabel('C')\n",
        "plt.ylabel('Accuracy')\n",
        "plt.legend(['test accuracy', 'train accuracy'], loc='upper left')\n",
        "plt.xscale('log')"
      ]
    },
    {
      "cell_type": "code",
      "execution_count": 27,
      "metadata": {
        "colab": {
          "base_uri": "https://localhost:8080/"
        },
        "id": "BPBkUezZ47mW",
        "outputId": "87a50abe-0f56-470f-ff09-5fd6722a0779"
      },
      "outputs": [
        {
          "name": "stdout",
          "output_type": "stream",
          "text": [
            " Akurasi test tertinggi adalah 0.9869439625209564 dengan C = 10\n"
          ]
        }
      ],
      "source": [
        "best_score = model_cv.best_score_\n",
        "best_C = model_cv.best_params_['C']\n",
        "\n",
        "print(\" Akurasi test tertinggi adalah {0} dengan C = {1}\".format(best_score, best_C))"
      ]
    },
    {
      "cell_type": "markdown",
      "metadata": {
        "id": "awRddhNB5H1G"
      },
      "source": [
        "# metrik yang berhubungan dengan C=10."
      ]
    },
    {
      "cell_type": "code",
      "execution_count": 28,
      "metadata": {
        "id": "1G0hCBcZ5E_j"
      },
      "outputs": [],
      "source": [
        "model = SVC(C=best_C)\n",
        "model.fit(x_train_tfidf, y_train)\n",
        "y_pred = model.predict(x_test_tfidf)"
      ]
    },
    {
      "cell_type": "code",
      "execution_count": 29,
      "metadata": {
        "colab": {
          "base_uri": "https://localhost:8080/"
        },
        "id": "0V7QB4ba5WHO",
        "outputId": "2050f8f2-d30a-4235-c7ae-81311a235fc5"
      },
      "outputs": [
        {
          "name": "stdout",
          "output_type": "stream",
          "text": [
            "accuracy 0.9835748792270531\n",
            "precision 0.9609120521172638\n",
            "recall 0.9833333333333333\n",
            "F1-Score 0.971993410214168\n"
          ]
        }
      ],
      "source": [
        "# metrics\n",
        "print(\"accuracy\", metrics.accuracy_score(y_test, y_pred))\n",
        "print(\"precision\", metrics.precision_score(y_test, y_pred))\n",
        "print(\"recall\", metrics.recall_score(y_test, y_pred))\n",
        "print(\"F1-Score\", metrics.f1_score(y_test, y_pred))"
      ]
    },
    {
      "cell_type": "code",
      "execution_count": 30,
      "metadata": {
        "id": "toW2xmQEaeD2"
      },
      "outputs": [],
      "source": [
        "import pickle\n",
        "\n",
        "# Membaca data dari file CSV\n",
        "train_data = pd.read_csv('train_data_spam_ham.csv')\n",
        "test_data = pd.read_csv('test_data_spam_ham.csv')\n",
        "\n",
        "# Menyimpan DataFrame ke dalam file pickle\n",
        "train_data.to_pickle('train_data_spam_ham.pkl')\n",
        "test_data.to_pickle('test_data_spam_ham.pkl')"
      ]
    },
    {
      "cell_type": "markdown",
      "metadata": {
        "id": "S5zSZFjL3S1p"
      },
      "source": [
        "**Confusion Matrix**"
      ]
    },
    {
      "cell_type": "markdown",
      "metadata": {
        "id": "D-wnjArG7JLr"
      },
      "source": [
        "# TUNING"
      ]
    },
    {
      "cell_type": "code",
      "execution_count": 43,
      "metadata": {},
      "outputs": [
        {
          "name": "stdout",
          "output_type": "stream",
          "text": [
            "# Tuning hyper-parameters for accuracy\n"
          ]
        },
        {
          "data": {
            "image/png": "[encoded data removed]",
            "text/plain": [
              "<Figure size 640x480 with 1 Axes>"
            ]
          },
          "metadata": {},
          "output_type": "display_data"
        },
        {
          "name": "stdout",
          "output_type": "stream",
          "text": [
            " accuracy Score is 0.9869439625209564 at C = {'C': 10}\n",
            "\n",
            "Classification Report:\n",
            "              precision    recall  f1-score   support\n",
            "\n",
            "           0       0.99      0.98      0.99       735\n",
            "           1       0.96      0.98      0.97       300\n",
            "\n",
            "    accuracy                           0.98      1035\n",
            "   macro avg       0.98      0.98      0.98      1035\n",
            "weighted avg       0.98      0.98      0.98      1035\n",
            "\n",
            "\n",
            "\n",
            "# Tuning hyper-parameters for precision\n"
          ]
        },
        {
          "data": {
            "image/png": "[encoded data removed]",
            "text/plain": [
              "<Figure size 640x480 with 1 Axes>"
            ]
          },
          "metadata": {},
          "output_type": "display_data"
        },
        {
          "name": "stdout",
          "output_type": "stream",
          "text": [
            " precision Score is 1.0 at C = {'C': 0.1}\n",
            "\n",
            "Classification Report:\n",
            "              precision    recall  f1-score   support\n",
            "\n",
            "           0       0.74      1.00      0.85       735\n",
            "           1       1.00      0.16      0.27       300\n",
            "\n",
            "    accuracy                           0.76      1035\n",
            "   macro avg       0.87      0.58      0.56      1035\n",
            "weighted avg       0.82      0.76      0.68      1035\n",
            "\n",
            "\n",
            "\n",
            "# Tuning hyper-parameters for recall\n"
          ]
        },
        {
          "data": {
            "image/png": "[encoded data removed]",
            "text/plain": [
              "<Figure size 640x480 with 1 Axes>"
            ]
          },
          "metadata": {},
          "output_type": "display_data"
        },
        {
          "name": "stdout",
          "output_type": "stream",
          "text": [
            " recall Score is 0.99273706203793 at C = {'C': 1}\n",
            "\n",
            "Classification Report:\n",
            "              precision    recall  f1-score   support\n",
            "\n",
            "           0       0.99      0.98      0.99       735\n",
            "           1       0.96      0.98      0.97       300\n",
            "\n",
            "    accuracy                           0.98      1035\n",
            "   macro avg       0.98      0.98      0.98      1035\n",
            "weighted avg       0.98      0.98      0.98      1035\n",
            "\n",
            "\n",
            "\n",
            "# Tuning hyper-parameters for f1\n"
          ]
        },
        {
          "data": {
            "image/png": "[encoded data removed]",
            "text/plain": [
              "<Figure size 640x480 with 1 Axes>"
            ]
          },
          "metadata": {},
          "output_type": "display_data"
        },
        {
          "name": "stdout",
          "output_type": "stream",
          "text": [
            " f1 Score is 0.9775061931941366 at C = {'C': 10}\n",
            "\n",
            "Classification Report:\n",
            "              precision    recall  f1-score   support\n",
            "\n",
            "           0       0.99      0.98      0.99       735\n",
            "           1       0.96      0.98      0.97       300\n",
            "\n",
            "    accuracy                           0.98      1035\n",
            "   macro avg       0.98      0.98      0.98      1035\n",
            "weighted avg       0.98      0.98      0.98      1035\n",
            "\n",
            "\n",
            "\n"
          ]
        }
      ],
      "source": [
        "from sklearn.svm import SVC\n",
        "from sklearn.model_selection import GridSearchCV\n",
        "from sklearn.metrics import confusion_matrix, classification_report\n",
        "import numpy as np\n",
        "import seaborn as sns\n",
        "import matplotlib.pyplot as plt\n",
        "\n",
        "# Specify parameters\n",
        "params = {\"C\": [0.1, 1, 10, 100]}\n",
        "\n",
        "# Specify scores/metrics in an iterable\n",
        "scores = ['accuracy', 'precision', 'recall', 'f1']\n",
        "\n",
        "for score in scores:\n",
        "    print(\"# Tuning hyper-parameters for {}\".format(score))\n",
        "\n",
        "    # Set up GridSearch for score metric\n",
        "    clf = GridSearchCV(SVC(),\n",
        "                       params,\n",
        "                       cv=folds,\n",
        "                       scoring=score,\n",
        "                       return_train_score=True)\n",
        "\n",
        "    # Fit\n",
        "    clf.fit(x_train_tfidf, y_train)\n",
        "\n",
        "    # Predictions on the test set\n",
        "    y_test_pred = clf.predict(x_test_tfidf)\n",
        "\n",
        "    # Calculate confusion matrix\n",
        "    conf_matrix = confusion_matrix(y_test, y_test_pred)\n",
        "\n",
        "    # Display confusion matrix using seaborn heatmap\n",
        "    sns.heatmap(conf_matrix, annot=True, fmt='d', cmap='Blues', cbar=False)\n",
        "    plt.title(f'Confusion Matrix - {score}')\n",
        "    plt.show()\n",
        "\n",
        "    print(\" {0} Score is {1} at C = {2}\".format(score, clf.best_score_, clf.best_params_))\n",
        "    print(\"\\nClassification Report:\")\n",
        "    print(classification_report(y_test, y_test_pred))\n",
        "    print(\"\\n\")\n"
      ]
    },
    {
      "cell_type": "code",
      "execution_count": null,
      "metadata": {},
      "outputs": [],
      "source": []
    }
  ],
  "metadata": {
    "colab": {
      "provenance": []
    },
    "kernelspec": {
      "display_name": "Python 3",
      "name": "python3"
    },
    "language_info": {
      "codemirror_mode": {
        "name": "ipython",
        "version": 3
      },
      "file_extension": ".py",
      "mimetype": "text/x-python",
      "name": "python",
      "nbconvert_exporter": "python",
      "pygments_lexer": "ipython3",
      "version": "3.11.2"
    }
  },
  "nbformat": 4,
  "nbformat_minor": 0
}
