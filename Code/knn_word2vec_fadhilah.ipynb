{
  "cells": [
    {
      "cell_type": "markdown",
      "id": "XbZqePPR1Oas",
      "metadata": {
        "id": "XbZqePPR1Oas"
      },
      "source": [
        "## <center>**Deteksi spam email menggunakan word2vec**</center>"
      ]
    },
    {
      "cell_type": "code",
      "execution_count": 29,
      "id": "a24649fa",
      "metadata": {
        "_cell_guid": "b1076dfc-b9ad-4769-8c92-a6c4dae69d19",
        "_uuid": "8f2839f25d086af736a60e9eeb907d3b93b6e0e5",
        "execution": {
          "iopub.execute_input": "2021-11-05T04:49:02.604453Z",
          "iopub.status.busy": "2021-11-05T04:49:02.602710Z",
          "iopub.status.idle": "2021-11-05T04:49:02.631859Z",
          "shell.execute_reply": "2021-11-05T04:49:02.630681Z",
          "shell.execute_reply.started": "2021-11-05T04:43:16.245096Z"
        },
        "id": "a24649fa",
        "papermill": {
          "duration": 0.060779,
          "end_time": "2021-11-05T04:49:02.632140",
          "exception": false,
          "start_time": "2021-11-05T04:49:02.571361",
          "status": "completed"
        },
        "tags": []
      },
      "outputs": [],
      "source": [
        "import numpy as np\n",
        "import pandas as pd"
      ]
    },
    {
      "cell_type": "markdown",
      "id": "fd84ec0f",
      "metadata": {
        "id": "fd84ec0f",
        "papermill": {
          "duration": 0.029263,
          "end_time": "2021-11-05T04:49:02.691932",
          "exception": false,
          "start_time": "2021-11-05T04:49:02.662669",
          "status": "completed"
        },
        "tags": []
      },
      "source": [
        "## <center> Observing Data</center>"
      ]
    },
    {
      "cell_type": "code",
      "execution_count": 30,
      "id": "6bd5e11b",
      "metadata": {
        "colab": {
          "base_uri": "https://localhost:8080/",
          "height": 477
        },
        "execution": {
          "iopub.execute_input": "2021-11-05T04:49:02.882843Z",
          "iopub.status.busy": "2021-11-05T04:49:02.882209Z",
          "iopub.status.idle": "2021-11-05T04:49:03.059109Z",
          "shell.execute_reply": "2021-11-05T04:49:03.059581Z",
          "shell.execute_reply.started": "2021-11-05T04:43:16.289434Z"
        },
        "id": "6bd5e11b",
        "outputId": "6d456d6d-afe4-4cff-8773-50c285dc11b0",
        "papermill": {
          "duration": 0.209588,
          "end_time": "2021-11-05T04:49:03.059755",
          "exception": false,
          "start_time": "2021-11-05T04:49:02.850167",
          "status": "completed"
        },
        "tags": []
      },
      "outputs": [
        {
          "data": {
            "text/html": [
              "<div>\n",
              "<style scoped>\n",
              "    .dataframe tbody tr th:only-of-type {\n",
              "        vertical-align: middle;\n",
              "    }\n",
              "\n",
              "    .dataframe tbody tr th {\n",
              "        vertical-align: top;\n",
              "    }\n",
              "\n",
              "    .dataframe thead th {\n",
              "        text-align: right;\n",
              "    }\n",
              "</style>\n",
              "<table border=\"1\" class=\"dataframe\">\n",
              "  <thead>\n",
              "    <tr style=\"text-align: right;\">\n",
              "      <th></th>\n",
              "      <th>Unnamed: 0</th>\n",
              "      <th>label</th>\n",
              "      <th>text</th>\n",
              "      <th>label_num</th>\n",
              "    </tr>\n",
              "  </thead>\n",
              "  <tbody>\n",
              "    <tr>\n",
              "      <th>0</th>\n",
              "      <td>605</td>\n",
              "      <td>ham</td>\n",
              "      <td>Subject: enron methanol ; meter # : 988291\\r\\n...</td>\n",
              "      <td>0</td>\n",
              "    </tr>\n",
              "    <tr>\n",
              "      <th>1</th>\n",
              "      <td>2349</td>\n",
              "      <td>ham</td>\n",
              "      <td>Subject: hpl nom for january 9 , 2001\\r\\n( see...</td>\n",
              "      <td>0</td>\n",
              "    </tr>\n",
              "    <tr>\n",
              "      <th>2</th>\n",
              "      <td>3624</td>\n",
              "      <td>ham</td>\n",
              "      <td>Subject: neon retreat\\r\\nho ho ho , we ' re ar...</td>\n",
              "      <td>0</td>\n",
              "    </tr>\n",
              "    <tr>\n",
              "      <th>3</th>\n",
              "      <td>4685</td>\n",
              "      <td>spam</td>\n",
              "      <td>Subject: photoshop , windows , office . cheap ...</td>\n",
              "      <td>1</td>\n",
              "    </tr>\n",
              "    <tr>\n",
              "      <th>4</th>\n",
              "      <td>2030</td>\n",
              "      <td>ham</td>\n",
              "      <td>Subject: re : indian springs\\r\\nthis deal is t...</td>\n",
              "      <td>0</td>\n",
              "    </tr>\n",
              "  </tbody>\n",
              "</table>\n",
              "</div>"
            ],
            "text/plain": [
              "   Unnamed: 0 label                                               text   \n",
              "0         605   ham  Subject: enron methanol ; meter # : 988291\\r\\n...  \\\n",
              "1        2349   ham  Subject: hpl nom for january 9 , 2001\\r\\n( see...   \n",
              "2        3624   ham  Subject: neon retreat\\r\\nho ho ho , we ' re ar...   \n",
              "3        4685  spam  Subject: photoshop , windows , office . cheap ...   \n",
              "4        2030   ham  Subject: re : indian springs\\r\\nthis deal is t...   \n",
              "\n",
              "   label_num  \n",
              "0          0  \n",
              "1          0  \n",
              "2          0  \n",
              "3          1  \n",
              "4          0  "
            ]
          },
          "execution_count": 30,
          "metadata": {},
          "output_type": "execute_result"
        }
      ],
      "source": [
        "df=pd.read_csv('spam_ham_dataset.csv')\n",
        "df.head()"
      ]
    },
    {
      "cell_type": "markdown",
      "id": "0afaa9e9",
      "metadata": {
        "id": "0afaa9e9",
        "papermill": {
          "duration": 0.02858,
          "end_time": "2021-11-05T04:49:03.117381",
          "exception": false,
          "start_time": "2021-11-05T04:49:03.088801",
          "status": "completed"
        },
        "tags": []
      },
      "source": [
        "**Memahami tipe data kolom dalam dataframe**"
      ]
    },
    {
      "cell_type": "code",
      "execution_count": 31,
      "id": "5520f3d9",
      "metadata": {
        "colab": {
          "base_uri": "https://localhost:8080/"
        },
        "execution": {
          "iopub.execute_input": "2021-11-05T04:49:03.188409Z",
          "iopub.status.busy": "2021-11-05T04:49:03.187693Z",
          "iopub.status.idle": "2021-11-05T04:49:03.213662Z",
          "shell.execute_reply": "2021-11-05T04:49:03.213074Z",
          "shell.execute_reply.started": "2021-11-05T04:43:16.440530Z"
        },
        "id": "5520f3d9",
        "outputId": "f0c0ca27-e039-440b-d0da-a5a27611356b",
        "papermill": {
          "duration": 0.062188,
          "end_time": "2021-11-05T04:49:03.213803",
          "exception": false,
          "start_time": "2021-11-05T04:49:03.151615",
          "status": "completed"
        },
        "tags": []
      },
      "outputs": [
        {
          "name": "stdout",
          "output_type": "stream",
          "text": [
            "<class 'pandas.core.frame.DataFrame'>\n",
            "RangeIndex: 5171 entries, 0 to 5170\n",
            "Data columns (total 4 columns):\n",
            " #   Column      Non-Null Count  Dtype \n",
            "---  ------      --------------  ----- \n",
            " 0   Unnamed: 0  5171 non-null   int64 \n",
            " 1   label       5171 non-null   object\n",
            " 2   text        5171 non-null   object\n",
            " 3   label_num   5171 non-null   int64 \n",
            "dtypes: int64(2), object(2)\n",
            "memory usage: 161.7+ KB\n"
          ]
        }
      ],
      "source": [
        "df.info()"
      ]
    },
    {
      "cell_type": "markdown",
      "id": "i4lRSooz2UM0",
      "metadata": {
        "id": "i4lRSooz2UM0"
      },
      "source": [
        "Penjelasan\n",
        "1. `<class 'pandas.core.frame.DataFrame'>`: objek yang yangperiksa adalah sebuah dataframe dari Pandas.\n",
        "\n",
        "2. `RangeIndex: 5171 entries, 0 to 5170`: dataframe memiliki indeks dengan jangkauan (range) dari 0 hingga 5170 dengan total 5171 entri (baris).\n",
        "\n",
        "3. `Data columns (total 4 columns)`: terdapat 4 kolom (atribut) dalam dataframe.\n",
        "\n",
        "4. `#   Column      Non-Null Count  Dtype`:\n",
        "   - `#`: No indeks kolom (mulai dari 0).\n",
        "   - `Column`: Nama kolom.\n",
        "   - `Non-Null Count`: Jumlah nilai non-null (non-kosong) dalam kolom tersebut. Ini memberi tahu berapa banyak entri yang tidak kosong dalam kolom.\n",
        "   - `Dtype`: Tipe data dari kolom tersebut.\n",
        "\n",
        "5. `dtypes: int64(2), object(2)`: dalam dataframe ini terdapat dua kolom dengan tipe data `int64` (bilangan bulat) dan dua kolom dengan tipe data `object` (biasanya digunakan untuk data berjenis teks).\n",
        "\n",
        "6. `memory usage: 161.7+ KB`: Ini menunjukkan perkiraan penggunaan memori untuk dataframe, yang dihitung sebagai sekitar 161.7 kilobyte."
      ]
    },
    {
      "cell_type": "markdown",
      "id": "393dcc36",
      "metadata": {
        "id": "393dcc36",
        "papermill": {
          "duration": 0.084938,
          "end_time": "2021-11-05T04:49:03.329552",
          "exception": false,
          "start_time": "2021-11-05T04:49:03.244614",
          "status": "completed"
        },
        "tags": []
      },
      "source": [
        "**Memeriksa apakah data mengandung nilai null (NaN)**"
      ]
    },
    {
      "cell_type": "code",
      "execution_count": 32,
      "id": "db0b6b17",
      "metadata": {
        "colab": {
          "base_uri": "https://localhost:8080/"
        },
        "execution": {
          "iopub.execute_input": "2021-11-05T04:49:03.391381Z",
          "iopub.status.busy": "2021-11-05T04:49:03.390408Z",
          "iopub.status.idle": "2021-11-05T04:49:03.398845Z",
          "shell.execute_reply": "2021-11-05T04:49:03.399378Z",
          "shell.execute_reply.started": "2021-11-05T04:43:16.471164Z"
        },
        "id": "db0b6b17",
        "outputId": "88e968be-8ff5-4fc3-dc20-6e655c6f8394",
        "papermill": {
          "duration": 0.040825,
          "end_time": "2021-11-05T04:49:03.399547",
          "exception": false,
          "start_time": "2021-11-05T04:49:03.358722",
          "status": "completed"
        },
        "tags": []
      },
      "outputs": [
        {
          "data": {
            "text/plain": [
              "Unnamed: 0    0\n",
              "label         0\n",
              "text          0\n",
              "label_num     0\n",
              "dtype: int64"
            ]
          },
          "execution_count": 32,
          "metadata": {},
          "output_type": "execute_result"
        }
      ],
      "source": [
        "df.isna().sum()"
      ]
    },
    {
      "cell_type": "markdown",
      "id": "b4fc4288",
      "metadata": {
        "id": "b4fc4288",
        "papermill": {
          "duration": 0.028649,
          "end_time": "2021-11-05T04:49:03.458125",
          "exception": false,
          "start_time": "2021-11-05T04:49:03.429476",
          "status": "completed"
        },
        "tags": []
      },
      "source": [
        "**Membuat perbandingan antara email spam dan email biasa menggunakan countplot dari seaborn**"
      ]
    },
    {
      "cell_type": "code",
      "execution_count": 33,
      "id": "ce957e91",
      "metadata": {
        "colab": {
          "base_uri": "https://localhost:8080/",
          "height": 467
        },
        "execution": {
          "iopub.execute_input": "2021-11-05T04:49:03.519385Z",
          "iopub.status.busy": "2021-11-05T04:49:03.518457Z",
          "iopub.status.idle": "2021-11-05T04:49:04.558749Z",
          "shell.execute_reply": "2021-11-05T04:49:04.558198Z",
          "shell.execute_reply.started": "2021-11-05T04:43:16.482873Z"
        },
        "id": "ce957e91",
        "outputId": "fe74c07a-fb9d-4b81-e5eb-29ce6a8dc0e1",
        "papermill": {
          "duration": 1.071909,
          "end_time": "2021-11-05T04:49:04.558886",
          "exception": false,
          "start_time": "2021-11-05T04:49:03.486977",
          "status": "completed"
        },
        "tags": []
      },
      "outputs": [
        {
          "data": {
            "text/plain": [
              "<AxesSubplot: xlabel='label', ylabel='count'>"
            ]
          },
          "execution_count": 33,
          "metadata": {},
          "output_type": "execute_result"
        },
        {
          "data": {
            "image/png": "[encoded data removed]",
            "text/plain": [
              "<Figure size 640x480 with 1 Axes>"
            ]
          },
          "metadata": {},
          "output_type": "display_data"
        }
      ],
      "source": [
        "import seaborn as sns\n",
        "sns.countplot(x=\"label\",data=df)"
      ]
    },
    {
      "cell_type": "markdown",
      "id": "de5bf696",
      "metadata": {
        "id": "de5bf696",
        "papermill": {
          "duration": 0.02929,
          "end_time": "2021-11-05T04:49:04.618229",
          "exception": false,
          "start_time": "2021-11-05T04:49:04.588939",
          "status": "completed"
        },
        "tags": []
      },
      "source": [
        "## <center> Data Cleaning </center>"
      ]
    },
    {
      "cell_type": "code",
      "execution_count": 34,
      "id": "e1b945e7",
      "metadata": {
        "colab": {
          "base_uri": "https://localhost:8080/"
        },
        "execution": {
          "iopub.execute_input": "2021-11-05T04:49:04.762670Z",
          "iopub.status.busy": "2021-11-05T04:49:04.761898Z",
          "iopub.status.idle": "2021-11-05T04:49:04.765609Z",
          "shell.execute_reply": "2021-11-05T04:49:04.765036Z",
          "shell.execute_reply.started": "2021-11-05T04:43:17.724639Z"
        },
        "id": "e1b945e7",
        "outputId": "34908b80-331b-4ea9-ab2d-d98cf43b317b",
        "papermill": {
          "duration": 0.051325,
          "end_time": "2021-11-05T04:49:04.765747",
          "exception": false,
          "start_time": "2021-11-05T04:49:04.714422",
          "status": "completed"
        },
        "tags": []
      },
      "outputs": [
        {
          "name": "stdout",
          "output_type": "stream",
          "text": [
            "Subject: enron methanol ; meter # : 988291\n",
            "this is a follow up to the note i gave you on monday , 4 / 3 / 00 { preliminary\n",
            "flow data provided by daren } .\n",
            "please override pop ' s daily volume { presently zero } to reflect daily\n",
            "activity you can obtain from gas control .\n",
            "this change is needed asap for economics purposes .\n"
          ]
        }
      ],
      "source": [
        "print(df['text'][0])"
      ]
    },
    {
      "cell_type": "code",
      "execution_count": 35,
      "id": "b9db1bbb",
      "metadata": {
        "colab": {
          "base_uri": "https://localhost:8080/"
        },
        "execution": {
          "iopub.execute_input": "2021-11-05T04:49:04.834509Z",
          "iopub.status.busy": "2021-11-05T04:49:04.833922Z",
          "iopub.status.idle": "2021-11-05T04:49:20.578113Z",
          "shell.execute_reply": "2021-11-05T04:49:20.577382Z",
          "shell.execute_reply.started": "2021-11-05T04:43:17.734386Z"
        },
        "id": "b9db1bbb",
        "outputId": "72d8f9d0-3167-46e7-c36d-d5623a724745",
        "papermill": {
          "duration": 15.777245,
          "end_time": "2021-11-05T04:49:20.578305",
          "exception": false,
          "start_time": "2021-11-05T04:49:04.801060",
          "status": "completed"
        },
        "tags": []
      },
      "outputs": [
        {
          "name": "stdout",
          "output_type": "stream",
          "text": [
            "Requirement already satisfied: contractions in c:\\users\\ela\\appdata\\local\\packages\\pythonsoftwarefoundation.python.3.11_qbz5n2kfra8p0\\localcache\\local-packages\\python311\\site-packages (0.1.73)\n",
            "Requirement already satisfied: textsearch>=0.0.21 in c:\\users\\ela\\appdata\\local\\packages\\pythonsoftwarefoundation.python.3.11_qbz5n2kfra8p0\\localcache\\local-packages\\python311\\site-packages (from contractions) (0.0.24)\n",
            "Requirement already satisfied: anyascii in c:\\users\\ela\\appdata\\local\\packages\\pythonsoftwarefoundation.python.3.11_qbz5n2kfra8p0\\localcache\\local-packages\\python311\\site-packages (from textsearch>=0.0.21->contractions) (0.3.2)\n",
            "Requirement already satisfied: pyahocorasick in c:\\users\\ela\\appdata\\local\\packages\\pythonsoftwarefoundation.python.3.11_qbz5n2kfra8p0\\localcache\\local-packages\\python311\\site-packages (from textsearch>=0.0.21->contractions) (2.0.0)\n"
          ]
        }
      ],
      "source": [
        "!pip install contractions"
      ]
    },
    {
      "cell_type": "code",
      "execution_count": 36,
      "id": "17bb2afd",
      "metadata": {
        "colab": {
          "base_uri": "https://localhost:8080/"
        },
        "execution": {
          "iopub.execute_input": "2021-11-05T04:49:20.659112Z",
          "iopub.status.busy": "2021-11-05T04:49:20.658189Z",
          "iopub.status.idle": "2021-11-05T04:49:21.751596Z",
          "shell.execute_reply": "2021-11-05T04:49:21.752063Z",
          "shell.execute_reply.started": "2021-11-05T04:43:33.023180Z"
        },
        "id": "17bb2afd",
        "outputId": "f8eda86c-69ae-40dc-c7df-84cfe348a280",
        "papermill": {
          "duration": 1.136774,
          "end_time": "2021-11-05T04:49:21.752253",
          "exception": false,
          "start_time": "2021-11-05T04:49:20.615479",
          "status": "completed"
        },
        "tags": []
      },
      "outputs": [
        {
          "name": "stderr",
          "output_type": "stream",
          "text": [
            "[nltk_data] Downloading package stopwords to\n",
            "[nltk_data]     C:\\Users\\ela\\AppData\\Roaming\\nltk_data...\n",
            "[nltk_data]   Package stopwords is already up-to-date!\n"
          ]
        }
      ],
      "source": [
        "import contractions\n",
        "# untuk mengembangkan kontraksi dlm bahasa inggris ke bentuk asli. contoh : I'll to \"I will\"\n",
        "from tqdm import tqdm\n",
        "# tqdm package is used to track the progress of work. It displays the percentage of loop done.\n",
        "import nltk\n",
        "import re\n",
        "nltk.download('stopwords')\n",
        "from nltk.corpus import stopwords\n",
        "# download stopwords dalam bahasa inggris\n",
        "stopwords=stopwords.words('english')"
      ]
    },
    {
      "cell_type": "code",
      "execution_count": 37,
      "id": "2c7b50b8",
      "metadata": {
        "colab": {
          "base_uri": "https://localhost:8080/"
        },
        "execution": {
          "iopub.execute_input": "2021-11-05T04:49:21.833050Z",
          "iopub.status.busy": "2021-11-05T04:49:21.832365Z",
          "iopub.status.idle": "2021-11-05T04:49:23.956877Z",
          "shell.execute_reply": "2021-11-05T04:49:23.957402Z",
          "shell.execute_reply.started": "2021-11-05T04:43:33.969813Z"
        },
        "id": "2c7b50b8",
        "outputId": "3db5fd88-ac8b-4c3f-86da-ef83a9c7d39a",
        "papermill": {
          "duration": 2.168262,
          "end_time": "2021-11-05T04:49:23.957575",
          "exception": false,
          "start_time": "2021-11-05T04:49:21.789313",
          "status": "completed"
        },
        "tags": []
      },
      "outputs": [
        {
          "name": "stderr",
          "output_type": "stream",
          "text": [
            " 12%|█▏        | 601/5171 [00:00<00:04, 1015.75it/s]"
          ]
        },
        {
          "name": "stderr",
          "output_type": "stream",
          "text": [
            "100%|██████████| 5171/5171 [00:08<00:00, 583.54it/s]\n"
          ]
        }
      ],
      "source": [
        "processed_emails=[]\n",
        "for i in tqdm(df['text']):\n",
        "    #menghapus tag html\n",
        "    i=re.sub('(<[\\w\\s]*/?>)',\"\",i)\n",
        "    i=contractions.fix(i)\n",
        "    #menghapus karakter khusus, sehingga yang tersisa hanya huruf, angka, dan spasi\n",
        "    i=re.sub('[^a-zA-Z0-9\\s]+',\"\",i)\n",
        "    #menghapus semua digit(angka)\n",
        "    i=re.sub('\\d+',\"\",i)\n",
        "    #mengubah menjadi huruf kecil, menghapus kata\" jika tidak ada distopwords dan jika panjangnya kurang dari 3\n",
        "    processed_emails.append(\" \".join([j.lower() for j in i.split() if j not in stopwords and len(j)>=3]))"
      ]
    },
    {
      "cell_type": "code",
      "execution_count": 38,
      "id": "02877811",
      "metadata": {
        "colab": {
          "base_uri": "https://localhost:8080/",
          "height": 345
        },
        "execution": {
          "iopub.execute_input": "2021-11-05T04:49:24.136231Z",
          "iopub.status.busy": "2021-11-05T04:49:24.132787Z",
          "iopub.status.idle": "2021-11-05T04:49:24.146901Z",
          "shell.execute_reply": "2021-11-05T04:49:24.146339Z",
          "shell.execute_reply.started": "2021-11-05T04:43:36.558645Z"
        },
        "id": "02877811",
        "outputId": "979a9f71-53ac-40f9-9b92-02e89f2b627c",
        "papermill": {
          "duration": 0.061758,
          "end_time": "2021-11-05T04:49:24.147078",
          "exception": false,
          "start_time": "2021-11-05T04:49:24.085320",
          "status": "completed"
        },
        "tags": []
      },
      "outputs": [
        {
          "data": {
            "text/html": [
              "<div>\n",
              "<style scoped>\n",
              "    .dataframe tbody tr th:only-of-type {\n",
              "        vertical-align: middle;\n",
              "    }\n",
              "\n",
              "    .dataframe tbody tr th {\n",
              "        vertical-align: top;\n",
              "    }\n",
              "\n",
              "    .dataframe thead th {\n",
              "        text-align: right;\n",
              "    }\n",
              "</style>\n",
              "<table border=\"1\" class=\"dataframe\">\n",
              "  <thead>\n",
              "    <tr style=\"text-align: right;\">\n",
              "      <th></th>\n",
              "      <th>text</th>\n",
              "      <th>Spam/Ham</th>\n",
              "    </tr>\n",
              "  </thead>\n",
              "  <tbody>\n",
              "    <tr>\n",
              "      <th>0</th>\n",
              "      <td>subject enron methanol meter follow note gave ...</td>\n",
              "      <td>0</td>\n",
              "    </tr>\n",
              "    <tr>\n",
              "      <th>1</th>\n",
              "      <td>subject hpl nom january see attached file hpln...</td>\n",
              "      <td>0</td>\n",
              "    </tr>\n",
              "    <tr>\n",
              "      <th>2</th>\n",
              "      <td>subject neon retreat around wonderful time yea...</td>\n",
              "      <td>0</td>\n",
              "    </tr>\n",
              "    <tr>\n",
              "      <th>3</th>\n",
              "      <td>subject photoshop windows office cheap main tr...</td>\n",
              "      <td>1</td>\n",
              "    </tr>\n",
              "    <tr>\n",
              "      <th>4</th>\n",
              "      <td>subject indian springs deal book teco pvr reve...</td>\n",
              "      <td>0</td>\n",
              "    </tr>\n",
              "  </tbody>\n",
              "</table>\n",
              "</div>"
            ],
            "text/plain": [
              "                                                text  Spam/Ham\n",
              "0  subject enron methanol meter follow note gave ...         0\n",
              "1  subject hpl nom january see attached file hpln...         0\n",
              "2  subject neon retreat around wonderful time yea...         0\n",
              "3  subject photoshop windows office cheap main tr...         1\n",
              "4  subject indian springs deal book teco pvr reve...         0"
            ]
          },
          "execution_count": 38,
          "metadata": {},
          "output_type": "execute_result"
        }
      ],
      "source": [
        "processed_df=pd.DataFrame({'text':processed_emails,'Spam/Ham':list(df['label_num'])})\n",
        "processed_df.head()"
      ]
    },
    {
      "cell_type": "markdown",
      "id": "4cc5bd47",
      "metadata": {
        "id": "4cc5bd47",
        "papermill": {
          "duration": 0.041643,
          "end_time": "2021-11-05T04:49:24.232873",
          "exception": false,
          "start_time": "2021-11-05T04:49:24.191230",
          "status": "completed"
        },
        "tags": []
      },
      "source": [
        "## <center> Data Preparation </center>"
      ]
    },
    {
      "cell_type": "code",
      "execution_count": 39,
      "id": "5ecb2d8a",
      "metadata": {
        "execution": {
          "iopub.execute_input": "2021-11-05T04:49:24.323185Z",
          "iopub.status.busy": "2021-11-05T04:49:24.322572Z",
          "iopub.status.idle": "2021-11-05T04:49:24.333681Z",
          "shell.execute_reply": "2021-11-05T04:49:24.332988Z",
          "shell.execute_reply.started": "2021-11-05T04:43:36.577218Z"
        },
        "id": "5ecb2d8a",
        "papermill": {
          "duration": 0.058628,
          "end_time": "2021-11-05T04:49:24.333832",
          "exception": false,
          "start_time": "2021-11-05T04:49:24.275204",
          "status": "completed"
        },
        "tags": []
      },
      "outputs": [],
      "source": [
        "X=processed_df['text']\n",
        "Y=processed_df['Spam/Ham']\n",
        "# memisahkan data, 20% untuk testing dan 80% untuk training\n",
        "from sklearn.model_selection import train_test_split\n",
        "x_train,x_test,y_train,y_test=train_test_split(X,Y,stratify=Y,test_size=0.20)"
      ]
    },
    {
      "cell_type": "code",
      "execution_count": 40,
      "id": "a1998d68",
      "metadata": {
        "execution": {
          "iopub.execute_input": "2021-11-05T04:49:24.523016Z",
          "iopub.status.busy": "2021-11-05T04:49:24.522191Z",
          "iopub.status.idle": "2021-11-05T04:49:24.704613Z",
          "shell.execute_reply": "2021-11-05T04:49:24.703991Z",
          "shell.execute_reply.started": "2021-11-05T04:43:36.599962Z"
        },
        "id": "a1998d68",
        "papermill": {
          "duration": 0.232228,
          "end_time": "2021-11-05T04:49:24.704753",
          "exception": false,
          "start_time": "2021-11-05T04:49:24.472525",
          "status": "completed"
        },
        "tags": []
      },
      "outputs": [],
      "source": [
        "from gensim.models import Word2Vec"
      ]
    },
    {
      "cell_type": "markdown",
      "id": "17780307",
      "metadata": {
        "id": "17780307",
        "papermill": {
          "duration": 0.047253,
          "end_time": "2021-11-05T04:49:24.892649",
          "exception": false,
          "start_time": "2021-11-05T04:49:24.845396",
          "status": "completed"
        },
        "tags": []
      },
      "source": [
        "**Membuat data untuk melatih model word2vec**"
      ]
    },
    {
      "cell_type": "code",
      "execution_count": 41,
      "id": "b12ae536",
      "metadata": {
        "colab": {
          "base_uri": "https://localhost:8080/"
        },
        "execution": {
          "iopub.execute_input": "2021-11-05T04:49:25.070237Z",
          "iopub.status.busy": "2021-11-05T04:49:25.069299Z",
          "iopub.status.idle": "2021-11-05T04:49:25.113609Z",
          "shell.execute_reply": "2021-11-05T04:49:25.113037Z",
          "shell.execute_reply.started": "2021-11-05T04:43:36.890363Z"
        },
        "id": "b12ae536",
        "outputId": "ceaff7aa-7721-441c-efbc-75f3c99932b2",
        "papermill": {
          "duration": 0.089785,
          "end_time": "2021-11-05T04:49:25.113774",
          "exception": false,
          "start_time": "2021-11-05T04:49:25.023989",
          "status": "completed"
        },
        "tags": []
      },
      "outputs": [
        {
          "name": "stderr",
          "output_type": "stream",
          "text": [
            "100%|██████████| 4136/4136 [00:00<00:00, 30620.49it/s]\n"
          ]
        }
      ],
      "source": [
        "words_in_sentences=[]\n",
        "for i in tqdm(x_train):\n",
        "    words_in_sentences.append(i.split())"
      ]
    },
    {
      "cell_type": "code",
      "execution_count": 42,
      "id": "cb53e6d0",
      "metadata": {
        "colab": {
          "base_uri": "https://localhost:8080/"
        },
        "execution": {
          "iopub.execute_input": "2021-11-05T04:49:25.289909Z",
          "iopub.status.busy": "2021-11-05T04:49:25.289336Z",
          "iopub.status.idle": "2021-11-05T04:49:25.542358Z",
          "shell.execute_reply": "2021-11-05T04:49:25.543149Z",
          "shell.execute_reply.started": "2021-11-05T04:43:36.944376Z"
        },
        "id": "cb53e6d0",
        "outputId": "3b369964-997e-4736-9d12-6c521a489e75",
        "papermill": {
          "duration": 0.299264,
          "end_time": "2021-11-05T04:49:25.543366",
          "exception": false,
          "start_time": "2021-11-05T04:49:25.244102",
          "status": "completed"
        },
        "tags": []
      },
      "outputs": [],
      "source": [
        "model = Word2Vec(sentences=words_in_sentences, vector_size=200,workers=-1)"
      ]
    },
    {
      "cell_type": "markdown",
      "id": "ce63f54f",
      "metadata": {
        "id": "ce63f54f",
        "papermill": {
          "duration": 0.04317,
          "end_time": "2021-11-05T04:49:26.063555",
          "exception": false,
          "start_time": "2021-11-05T04:49:26.020385",
          "status": "completed"
        },
        "tags": []
      },
      "source": [
        "**Jumlah kata dalam Kosakata yang digunakan dalam pelatihan model Word2Vec.**"
      ]
    },
    {
      "cell_type": "code",
      "execution_count": 43,
      "id": "8a379913",
      "metadata": {
        "colab": {
          "base_uri": "https://localhost:8080/"
        },
        "execution": {
          "iopub.execute_input": "2021-11-05T04:49:26.154885Z",
          "iopub.status.busy": "2021-11-05T04:49:26.154295Z",
          "iopub.status.idle": "2021-11-05T04:49:26.159168Z",
          "shell.execute_reply": "2021-11-05T04:49:26.159619Z",
          "shell.execute_reply.started": "2021-11-05T04:43:37.479374Z"
        },
        "id": "8a379913",
        "outputId": "c374b066-02bc-492a-837e-ee676c7661f9",
        "papermill": {
          "duration": 0.052408,
          "end_time": "2021-11-05T04:49:26.159790",
          "exception": false,
          "start_time": "2021-11-05T04:49:26.107382",
          "status": "completed"
        },
        "tags": []
      },
      "outputs": [
        {
          "name": "stdout",
          "output_type": "stream",
          "text": [
            "7494\n"
          ]
        }
      ],
      "source": [
        "kosakata=list(model.wv.key_to_index.keys())\n",
        "print(len(kosakata))"
      ]
    },
    {
      "cell_type": "markdown",
      "id": "57d4cd9b",
      "metadata": {
        "id": "57d4cd9b",
        "papermill": {
          "duration": 0.043744,
          "end_time": "2021-11-05T04:49:26.247336",
          "exception": false,
          "start_time": "2021-11-05T04:49:26.203592",
          "status": "completed"
        },
        "tags": []
      },
      "source": [
        "**Average Word2Vec for converting a given Sentence into numerical vector.**\n"
      ]
    },
    {
      "cell_type": "code",
      "execution_count": 44,
      "id": "tByBBlTZEPXO",
      "metadata": {
        "id": "tByBBlTZEPXO"
      },
      "outputs": [],
      "source": [
        "def avg_w2vec(kalimat):\n",
        "    hasil_transformasi = []\n",
        "    for kalimat_teks in tqdm(kalimat):\n",
        "        hitung = 0 # menghitung berapa banyak kata yang ada dalam kalimat yg termasuk dlm kosakata\n",
        "        vektor = np.zeros(200) # vektor 0 dgn panjang 200 yg akan digunakan utk menghitung rata\" vektor kata\" dlm kalimat\n",
        "        for kata in kalimat_teks.split(): # mengambil setiap kata dalam kalimat (dibagi berdasar spasi)\n",
        "            if kata in kosakata:\n",
        "                vektor += model.wv.get_vector(kata) # vektor kata tsb akan diambil dr model word2vec dan ditambahkan ke 'vektor'\n",
        "                hitung += 1 # jumlah kata yang valid akan ditambahkan ke 'hitung'\n",
        "        if hitung != 0:\n",
        "            vektor / hitung\n",
        "            hasil_transformasi.append(vektor)\n",
        "        else:\n",
        "            print(kalimat_teks)\n",
        "    return np.array(hasil_transformasi)"
      ]
    },
    {
      "cell_type": "markdown",
      "id": "l_HK69UZGtUz",
      "metadata": {
        "id": "l_HK69UZGtUz"
      },
      "source": [
        "merepresentasi numerik dari setiap kalimat dalam `x_train` dan `x_test` sebagai vektor rata-rata"
      ]
    },
    {
      "cell_type": "code",
      "execution_count": 45,
      "id": "008c3d95",
      "metadata": {
        "colab": {
          "base_uri": "https://localhost:8080/"
        },
        "execution": {
          "iopub.execute_input": "2021-11-05T04:49:26.609264Z",
          "iopub.status.busy": "2021-11-05T04:49:26.608366Z",
          "iopub.status.idle": "2021-11-05T04:49:42.136234Z",
          "shell.execute_reply": "2021-11-05T04:49:42.135589Z",
          "shell.execute_reply.started": "2021-11-05T04:43:37.537551Z"
        },
        "id": "008c3d95",
        "outputId": "c324c7cc-0e74-4129-a2c6-a513d0357a81",
        "papermill": {
          "duration": 15.574453,
          "end_time": "2021-11-05T04:49:42.136388",
          "exception": false,
          "start_time": "2021-11-05T04:49:26.561935",
          "status": "completed"
        },
        "tags": []
      },
      "outputs": [
        {
          "name": "stderr",
          "output_type": "stream",
          "text": [
            "  3%|▎         | 107/4136 [00:01<00:58, 68.84it/s]"
          ]
        },
        {
          "name": "stderr",
          "output_type": "stream",
          "text": [
            "100%|██████████| 4136/4136 [00:25<00:00, 161.78it/s]\n",
            "100%|██████████| 1035/1035 [00:06<00:00, 161.24it/s]\n"
          ]
        }
      ],
      "source": [
        "x_train_hasil_transformasi=avg_w2vec(x_train)\n",
        "x_test_hasil_transformasi=avg_w2vec(x_test)"
      ]
    },
    {
      "cell_type": "code",
      "execution_count": 46,
      "id": "BTOBTzFWDct6",
      "metadata": {
        "id": "BTOBTzFWDct6"
      },
      "outputs": [],
      "source": [
        "from gensim.models import Word2Vec\n",
        "\n",
        "# Save the trained Word2Vec model\n",
        "model.save(\"word2vec_model.bin\")\n",
        "\n",
        "# Load the saved Word2Vec model\n",
        "loaded_model = Word2Vec.load(\"word2vec_model.bin\")\n",
        "\n",
        "# Now you can use loaded_model for word embeddings"
      ]
    },
    {
      "cell_type": "markdown",
      "id": "65ef5828",
      "metadata": {
        "id": "65ef5828",
        "papermill": {
          "duration": 0.073537,
          "end_time": "2021-11-05T04:49:42.283898",
          "exception": false,
          "start_time": "2021-11-05T04:49:42.210361",
          "status": "completed"
        },
        "tags": []
      },
      "source": [
        "### **Menggunakan Algoritma K-Nearest Neighbors untuk memprediksi apakah email tsb Spam atau tidak.**"
      ]
    },
    {
      "cell_type": "code",
      "execution_count": 47,
      "id": "680d2dcc",
      "metadata": {
        "colab": {
          "base_uri": "https://localhost:8080/",
          "height": 135
        },
        "execution": {
          "iopub.execute_input": "2021-11-05T04:49:42.586052Z",
          "iopub.status.busy": "2021-11-05T04:49:42.585425Z",
          "iopub.status.idle": "2021-11-05T04:49:55.592358Z",
          "shell.execute_reply": "2021-11-05T04:49:55.591550Z",
          "shell.execute_reply.started": "2021-11-05T04:43:55.541040Z"
        },
        "id": "680d2dcc",
        "outputId": "0e540c0d-e549-4f99-c5e0-9c6197c43147",
        "papermill": {
          "duration": 13.086374,
          "end_time": "2021-11-05T04:49:55.592564",
          "exception": false,
          "start_time": "2021-11-05T04:49:42.506190",
          "status": "completed"
        },
        "tags": []
      },
      "outputs": [
        {
          "name": "stdout",
          "output_type": "stream",
          "text": [
            "Fitting 5 folds for each of 10 candidates, totalling 50 fits\n"
          ]
        },
        {
          "data": {
            "text/html": [
              "<style>#sk-container-id-2 {color: black;}#sk-container-id-2 pre{padding: 0;}#sk-container-id-2 div.sk-toggleable {background-color: white;}#sk-container-id-2 label.sk-toggleable__label {cursor: pointer;display: block;width: 100%;margin-bottom: 0;padding: 0.3em;box-sizing: border-box;text-align: center;}#sk-container-id-2 label.sk-toggleable__label-arrow:before {content: \"▸\";float: left;margin-right: 0.25em;color: #696969;}#sk-container-id-2 label.sk-toggleable__label-arrow:hover:before {color: black;}#sk-container-id-2 div.sk-estimator:hover label.sk-toggleable__label-arrow:before {color: black;}#sk-container-id-2 div.sk-toggleable__content {max-height: 0;max-width: 0;overflow: hidden;text-align: left;background-color: #f0f8ff;}#sk-container-id-2 div.sk-toggleable__content pre {margin: 0.2em;color: black;border-radius: 0.25em;background-color: #f0f8ff;}#sk-container-id-2 input.sk-toggleable__control:checked~div.sk-toggleable__content {max-height: 200px;max-width: 100%;overflow: auto;}#sk-container-id-2 input.sk-toggleable__control:checked~label.sk-toggleable__label-arrow:before {content: \"▾\";}#sk-container-id-2 div.sk-estimator input.sk-toggleable__control:checked~label.sk-toggleable__label {background-color: #d4ebff;}#sk-container-id-2 div.sk-label input.sk-toggleable__control:checked~label.sk-toggleable__label {background-color: #d4ebff;}#sk-container-id-2 input.sk-hidden--visually {border: 0;clip: rect(1px 1px 1px 1px);clip: rect(1px, 1px, 1px, 1px);height: 1px;margin: -1px;overflow: hidden;padding: 0;position: absolute;width: 1px;}#sk-container-id-2 div.sk-estimator {font-family: monospace;background-color: #f0f8ff;border: 1px dotted black;border-radius: 0.25em;box-sizing: border-box;margin-bottom: 0.5em;}#sk-container-id-2 div.sk-estimator:hover {background-color: #d4ebff;}#sk-container-id-2 div.sk-parallel-item::after {content: \"\";width: 100%;border-bottom: 1px solid gray;flex-grow: 1;}#sk-container-id-2 div.sk-label:hover label.sk-toggleable__label {background-color: #d4ebff;}#sk-container-id-2 div.sk-serial::before {content: \"\";position: absolute;border-left: 1px solid gray;box-sizing: border-box;top: 0;bottom: 0;left: 50%;z-index: 0;}#sk-container-id-2 div.sk-serial {display: flex;flex-direction: column;align-items: center;background-color: white;padding-right: 0.2em;padding-left: 0.2em;position: relative;}#sk-container-id-2 div.sk-item {position: relative;z-index: 1;}#sk-container-id-2 div.sk-parallel {display: flex;align-items: stretch;justify-content: center;background-color: white;position: relative;}#sk-container-id-2 div.sk-item::before, #sk-container-id-2 div.sk-parallel-item::before {content: \"\";position: absolute;border-left: 1px solid gray;box-sizing: border-box;top: 0;bottom: 0;left: 50%;z-index: -1;}#sk-container-id-2 div.sk-parallel-item {display: flex;flex-direction: column;z-index: 1;position: relative;background-color: white;}#sk-container-id-2 div.sk-parallel-item:first-child::after {align-self: flex-end;width: 50%;}#sk-container-id-2 div.sk-parallel-item:last-child::after {align-self: flex-start;width: 50%;}#sk-container-id-2 div.sk-parallel-item:only-child::after {width: 0;}#sk-container-id-2 div.sk-dashed-wrapped {border: 1px dashed gray;margin: 0 0.4em 0.5em 0.4em;box-sizing: border-box;padding-bottom: 0.4em;background-color: white;}#sk-container-id-2 div.sk-label label {font-family: monospace;font-weight: bold;display: inline-block;line-height: 1.2em;}#sk-container-id-2 div.sk-label-container {text-align: center;}#sk-container-id-2 div.sk-container {/* jupyter's `normalize.less` sets `[hidden] { display: none; }` but bootstrap.min.css set `[hidden] { display: none !important; }` so we also need the `!important` here to be able to override the default hidden behavior on the sphinx rendered scikit-learn.org. See: https://github.com/scikit-learn/scikit-learn/issues/21755 */display: inline-block !important;position: relative;}#sk-container-id-2 div.sk-text-repr-fallback {display: none;}</style><div id=\"sk-container-id-2\" class=\"sk-top-container\"><div class=\"sk-text-repr-fallback\"><pre>RandomizedSearchCV(estimator=KNeighborsClassifier(), n_jobs=-1,\n",
              "                   param_distributions={&#x27;metric&#x27;: [&#x27;manhattan&#x27;, &#x27;euclidean&#x27;,\n",
              "                                                   &#x27;minkowski&#x27;],\n",
              "                                        &#x27;n_neighbors&#x27;: [1, 3, 5, 7, 9, 11]},\n",
              "                   random_state=0, verbose=1)</pre><b>In a Jupyter environment, please rerun this cell to show the HTML representation or trust the notebook. <br />On GitHub, the HTML representation is unable to render, please try loading this page with nbviewer.org.</b></div><div class=\"sk-container\" hidden><div class=\"sk-item sk-dashed-wrapped\"><div class=\"sk-label-container\"><div class=\"sk-label sk-toggleable\"><input class=\"sk-toggleable__control sk-hidden--visually\" id=\"sk-estimator-id-4\" type=\"checkbox\" ><label for=\"sk-estimator-id-4\" class=\"sk-toggleable__label sk-toggleable__label-arrow\">RandomizedSearchCV</label><div class=\"sk-toggleable__content\"><pre>RandomizedSearchCV(estimator=KNeighborsClassifier(), n_jobs=-1,\n",
              "                   param_distributions={&#x27;metric&#x27;: [&#x27;manhattan&#x27;, &#x27;euclidean&#x27;,\n",
              "                                                   &#x27;minkowski&#x27;],\n",
              "                                        &#x27;n_neighbors&#x27;: [1, 3, 5, 7, 9, 11]},\n",
              "                   random_state=0, verbose=1)</pre></div></div></div><div class=\"sk-parallel\"><div class=\"sk-parallel-item\"><div class=\"sk-item\"><div class=\"sk-label-container\"><div class=\"sk-label sk-toggleable\"><input class=\"sk-toggleable__control sk-hidden--visually\" id=\"sk-estimator-id-5\" type=\"checkbox\" ><label for=\"sk-estimator-id-5\" class=\"sk-toggleable__label sk-toggleable__label-arrow\">estimator: KNeighborsClassifier</label><div class=\"sk-toggleable__content\"><pre>KNeighborsClassifier()</pre></div></div></div><div class=\"sk-serial\"><div class=\"sk-item\"><div class=\"sk-estimator sk-toggleable\"><input class=\"sk-toggleable__control sk-hidden--visually\" id=\"sk-estimator-id-6\" type=\"checkbox\" ><label for=\"sk-estimator-id-6\" class=\"sk-toggleable__label sk-toggleable__label-arrow\">KNeighborsClassifier</label><div class=\"sk-toggleable__content\"><pre>KNeighborsClassifier()</pre></div></div></div></div></div></div></div></div></div></div>"
            ],
            "text/plain": [
              "RandomizedSearchCV(estimator=KNeighborsClassifier(), n_jobs=-1,\n",
              "                   param_distributions={'metric': ['manhattan', 'euclidean',\n",
              "                                                   'minkowski'],\n",
              "                                        'n_neighbors': [1, 3, 5, 7, 9, 11]},\n",
              "                   random_state=0, verbose=1)"
            ]
          },
          "execution_count": 47,
          "metadata": {},
          "output_type": "execute_result"
        }
      ],
      "source": [
        "from sklearn.model_selection import RandomizedSearchCV\n",
        "from sklearn.neighbors import KNeighborsClassifier\n",
        "grid_params = { 'n_neighbors' : [1,3,5,7,9,11],\n",
        "               'metric' : ['manhattan','euclidean','minkowski']}\n",
        "knn=KNeighborsClassifier()\n",
        "clf = RandomizedSearchCV(knn, grid_params, random_state=0,n_jobs=-1,verbose=1) # menjalankan pencarian parameter pada model KNN. Randomize utk ceri parameter terbaiknya\n",
        "clf.fit(x_train_hasil_transformasi,y_train) # model knn diberi data pelatihan"
      ]
    },
    {
      "cell_type": "code",
      "execution_count": 48,
      "id": "a64513fa",
      "metadata": {
        "colab": {
          "base_uri": "https://localhost:8080/"
        },
        "execution": {
          "iopub.execute_input": "2021-11-05T04:49:55.749637Z",
          "iopub.status.busy": "2021-11-05T04:49:55.749010Z",
          "iopub.status.idle": "2021-11-05T04:49:55.751346Z",
          "shell.execute_reply": "2021-11-05T04:49:55.751779Z",
          "shell.execute_reply.started": "2021-11-05T04:44:08.914522Z"
        },
        "id": "a64513fa",
        "outputId": "df10106b-dfdf-40ed-9e37-42be5fbad8b3",
        "papermill": {
          "duration": 0.083079,
          "end_time": "2021-11-05T04:49:55.751964",
          "exception": false,
          "start_time": "2021-11-05T04:49:55.668885",
          "status": "completed"
        },
        "tags": []
      },
      "outputs": [
        {
          "data": {
            "text/plain": [
              "{'n_neighbors': 1, 'metric': 'euclidean'}"
            ]
          },
          "execution_count": 48,
          "metadata": {},
          "output_type": "execute_result"
        }
      ],
      "source": [
        "clf.best_params_"
      ]
    },
    {
      "cell_type": "code",
      "execution_count": 49,
      "id": "227d8f5e",
      "metadata": {
        "colab": {
          "base_uri": "https://localhost:8080/"
        },
        "execution": {
          "iopub.execute_input": "2021-11-05T04:49:55.906913Z",
          "iopub.status.busy": "2021-11-05T04:49:55.906311Z",
          "iopub.status.idle": "2021-11-05T04:49:55.911439Z",
          "shell.execute_reply": "2021-11-05T04:49:55.910962Z",
          "shell.execute_reply.started": "2021-11-05T04:44:08.923040Z"
        },
        "id": "227d8f5e",
        "outputId": "73a79499-04f7-4d9e-9376-7e3f0fd24651",
        "papermill": {
          "duration": 0.084854,
          "end_time": "2021-11-05T04:49:55.911575",
          "exception": false,
          "start_time": "2021-11-05T04:49:55.826721",
          "status": "completed"
        },
        "tags": []
      },
      "outputs": [
        {
          "data": {
            "text/plain": [
              "0.8936196250927338"
            ]
          },
          "execution_count": 49,
          "metadata": {},
          "output_type": "execute_result"
        }
      ],
      "source": [
        "clf.best_score_ #skor terbaik yang ditemukan selama pencarian parameter"
      ]
    },
    {
      "cell_type": "code",
      "execution_count": 50,
      "id": "7965cacb",
      "metadata": {
        "colab": {
          "base_uri": "https://localhost:8080/"
        },
        "execution": {
          "iopub.execute_input": "2021-11-05T04:49:56.072381Z",
          "iopub.status.busy": "2021-11-05T04:49:56.071748Z",
          "iopub.status.idle": "2021-11-05T04:49:56.075304Z",
          "shell.execute_reply": "2021-11-05T04:49:56.074839Z",
          "shell.execute_reply.started": "2021-11-05T04:44:08.934444Z"
        },
        "id": "7965cacb",
        "outputId": "8caf258e-c53e-4ea8-c947-e6574b5cbdbb",
        "papermill": {
          "duration": 0.087931,
          "end_time": "2021-11-05T04:49:56.075438",
          "exception": false,
          "start_time": "2021-11-05T04:49:55.987507",
          "status": "completed"
        },
        "tags": []
      },
      "outputs": [
        {
          "data": {
            "text/plain": [
              "{'mean_fit_time': array([0.08729844, 0.03851624, 0.03753648, 0.03650956, 0.03472886,\n",
              "        0.04067988, 0.04219146, 0.03769021, 0.03771806, 0.03492532]),\n",
              " 'std_fit_time': array([0.04874426, 0.00610614, 0.00646654, 0.00653891, 0.00400112,\n",
              "        0.01169547, 0.01115821, 0.00702513, 0.00801936, 0.0035722 ]),\n",
              " 'mean_score_time': array([1.46913881, 0.22434716, 0.201863  , 0.20893822, 0.14289007,\n",
              "        0.95265436, 1.02548695, 0.16916785, 0.14849296, 0.19274817]),\n",
              " 'std_score_time': array([0.47113601, 0.02763467, 0.01477223, 0.01153275, 0.00624145,\n",
              "        0.02567034, 0.01003329, 0.00882655, 0.00708711, 0.01744352]),\n",
              " 'param_n_neighbors': masked_array(data=[3, 1, 5, 9, 5, 9, 5, 9, 11, 7],\n",
              "              mask=[False, False, False, False, False, False, False, False,\n",
              "                    False, False],\n",
              "        fill_value='?',\n",
              "             dtype=object),\n",
              " 'param_metric': masked_array(data=['manhattan', 'euclidean', 'euclidean', 'euclidean',\n",
              "                    'minkowski', 'manhattan', 'manhattan', 'minkowski',\n",
              "                    'minkowski', 'euclidean'],\n",
              "              mask=[False, False, False, False, False, False, False, False,\n",
              "                    False, False],\n",
              "        fill_value='?',\n",
              "             dtype=object),\n",
              " 'params': [{'n_neighbors': 3, 'metric': 'manhattan'},\n",
              "  {'n_neighbors': 1, 'metric': 'euclidean'},\n",
              "  {'n_neighbors': 5, 'metric': 'euclidean'},\n",
              "  {'n_neighbors': 9, 'metric': 'euclidean'},\n",
              "  {'n_neighbors': 5, 'metric': 'minkowski'},\n",
              "  {'n_neighbors': 9, 'metric': 'manhattan'},\n",
              "  {'n_neighbors': 5, 'metric': 'manhattan'},\n",
              "  {'n_neighbors': 9, 'metric': 'minkowski'},\n",
              "  {'n_neighbors': 11, 'metric': 'minkowski'},\n",
              "  {'n_neighbors': 7, 'metric': 'euclidean'}],\n",
              " 'split0_test_score': array([0.84782609, 0.88285024, 0.83937198, 0.8031401 , 0.83937198,\n",
              "        0.80555556, 0.84178744, 0.8031401 , 0.7910628 , 0.81884058]),\n",
              " 'split1_test_score': array([0.85489722, 0.87908102, 0.85006046, 0.8331318 , 0.85006046,\n",
              "        0.82466747, 0.85006046, 0.8331318 , 0.81257557, 0.8452237 ]),\n",
              " 'split2_test_score': array([0.87061669, 0.89721886, 0.86215236, 0.83192261, 0.86215236,\n",
              "        0.8331318 , 0.86336155, 0.83192261, 0.81378476, 0.85610641]),\n",
              " 'split3_test_score': array([0.87787183, 0.90205562, 0.87182588, 0.82224909, 0.87182588,\n",
              "        0.83071342, 0.86698912, 0.82224909, 0.81862152, 0.84038694]),\n",
              " 'split4_test_score': array([0.87424426, 0.90689238, 0.86819831, 0.8452237 , 0.86819831,\n",
              "        0.85247884, 0.8694075 , 0.8452237 , 0.83071342, 0.85126965]),\n",
              " 'mean_test_score': array([0.86509121, 0.89361963, 0.8583218 , 0.82713346, 0.8583218 ,\n",
              "        0.82930942, 0.85832121, 0.82713346, 0.81335162, 0.84236546]),\n",
              " 'std_test_score': array([0.01165895, 0.01084101, 0.01201602, 0.01404074, 0.01201602,\n",
              "        0.01509435, 0.01063061, 0.01404074, 0.01285912, 0.01291203]),\n",
              " 'rank_test_score': array([ 2,  1,  3,  8,  3,  7,  5,  8, 10,  6])}"
            ]
          },
          "execution_count": 50,
          "metadata": {},
          "output_type": "execute_result"
        }
      ],
      "source": [
        "clf.cv_results_ # berisi informasi ttg hasil pencarian parameter (skor model utk setiap kombinasi parameter yang diuji)"
      ]
    },
    {
      "cell_type": "markdown",
      "id": "2cfd0f16",
      "metadata": {
        "id": "2cfd0f16",
        "papermill": {
          "duration": 0.075479,
          "end_time": "2021-11-05T04:49:56.227733",
          "exception": false,
          "start_time": "2021-11-05T04:49:56.152254",
          "status": "completed"
        },
        "tags": []
      },
      "source": [
        "# <center> Model Evaluation </center>"
      ]
    },
    {
      "cell_type": "markdown",
      "id": "jhqZsc6Jc60I",
      "metadata": {
        "id": "jhqZsc6Jc60I"
      },
      "source": [
        "* fpr : false positive rate\n",
        "* tpr : true positive rate"
      ]
    },
    {
      "cell_type": "code",
      "execution_count": 51,
      "id": "d265d837",
      "metadata": {
        "execution": {
          "iopub.execute_input": "2021-11-05T04:49:56.689065Z",
          "iopub.status.busy": "2021-11-05T04:49:56.688436Z",
          "iopub.status.idle": "2021-11-05T04:50:03.828382Z",
          "shell.execute_reply": "2021-11-05T04:50:03.828849Z",
          "shell.execute_reply.started": "2021-11-05T04:44:39.555282Z"
        },
        "id": "d265d837",
        "papermill": {
          "duration": 7.220825,
          "end_time": "2021-11-05T04:50:03.829046",
          "exception": false,
          "start_time": "2021-11-05T04:49:56.608221",
          "status": "completed"
        },
        "tags": []
      },
      "outputs": [],
      "source": [
        "from sklearn.metrics import roc_curve, auc,classification_report,confusion_matrix\n",
        "train_fpr,train_tpr,thresholds=roc_curve(y_train,clf.predict_proba(x_train_hasil_transformasi)[:,1])\n",
        "test_fpr,test_tpr,thresholds=roc_curve(y_test,clf.predict_proba(x_test_hasil_transformasi)[:,1])"
      ]
    },
    {
      "cell_type": "code",
      "execution_count": 52,
      "id": "USnImY0PI7Nd",
      "metadata": {
        "colab": {
          "base_uri": "https://localhost:8080/",
          "height": 472
        },
        "id": "USnImY0PI7Nd",
        "outputId": "dbf88fab-8d8e-486b-85b3-728cc708e7c5"
      },
      "outputs": [
        {
          "data": {
            "image/png": "[encoded data removed]",
            "text/plain": [
              "<Figure size 640x480 with 1 Axes>"
            ]
          },
          "metadata": {},
          "output_type": "display_data"
        }
      ],
      "source": [
        "import matplotlib.pyplot as plt\n",
        "\n",
        "# Membuat plot untuk kurva ROC pada data pelatihan dan pengujian\n",
        "plt.plot(train_fpr, train_tpr, label=\"Akurasi Pelatihan=\" + str(round(auc(train_fpr, train_tpr), 2)))\n",
        "plt.plot(test_fpr, test_tpr, label=\"Akurasi Pengujian=\" + str(round(auc(test_fpr, test_tpr), 2)))\n",
        "\n",
        "# Menambahkan titik-titik pada kurva ROC\n",
        "plt.scatter(train_fpr, train_tpr, label=\"Akurasi Pelatihan=\" + str(round(auc(train_fpr, train_tpr), 2)))\n",
        "plt.scatter(test_fpr, test_tpr, label=\"Akurasi Pengujian=\" + str(round(auc(test_fpr, test_tpr), 2)))\n",
        "plt.legend()\n",
        "plt.xlabel(\"Thresholds\")\n",
        "plt.ylabel(\"AKURASI\")\n",
        "plt.title(\"Kurva ROC Pelatihan dan Pengujian KNN\")\n",
        "plt.show()"
      ]
    },
    {
      "cell_type": "markdown",
      "id": "3ead4267",
      "metadata": {
        "id": "3ead4267",
        "papermill": {
          "duration": 0.078931,
          "end_time": "2021-11-05T04:50:04.411731",
          "exception": false,
          "start_time": "2021-11-05T04:50:04.332800",
          "status": "completed"
        },
        "tags": []
      },
      "source": [
        "### **Confusion Matrix and Classification Report**"
      ]
    },
    {
      "cell_type": "code",
      "execution_count": 53,
      "id": "1e4109d5",
      "metadata": {
        "colab": {
          "base_uri": "https://localhost:8080/",
          "height": 430
        },
        "execution": {
          "iopub.execute_input": "2021-11-05T04:50:04.575374Z",
          "iopub.status.busy": "2021-11-05T04:50:04.574695Z",
          "iopub.status.idle": "2021-11-05T04:50:09.597259Z",
          "shell.execute_reply": "2021-11-05T04:50:09.597680Z",
          "shell.execute_reply.started": "2021-11-05T04:44:46.517917Z"
        },
        "id": "1e4109d5",
        "outputId": "a377ca54-a8e2-41ad-e0ad-2cb4ed9b9ec2",
        "papermill": {
          "duration": 5.104553,
          "end_time": "2021-11-05T04:50:09.597849",
          "exception": false,
          "start_time": "2021-11-05T04:50:04.493296",
          "status": "completed"
        },
        "tags": []
      },
      "outputs": [
        {
          "data": {
            "image/png": "[encoded data removed]",
            "text/plain": [
              "<Figure size 640x480 with 2 Axes>"
            ]
          },
          "metadata": {},
          "output_type": "display_data"
        }
      ],
      "source": [
        "sns.heatmap(confusion_matrix(y_train,clf.predict(x_train_hasil_transformasi)),annot=True)\n",
        "plt.show()"
      ]
    },
    {
      "cell_type": "code",
      "execution_count": 54,
      "id": "ea5f86aa",
      "metadata": {
        "colab": {
          "base_uri": "https://localhost:8080/"
        },
        "execution": {
          "iopub.execute_input": "2021-11-05T04:50:09.756666Z",
          "iopub.status.busy": "2021-11-05T04:50:09.755716Z",
          "iopub.status.idle": "2021-11-05T04:50:14.605742Z",
          "shell.execute_reply": "2021-11-05T04:50:14.606303Z",
          "shell.execute_reply.started": "2021-11-05T04:44:55.995830Z"
        },
        "id": "ea5f86aa",
        "outputId": "daa0dc1f-853c-4505-bf34-54ac98a46fcf",
        "papermill": {
          "duration": 4.931518,
          "end_time": "2021-11-05T04:50:14.606492",
          "exception": false,
          "start_time": "2021-11-05T04:50:09.674974",
          "status": "completed"
        },
        "tags": []
      },
      "outputs": [
        {
          "name": "stdout",
          "output_type": "stream",
          "text": [
            "              precision    recall  f1-score   support\n",
            "\n",
            "           0       1.00      1.00      1.00      2937\n",
            "           1       1.00      1.00      1.00      1199\n",
            "\n",
            "    accuracy                           1.00      4136\n",
            "   macro avg       1.00      1.00      1.00      4136\n",
            "weighted avg       1.00      1.00      1.00      4136\n",
            "\n"
          ]
        }
      ],
      "source": [
        "print(classification_report(y_train,clf.predict(x_train_hasil_transformasi)))"
      ]
    },
    {
      "cell_type": "code",
      "execution_count": 55,
      "id": "c04467f5",
      "metadata": {
        "colab": {
          "base_uri": "https://localhost:8080/",
          "height": 430
        },
        "execution": {
          "iopub.execute_input": "2021-11-05T04:50:14.768224Z",
          "iopub.status.busy": "2021-11-05T04:50:14.767580Z",
          "iopub.status.idle": "2021-11-05T04:50:17.369671Z",
          "shell.execute_reply": "2021-11-05T04:50:17.369155Z",
          "shell.execute_reply.started": "2021-11-05T04:45:03.513436Z"
        },
        "id": "c04467f5",
        "outputId": "a2e83f3e-1845-4c65-b281-c595822cf553",
        "papermill": {
          "duration": 2.685206,
          "end_time": "2021-11-05T04:50:17.369814",
          "exception": false,
          "start_time": "2021-11-05T04:50:14.684608",
          "status": "completed"
        },
        "tags": []
      },
      "outputs": [
        {
          "data": {
            "image/png": "[encoded data removed]",
            "text/plain": [
              "<Figure size 640x480 with 2 Axes>"
            ]
          },
          "metadata": {},
          "output_type": "display_data"
        }
      ],
      "source": [
        "sns.heatmap(confusion_matrix(y_test,clf.predict(x_test_hasil_transformasi)),annot=True)\n",
        "plt.show()"
      ]
    },
    {
      "cell_type": "code",
      "execution_count": 56,
      "id": "24ab5683",
      "metadata": {
        "colab": {
          "base_uri": "https://localhost:8080/"
        },
        "execution": {
          "iopub.execute_input": "2021-11-05T04:50:17.530793Z",
          "iopub.status.busy": "2021-11-05T04:50:17.530194Z",
          "iopub.status.idle": "2021-11-05T04:50:19.970913Z",
          "shell.execute_reply": "2021-11-05T04:50:19.971646Z",
          "shell.execute_reply.started": "2021-11-05T04:45:09.651514Z"
        },
        "id": "24ab5683",
        "outputId": "0f9f932e-44bf-4e86-b9a2-65794b653df9",
        "papermill": {
          "duration": 2.52325,
          "end_time": "2021-11-05T04:50:19.971876",
          "exception": false,
          "start_time": "2021-11-05T04:50:17.448626",
          "status": "completed"
        },
        "tags": []
      },
      "outputs": [
        {
          "name": "stdout",
          "output_type": "stream",
          "text": [
            "              precision    recall  f1-score   support\n",
            "\n",
            "           0       0.97      0.91      0.94       735\n",
            "           1       0.81      0.93      0.87       300\n",
            "\n",
            "    accuracy                           0.92      1035\n",
            "   macro avg       0.89      0.92      0.90      1035\n",
            "weighted avg       0.92      0.92      0.92      1035\n",
            "\n"
          ]
        }
      ],
      "source": [
        "print(classification_report(y_test,clf.predict(x_test_hasil_transformasi)))"
      ]
    }
  ],
  "metadata": {
    "colab": {
      "provenance": []
    },
    "kernelspec": {
      "display_name": "Python 3",
      "language": "python",
      "name": "python3"
    },
    "language_info": {
      "codemirror_mode": {
        "name": "ipython",
        "version": 3
      },
      "file_extension": ".py",
      "mimetype": "text/x-python",
      "name": "python",
      "nbconvert_exporter": "python",
      "pygments_lexer": "ipython3",
      "version": "3.11.2"
    },
    "papermill": {
      "default_parameters": {},
      "duration": 87.024219,
      "end_time": "2021-11-05T04:50:21.280769",
      "environment_variables": {},
      "exception": null,
      "input_path": "__notebook__.ipynb",
      "output_path": "__notebook__.ipynb",
      "parameters": {},
      "start_time": "2021-11-05T04:48:54.256550",
      "version": "2.3.3"
    }
  },
  "nbformat": 4,
  "nbformat_minor": 5
}
