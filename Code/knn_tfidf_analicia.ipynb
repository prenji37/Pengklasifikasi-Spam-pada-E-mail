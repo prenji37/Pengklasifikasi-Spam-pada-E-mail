{
  "cells": [
    {
      "cell_type": "markdown",
      "metadata": {
        "id": "X1bAGRuCUtc0"
      },
      "source": [
        "# Preparing datasets"
      ]
    },
    {
      "cell_type": "code",
      "execution_count": 1,
      "metadata": {
        "colab": {
          "base_uri": "https://localhost:8080/",
          "height": 405
        },
        "execution": {
          "iopub.execute_input": "2023-11-21T19:20:37.250043Z",
          "iopub.status.busy": "2023-11-21T19:20:37.249601Z",
          "iopub.status.idle": "2023-11-21T19:20:37.533545Z",
          "shell.execute_reply": "2023-11-21T19:20:37.532220Z",
          "shell.execute_reply.started": "2023-11-21T19:20:37.249998Z"
        },
        "id": "u0sY--QLUtc0",
        "outputId": "39fdef73-d2f8-4815-8412-552c8b70f78f",
        "trusted": true
      },
      "outputs": [
        {
          "name": "stdout",
          "output_type": "stream",
          "text": [
            "<class 'pandas.core.frame.DataFrame'>\n",
            "RangeIndex: 5171 entries, 0 to 5170\n",
            "Data columns (total 4 columns):\n",
            " #   Column      Non-Null Count  Dtype \n",
            "---  ------      --------------  ----- \n",
            " 0   Unnamed: 0  5171 non-null   int64 \n",
            " 1   label       5171 non-null   object\n",
            " 2   text        5171 non-null   object\n",
            " 3   label_num   5171 non-null   int64 \n",
            "dtypes: int64(2), object(2)\n",
            "memory usage: 161.7+ KB\n"
          ]
        },
        {
          "data": {
            "text/html": [
              "<div>\n",
              "<style scoped>\n",
              "    .dataframe tbody tr th:only-of-type {\n",
              "        vertical-align: middle;\n",
              "    }\n",
              "\n",
              "    .dataframe tbody tr th {\n",
              "        vertical-align: top;\n",
              "    }\n",
              "\n",
              "    .dataframe thead th {\n",
              "        text-align: right;\n",
              "    }\n",
              "</style>\n",
              "<table border=\"1\" class=\"dataframe\">\n",
              "  <thead>\n",
              "    <tr style=\"text-align: right;\">\n",
              "      <th></th>\n",
              "      <th>Unnamed: 0</th>\n",
              "      <th>label</th>\n",
              "      <th>text</th>\n",
              "      <th>label_num</th>\n",
              "    </tr>\n",
              "  </thead>\n",
              "  <tbody>\n",
              "    <tr>\n",
              "      <th>0</th>\n",
              "      <td>605</td>\n",
              "      <td>ham</td>\n",
              "      <td>Subject: enron methanol ; meter # : 988291\\r\\n...</td>\n",
              "      <td>0</td>\n",
              "    </tr>\n",
              "    <tr>\n",
              "      <th>1</th>\n",
              "      <td>2349</td>\n",
              "      <td>ham</td>\n",
              "      <td>Subject: hpl nom for january 9 , 2001\\r\\n( see...</td>\n",
              "      <td>0</td>\n",
              "    </tr>\n",
              "    <tr>\n",
              "      <th>2</th>\n",
              "      <td>3624</td>\n",
              "      <td>ham</td>\n",
              "      <td>Subject: neon retreat\\r\\nho ho ho , we ' re ar...</td>\n",
              "      <td>0</td>\n",
              "    </tr>\n",
              "    <tr>\n",
              "      <th>3</th>\n",
              "      <td>4685</td>\n",
              "      <td>spam</td>\n",
              "      <td>Subject: photoshop , windows , office . cheap ...</td>\n",
              "      <td>1</td>\n",
              "    </tr>\n",
              "    <tr>\n",
              "      <th>4</th>\n",
              "      <td>2030</td>\n",
              "      <td>ham</td>\n",
              "      <td>Subject: re : indian springs\\r\\nthis deal is t...</td>\n",
              "      <td>0</td>\n",
              "    </tr>\n",
              "  </tbody>\n",
              "</table>\n",
              "</div>"
            ],
            "text/plain": [
              "   Unnamed: 0 label                                               text   \n",
              "0         605   ham  Subject: enron methanol ; meter # : 988291\\r\\n...  \\\n",
              "1        2349   ham  Subject: hpl nom for january 9 , 2001\\r\\n( see...   \n",
              "2        3624   ham  Subject: neon retreat\\r\\nho ho ho , we ' re ar...   \n",
              "3        4685  spam  Subject: photoshop , windows , office . cheap ...   \n",
              "4        2030   ham  Subject: re : indian springs\\r\\nthis deal is t...   \n",
              "\n",
              "   label_num  \n",
              "0          0  \n",
              "1          0  \n",
              "2          0  \n",
              "3          1  \n",
              "4          0  "
            ]
          },
          "execution_count": 1,
          "metadata": {},
          "output_type": "execute_result"
        }
      ],
      "source": [
        "import pandas as pd \n",
        "data1 = pd.read_csv('spam_ham_dataset.csv')\n",
        "data1.info()\n",
        "data1.head()"
      ]
    },
    {
      "cell_type": "code",
      "execution_count": 2,
      "metadata": {
        "execution": {
          "iopub.execute_input": "2023-11-21T19:20:37.866231Z",
          "iopub.status.busy": "2023-11-21T19:20:37.865823Z",
          "iopub.status.idle": "2023-11-21T19:20:37.876604Z",
          "shell.execute_reply": "2023-11-21T19:20:37.875404Z",
          "shell.execute_reply.started": "2023-11-21T19:20:37.866186Z"
        },
        "id": "6qrlconcUtc2",
        "trusted": true
      },
      "outputs": [],
      "source": [
        "# delete unneeded columns\n",
        "data1.drop(\"Unnamed: 0\",inplace=True,axis=1)"
      ]
    },
    {
      "cell_type": "code",
      "execution_count": 3,
      "metadata": {
        "execution": {
          "iopub.execute_input": "2023-11-21T19:20:37.878581Z",
          "iopub.status.busy": "2023-11-21T19:20:37.878182Z",
          "iopub.status.idle": "2023-11-21T19:20:37.903249Z",
          "shell.execute_reply": "2023-11-21T19:20:37.901815Z",
          "shell.execute_reply.started": "2023-11-21T19:20:37.878545Z"
        },
        "id": "Qlkn2cDzUtc2",
        "trusted": true
      },
      "outputs": [],
      "source": [
        "# Remove rows where the text in 'text_column' is longer than max_length\n",
        "def filter_by_body_length(df):\n",
        "    max_length = 100000\n",
        "    return df[df['text'].apply(lambda x: len(str(x)) <= max_length)]\n",
        "\n",
        "data1 = filter_by_body_length(data1)"
      ]
    },
    {
      "cell_type": "code",
      "execution_count": 4,
      "metadata": {
        "colab": {
          "base_uri": "https://localhost:8080/",
          "height": 387
        },
        "execution": {
          "iopub.execute_input": "2023-11-21T19:20:37.905524Z",
          "iopub.status.busy": "2023-11-21T19:20:37.905060Z",
          "iopub.status.idle": "2023-11-21T19:20:37.936093Z",
          "shell.execute_reply": "2023-11-21T19:20:37.933836Z",
          "shell.execute_reply.started": "2023-11-21T19:20:37.905485Z"
        },
        "id": "pW_N5y0YUtc2",
        "outputId": "f4d84984-0c23-4680-fbc7-66880d8fdd47",
        "trusted": true
      },
      "outputs": [
        {
          "name": "stdout",
          "output_type": "stream",
          "text": [
            "<class 'pandas.core.frame.DataFrame'>\n",
            "Index: 1551 entries, 3027 to 1867\n",
            "Data columns (total 3 columns):\n",
            " #   Column     Non-Null Count  Dtype \n",
            "---  ------     --------------  ----- \n",
            " 0   label      1551 non-null   object\n",
            " 1   text       1551 non-null   object\n",
            " 2   label_num  1551 non-null   int64 \n",
            "dtypes: int64(1), object(2)\n",
            "memory usage: 48.5+ KB\n"
          ]
        },
        {
          "data": {
            "text/html": [
              "<div>\n",
              "<style scoped>\n",
              "    .dataframe tbody tr th:only-of-type {\n",
              "        vertical-align: middle;\n",
              "    }\n",
              "\n",
              "    .dataframe tbody tr th {\n",
              "        vertical-align: top;\n",
              "    }\n",
              "\n",
              "    .dataframe thead th {\n",
              "        text-align: right;\n",
              "    }\n",
              "</style>\n",
              "<table border=\"1\" class=\"dataframe\">\n",
              "  <thead>\n",
              "    <tr style=\"text-align: right;\">\n",
              "      <th></th>\n",
              "      <th>label</th>\n",
              "      <th>text</th>\n",
              "      <th>label_num</th>\n",
              "    </tr>\n",
              "  </thead>\n",
              "  <tbody>\n",
              "    <tr>\n",
              "      <th>3027</th>\n",
              "      <td>ham</td>\n",
              "      <td>Subject: tenaska iv 10 / 00\\r\\na revised amoun...</td>\n",
              "      <td>0</td>\n",
              "    </tr>\n",
              "    <tr>\n",
              "      <th>3966</th>\n",
              "      <td>ham</td>\n",
              "      <td>Subject: neon discussion february 14\\r\\nhey gu...</td>\n",
              "      <td>0</td>\n",
              "    </tr>\n",
              "    <tr>\n",
              "      <th>629</th>\n",
              "      <td>ham</td>\n",
              "      <td>Subject: gas day 2 / 08 / 01\\r\\nwe agree :\\r\\n...</td>\n",
              "      <td>0</td>\n",
              "    </tr>\n",
              "    <tr>\n",
              "      <th>4112</th>\n",
              "      <td>spam</td>\n",
              "      <td>Subject: security warning\\r\\n</td>\n",
              "      <td>1</td>\n",
              "    </tr>\n",
              "    <tr>\n",
              "      <th>1012</th>\n",
              "      <td>spam</td>\n",
              "      <td>Subject: innovative big sized seencs\\r\\ni know...</td>\n",
              "      <td>1</td>\n",
              "    </tr>\n",
              "  </tbody>\n",
              "</table>\n",
              "</div>"
            ],
            "text/plain": [
              "     label                                               text  label_num\n",
              "3027   ham  Subject: tenaska iv 10 / 00\\r\\na revised amoun...          0\n",
              "3966   ham  Subject: neon discussion february 14\\r\\nhey gu...          0\n",
              "629    ham  Subject: gas day 2 / 08 / 01\\r\\nwe agree :\\r\\n...          0\n",
              "4112  spam                      Subject: security warning\\r\\n          1\n",
              "1012  spam  Subject: innovative big sized seencs\\r\\ni know...          1"
            ]
          },
          "execution_count": 4,
          "metadata": {},
          "output_type": "execute_result"
        }
      ],
      "source": [
        "# concatenate data and take a small fraction\n",
        "# data = pd.concat([data1,data2,data3],axis=0).sample(frac=0.05)\n",
        "data = data1.sample(frac=0.3)\n",
        "# remove missing values (NaN)\n",
        "data.dropna(inplace=True)\n",
        "data.info()\n",
        "data.head()"
      ]
    },
    {
      "cell_type": "code",
      "execution_count": 10,
      "metadata": {},
      "outputs": [
        {
          "name": "stderr",
          "output_type": "stream",
          "text": [
            "C:\\Users\\ela\\AppData\\Local\\Temp\\ipykernel_20360\\1446035735.py:9: FutureWarning: \n",
            "\n",
            "Passing `palette` without assigning `hue` is deprecated and will be removed in v0.14.0. Assign the `x` variable to `hue` and set `legend=False` for the same effect.\n",
            "\n",
            "  ax = sns.countplot(x=\"label\", data=data, palette=\"Pastel2\")\n",
            "C:\\Users\\ela\\AppData\\Local\\Temp\\ipykernel_20360\\1446035735.py:16: UserWarning: FixedFormatter should only be used together with FixedLocator\n",
            "  ax.set_xticklabels(['ham', 'spam'])\n"
          ]
        },
        {
          "data": {
            "image/png": "[encoded data removed]",
            "text/plain": [
              "<Figure size 640x480 with 1 Axes>"
            ]
          },
          "metadata": {},
          "output_type": "display_data"
        }
      ],
      "source": [
        "import seaborn as sns\n",
        "import matplotlib.pyplot as plt\n",
        "import pandas as pd\n",
        "\n",
        "data = pd.read_csv('spam_ham_dataset.csv')  # Replace 'your_file_path.csv' with the actual file path\n",
        "\n",
        "ax = sns.countplot(x=\"label\", data=data, palette=\"Pastel2\")\n",
        "\n",
        "for i, value in enumerate(data[\"label\"].value_counts(ascending=False).values):\n",
        "    ax.annotate(value, (i, value), ha='center', va='bottom')\n",
        "\n",
        "ax.set_xticklabels(['ham', 'spam'])\n",
        "plt.xlabel(None)\n",
        "plt.show()\n"
      ]
    },
    {
      "cell_type": "code",
      "execution_count": 11,
      "metadata": {
        "execution": {
          "iopub.execute_input": "2023-11-21T19:20:38.085126Z",
          "iopub.status.busy": "2023-11-21T19:20:38.084270Z",
          "iopub.status.idle": "2023-11-21T19:20:38.090720Z",
          "shell.execute_reply": "2023-11-21T19:20:38.089343Z",
          "shell.execute_reply.started": "2023-11-21T19:20:38.085068Z"
        },
        "id": "PSmBSVQ8Utc2",
        "trusted": true
      },
      "outputs": [],
      "source": [
        "emails = data[\"text\"]"
      ]
    },
    {
      "cell_type": "markdown",
      "metadata": {
        "id": "DZzTZ02bUtc3"
      },
      "source": [
        "# Text preprocessing\n",
        "Here I'm removing unneeded characters, like HTML tags, emails etc."
      ]
    },
    {
      "cell_type": "code",
      "execution_count": 12,
      "metadata": {
        "colab": {
          "base_uri": "https://localhost:8080/",
          "height": 36
        },
        "execution": {
          "iopub.execute_input": "2023-11-21T19:20:38.093784Z",
          "iopub.status.busy": "2023-11-21T19:20:38.092756Z",
          "iopub.status.idle": "2023-11-21T19:20:38.962769Z",
          "shell.execute_reply": "2023-11-21T19:20:38.961893Z",
          "shell.execute_reply.started": "2023-11-21T19:20:38.093719Z"
        },
        "id": "XKoaSnRLUtc3",
        "outputId": "5166f230-e019-45d4-d681-4b93d6667458",
        "trusted": true
      },
      "outputs": [
        {
          "data": {
            "text/plain": [
              "'subject enron methanol meter this follow the note gave you monday preliminary flow data provided daren please override pop daily volume presently zero reflect daily activity you can obtain from gas control this change needed asap for economics purposes'"
            ]
          },
          "execution_count": 12,
          "metadata": {},
          "output_type": "execute_result"
        }
      ],
      "source": [
        "import re\n",
        "\n",
        "# remove emails\n",
        "emails = [re.sub('\\S*@\\S*\\s?', '', text) for text in emails]\n",
        "# remove url links\n",
        "emails = [re.sub('\\S*(http[s]?://|www\\.)\\S*', '', text) for text in emails]\n",
        "# remove HTML tags\n",
        "emails = [re.sub(r\"'<.*?>'\", \"\", text) for text in emails]\n",
        "# remove special characters and numbers\n",
        "emails = [re.sub(\"[^a-zA-Z]\",\" \",text) for text in emails]\n",
        "# remove too short (2- characters) words\n",
        "emails = [re.sub(r\"\\b\\w{1,2}\\b\", \"\",text) for text in emails]\n",
        "# and too long (17+ characters)\n",
        "emails = [re.sub(r\"\\b\\w{17,}\\b\", \"\",text) for text in emails]\n",
        "# remove multiple spaces\n",
        "emails = [re.sub(' +', ' ', text).strip() for text in emails]\n",
        "# lower\n",
        "emails = [text.lower() for text in emails]\n",
        "\n",
        "emails[0]"
      ]
    },
    {
      "cell_type": "markdown",
      "metadata": {
        "id": "GNmEtmFtUtc3"
      },
      "source": [
        "## Tokenization and lemmatization"
      ]
    },
    {
      "cell_type": "code",
      "execution_count": 13,
      "metadata": {
        "execution": {
          "iopub.execute_input": "2023-11-21T19:20:38.964807Z",
          "iopub.status.busy": "2023-11-21T19:20:38.964214Z",
          "iopub.status.idle": "2023-11-21T19:20:38.970708Z",
          "shell.execute_reply": "2023-11-21T19:20:38.969425Z",
          "shell.execute_reply.started": "2023-11-21T19:20:38.964767Z"
        },
        "id": "wR27ZwAQUtc3",
        "trusted": true
      },
      "outputs": [],
      "source": [
        "custom_stopwords = ['subject', 'empty', 'email', 'mail', 'enron', 'linux', 'list', 'get', 'http', 'vince', 'com', 'org', 'www', 'etc', 'ect', 'edu', 'hou', 'would', 'need']"
      ]
    },
    {
      "cell_type": "markdown",
      "metadata": {
        "id": "FRmTRCMicMo4"
      },
      "source": [
        "# **Using Spacy**"
      ]
    },
    {
      "cell_type": "code",
      "execution_count": 15,
      "metadata": {},
      "outputs": [
        {
          "name": "stdout",
          "output_type": "stream",
          "text": [
            "Collecting spacyNote: you may need to restart the kernel to use updated packages.\n",
            "\n",
            "  Downloading spacy-3.7.2-cp311-cp311-win_amd64.whl.metadata (26 kB)\n",
            "Collecting spacy-legacy<3.1.0,>=3.0.11 (from spacy)\n",
            "  Downloading spacy_legacy-3.0.12-py2.py3-none-any.whl (29 kB)\n",
            "Collecting spacy-loggers<2.0.0,>=1.0.0 (from spacy)\n",
            "  Downloading spacy_loggers-1.0.5-py3-none-any.whl.metadata (23 kB)\n",
            "Collecting murmurhash<1.1.0,>=0.28.0 (from spacy)\n",
            "  Downloading murmurhash-1.0.10-cp311-cp311-win_amd64.whl.metadata (2.0 kB)\n",
            "Collecting cymem<2.1.0,>=2.0.2 (from spacy)\n",
            "  Downloading cymem-2.0.8-cp311-cp311-win_amd64.whl.metadata (8.6 kB)\n",
            "Collecting preshed<3.1.0,>=3.0.2 (from spacy)\n",
            "  Downloading preshed-3.0.9-cp311-cp311-win_amd64.whl.metadata (2.2 kB)\n",
            "Collecting thinc<8.3.0,>=8.1.8 (from spacy)\n",
            "  Downloading thinc-8.2.2-cp311-cp311-win_amd64.whl.metadata (15 kB)\n",
            "Collecting wasabi<1.2.0,>=0.9.1 (from spacy)\n",
            "  Downloading wasabi-1.1.2-py3-none-any.whl.metadata (28 kB)\n",
            "Collecting srsly<3.0.0,>=2.4.3 (from spacy)\n",
            "  Downloading srsly-2.4.8-cp311-cp311-win_amd64.whl.metadata (20 kB)\n",
            "Collecting catalogue<2.1.0,>=2.0.6 (from spacy)\n",
            "  Downloading catalogue-2.0.10-py3-none-any.whl.metadata (14 kB)\n",
            "Collecting weasel<0.4.0,>=0.1.0 (from spacy)\n",
            "  Downloading weasel-0.3.4-py3-none-any.whl.metadata (4.7 kB)\n",
            "Collecting typer<0.10.0,>=0.3.0 (from spacy)\n",
            "  Downloading typer-0.9.0-py3-none-any.whl (45 kB)\n",
            "     ---------------------------------------- 0.0/45.9 kB ? eta -:--:--\n",
            "     ---------------------------------------- 45.9/45.9 kB 1.1 MB/s eta 0:00:00\n",
            "Requirement already satisfied: smart-open<7.0.0,>=5.2.1 in c:\\users\\ela\\appdata\\local\\packages\\pythonsoftwarefoundation.python.3.11_qbz5n2kfra8p0\\localcache\\local-packages\\python311\\site-packages (from spacy) (6.4.0)\n",
            "Requirement already satisfied: tqdm<5.0.0,>=4.38.0 in c:\\users\\ela\\appdata\\local\\packages\\pythonsoftwarefoundation.python.3.11_qbz5n2kfra8p0\\localcache\\local-packages\\python311\\site-packages (from spacy) (4.66.1)\n",
            "Requirement already satisfied: requests<3.0.0,>=2.13.0 in c:\\users\\ela\\appdata\\local\\packages\\pythonsoftwarefoundation.python.3.11_qbz5n2kfra8p0\\localcache\\local-packages\\python311\\site-packages (from spacy) (2.31.0)\n",
            "Collecting pydantic!=1.8,!=1.8.1,<3.0.0,>=1.7.4 (from spacy)\n",
            "  Downloading pydantic-2.5.2-py3-none-any.whl.metadata (65 kB)\n",
            "     ---------------------------------------- 0.0/65.2 kB ? eta -:--:--\n",
            "     ---------------------------------------- 65.2/65.2 kB 1.8 MB/s eta 0:00:00\n",
            "Requirement already satisfied: jinja2 in c:\\users\\ela\\appdata\\local\\packages\\pythonsoftwarefoundation.python.3.11_qbz5n2kfra8p0\\localcache\\local-packages\\python311\\site-packages (from spacy) (3.1.2)\n",
            "Requirement already satisfied: setuptools in c:\\program files\\windowsapps\\pythonsoftwarefoundation.python.3.11_3.11.752.0_x64__qbz5n2kfra8p0\\lib\\site-packages (from spacy) (65.5.0)\n",
            "Requirement already satisfied: packaging>=20.0 in c:\\users\\ela\\appdata\\local\\packages\\pythonsoftwarefoundation.python.3.11_qbz5n2kfra8p0\\localcache\\local-packages\\python311\\site-packages (from spacy) (22.0)\n",
            "Collecting langcodes<4.0.0,>=3.2.0 (from spacy)\n",
            "  Downloading langcodes-3.3.0-py3-none-any.whl (181 kB)\n",
            "     ---------------------------------------- 0.0/181.6 kB ? eta -:--:--\n",
            "     -------------------------------------- 181.6/181.6 kB 5.5 MB/s eta 0:00:00\n",
            "Requirement already satisfied: numpy>=1.19.0 in c:\\users\\ela\\appdata\\local\\packages\\pythonsoftwarefoundation.python.3.11_qbz5n2kfra8p0\\localcache\\local-packages\\python311\\site-packages (from spacy) (1.23.5)\n",
            "Collecting annotated-types>=0.4.0 (from pydantic!=1.8,!=1.8.1,<3.0.0,>=1.7.4->spacy)\n",
            "  Downloading annotated_types-0.6.0-py3-none-any.whl.metadata (12 kB)\n",
            "Collecting pydantic-core==2.14.5 (from pydantic!=1.8,!=1.8.1,<3.0.0,>=1.7.4->spacy)\n",
            "  Downloading pydantic_core-2.14.5-cp311-none-win_amd64.whl.metadata (6.6 kB)\n",
            "Collecting typing-extensions>=4.6.1 (from pydantic!=1.8,!=1.8.1,<3.0.0,>=1.7.4->spacy)\n",
            "  Downloading typing_extensions-4.9.0-py3-none-any.whl.metadata (3.0 kB)\n",
            "Requirement already satisfied: charset-normalizer<4,>=2 in c:\\users\\ela\\appdata\\local\\packages\\pythonsoftwarefoundation.python.3.11_qbz5n2kfra8p0\\localcache\\local-packages\\python311\\site-packages (from requests<3.0.0,>=2.13.0->spacy) (3.3.0)\n",
            "Requirement already satisfied: idna<4,>=2.5 in c:\\users\\ela\\appdata\\local\\packages\\pythonsoftwarefoundation.python.3.11_qbz5n2kfra8p0\\localcache\\local-packages\\python311\\site-packages (from requests<3.0.0,>=2.13.0->spacy) (3.4)\n",
            "Requirement already satisfied: urllib3<3,>=1.21.1 in c:\\users\\ela\\appdata\\local\\packages\\pythonsoftwarefoundation.python.3.11_qbz5n2kfra8p0\\localcache\\local-packages\\python311\\site-packages (from requests<3.0.0,>=2.13.0->spacy) (2.0.6)\n",
            "Requirement already satisfied: certifi>=2017.4.17 in c:\\users\\ela\\appdata\\local\\packages\\pythonsoftwarefoundation.python.3.11_qbz5n2kfra8p0\\localcache\\local-packages\\python311\\site-packages (from requests<3.0.0,>=2.13.0->spacy) (2023.7.22)\n",
            "Collecting blis<0.8.0,>=0.7.8 (from thinc<8.3.0,>=8.1.8->spacy)\n",
            "  Downloading blis-0.7.11-cp311-cp311-win_amd64.whl.metadata (7.6 kB)\n",
            "Collecting confection<1.0.0,>=0.0.1 (from thinc<8.3.0,>=8.1.8->spacy)\n",
            "  Downloading confection-0.1.4-py3-none-any.whl.metadata (19 kB)\n",
            "Requirement already satisfied: colorama in c:\\users\\ela\\appdata\\local\\packages\\pythonsoftwarefoundation.python.3.11_qbz5n2kfra8p0\\localcache\\local-packages\\python311\\site-packages (from tqdm<5.0.0,>=4.38.0->spacy) (0.4.6)\n",
            "Requirement already satisfied: click<9.0.0,>=7.1.1 in c:\\users\\ela\\appdata\\local\\packages\\pythonsoftwarefoundation.python.3.11_qbz5n2kfra8p0\\localcache\\local-packages\\python311\\site-packages (from typer<0.10.0,>=0.3.0->spacy) (8.1.7)\n",
            "Collecting cloudpathlib<0.17.0,>=0.7.0 (from weasel<0.4.0,>=0.1.0->spacy)\n",
            "  Downloading cloudpathlib-0.16.0-py3-none-any.whl.metadata (14 kB)\n",
            "Requirement already satisfied: MarkupSafe>=2.0 in c:\\users\\ela\\appdata\\local\\packages\\pythonsoftwarefoundation.python.3.11_qbz5n2kfra8p0\\localcache\\local-packages\\python311\\site-packages (from jinja2->spacy) (2.1.3)\n",
            "Downloading spacy-3.7.2-cp311-cp311-win_amd64.whl (12.1 MB)\n",
            "   ---------------------------------------- 0.0/12.1 MB ? eta -:--:--\n",
            "    --------------------------------------- 0.2/12.1 MB 4.1 MB/s eta 0:00:03\n",
            "   - -------------------------------------- 0.4/12.1 MB 4.1 MB/s eta 0:00:03\n",
            "   --- ------------------------------------ 1.0/12.1 MB 4.4 MB/s eta 0:00:03\n",
            "   --- ------------------------------------ 1.2/12.1 MB 4.4 MB/s eta 0:00:03\n",
            "   ---- ----------------------------------- 1.4/12.1 MB 4.5 MB/s eta 0:00:03\n",
            "   ----- ---------------------------------- 1.7/12.1 MB 4.8 MB/s eta 0:00:03\n",
            "   ------ --------------------------------- 2.1/12.1 MB 4.6 MB/s eta 0:00:03\n",
            "   ------- -------------------------------- 2.4/12.1 MB 4.9 MB/s eta 0:00:02\n",
            "   --------- ------------------------------ 2.7/12.1 MB 5.1 MB/s eta 0:00:02\n",
            "   --------- ------------------------------ 2.9/12.1 MB 5.0 MB/s eta 0:00:02\n",
            "   ---------- ----------------------------- 3.3/12.1 MB 5.3 MB/s eta 0:00:02\n",
            "   ----------- ---------------------------- 3.5/12.1 MB 5.1 MB/s eta 0:00:02\n",
            "   ------------ --------------------------- 3.8/12.1 MB 5.1 MB/s eta 0:00:02\n",
            "   ------------- -------------------------- 4.2/12.1 MB 5.3 MB/s eta 0:00:02\n",
            "   -------------- ------------------------- 4.5/12.1 MB 5.3 MB/s eta 0:00:02\n",
            "   --------------- ------------------------ 4.7/12.1 MB 5.3 MB/s eta 0:00:02\n",
            "   ---------------- ----------------------- 5.0/12.1 MB 5.3 MB/s eta 0:00:02\n",
            "   ----------------- ---------------------- 5.3/12.1 MB 5.3 MB/s eta 0:00:02\n",
            "   ------------------ --------------------- 5.6/12.1 MB 5.3 MB/s eta 0:00:02\n",
            "   ------------------- -------------------- 5.9/12.1 MB 5.3 MB/s eta 0:00:02\n",
            "   -------------------- ------------------- 6.2/12.1 MB 5.4 MB/s eta 0:00:02\n",
            "   -------------------- ------------------- 6.3/12.1 MB 5.2 MB/s eta 0:00:02\n",
            "   ---------------------- ----------------- 6.7/12.1 MB 5.3 MB/s eta 0:00:02\n",
            "   ----------------------- ---------------- 7.0/12.1 MB 5.2 MB/s eta 0:00:01\n",
            "   ------------------------ --------------- 7.4/12.1 MB 5.2 MB/s eta 0:00:01\n",
            "   -------------------------- ------------- 8.0/12.1 MB 5.2 MB/s eta 0:00:01\n",
            "   ---------------------------- ----------- 8.4/12.1 MB 5.2 MB/s eta 0:00:01\n",
            "   ---------------------------- ----------- 8.7/12.1 MB 5.2 MB/s eta 0:00:01\n",
            "   ------------------------------ --------- 9.3/12.1 MB 5.2 MB/s eta 0:00:01\n",
            "   ------------------------------- -------- 9.5/12.1 MB 5.2 MB/s eta 0:00:01\n",
            "   --------------------------------- ------ 10.0/12.1 MB 5.3 MB/s eta 0:00:01\n",
            "   ---------------------------------- ----- 10.4/12.1 MB 5.3 MB/s eta 0:00:01\n",
            "   ----------------------------------- ---- 10.8/12.1 MB 5.3 MB/s eta 0:00:01\n",
            "   ---------------------------------------  12.1/12.1 MB 5.5 MB/s eta 0:00:01\n",
            "   ---------------------------------------  12.1/12.1 MB 5.5 MB/s eta 0:00:01\n",
            "   ---------------------------------------  12.1/12.1 MB 5.5 MB/s eta 0:00:01\n",
            "   ---------------------------------------  12.1/12.1 MB 5.5 MB/s eta 0:00:01\n",
            "   ---------------------------------------  12.1/12.1 MB 5.5 MB/s eta 0:00:01\n",
            "   ---------------------------------------  12.1/12.1 MB 5.5 MB/s eta 0:00:01\n",
            "   ---------------------------------------  12.1/12.1 MB 5.5 MB/s eta 0:00:01\n",
            "   ---------------------------------------  12.1/12.1 MB 5.5 MB/s eta 0:00:01\n",
            "   ---------------------------------------  12.1/12.1 MB 5.5 MB/s eta 0:00:01\n",
            "   ---------------------------------------- 12.1/12.1 MB 3.7 MB/s eta 0:00:00\n",
            "Downloading catalogue-2.0.10-py3-none-any.whl (17 kB)\n",
            "Downloading cymem-2.0.8-cp311-cp311-win_amd64.whl (39 kB)\n",
            "Downloading murmurhash-1.0.10-cp311-cp311-win_amd64.whl (25 kB)\n",
            "Downloading preshed-3.0.9-cp311-cp311-win_amd64.whl (122 kB)\n",
            "   ---------------------------------------- 0.0/122.3 kB ? eta -:--:--\n",
            "   ---------------------------------------- 122.3/122.3 kB 3.6 MB/s eta 0:00:00\n",
            "Downloading pydantic-2.5.2-py3-none-any.whl (381 kB)\n",
            "   ---------------------------------------- 0.0/381.9 kB ? eta -:--:--\n",
            "   --------------------------------------- 381.9/381.9 kB 11.6 MB/s eta 0:00:00\n",
            "Downloading pydantic_core-2.14.5-cp311-none-win_amd64.whl (1.9 MB)\n",
            "   ---------------------------------------- 0.0/1.9 MB ? eta -:--:--\n",
            "   ----------- ---------------------------- 0.5/1.9 MB 8.3 MB/s eta 0:00:01\n",
            "   ------------------ --------------------- 0.9/1.9 MB 7.7 MB/s eta 0:00:01\n",
            "   -------------------------- ------------- 1.3/1.9 MB 6.7 MB/s eta 0:00:01\n",
            "   ---------------------------------- ----- 1.6/1.9 MB 6.5 MB/s eta 0:00:01\n",
            "   ---------------------------------------  1.9/1.9 MB 6.3 MB/s eta 0:00:01\n",
            "   ---------------------------------------- 1.9/1.9 MB 5.7 MB/s eta 0:00:00\n",
            "Downloading spacy_loggers-1.0.5-py3-none-any.whl (22 kB)\n",
            "Downloading srsly-2.4.8-cp311-cp311-win_amd64.whl (479 kB)\n",
            "   ---------------------------------------- 0.0/479.7 kB ? eta -:--:--\n",
            "   ----------------------------------- --- 440.3/479.7 kB 13.9 MB/s eta 0:00:01\n",
            "   ---------------------------------------- 479.7/479.7 kB 7.6 MB/s eta 0:00:00\n",
            "Downloading thinc-8.2.2-cp311-cp311-win_amd64.whl (1.5 MB)\n",
            "   ---------------------------------------- 0.0/1.5 MB ? eta -:--:--\n",
            "   ------------------------- -------------- 0.9/1.5 MB 6.7 MB/s eta 0:00:01\n",
            "   ---------------------------------------- 1.5/1.5 MB 5.2 MB/s eta 0:00:00\n",
            "Downloading wasabi-1.1.2-py3-none-any.whl (27 kB)\n",
            "Downloading weasel-0.3.4-py3-none-any.whl (50 kB)\n",
            "   ---------------------------------------- 0.0/50.1 kB ? eta -:--:--\n",
            "   ---------------------------------------- 50.1/50.1 kB 1.3 MB/s eta 0:00:00\n",
            "Downloading annotated_types-0.6.0-py3-none-any.whl (12 kB)\n",
            "Downloading blis-0.7.11-cp311-cp311-win_amd64.whl (6.6 MB)\n",
            "   ---------------------------------------- 0.0/6.6 MB ? eta -:--:--\n",
            "   -- ------------------------------------- 0.4/6.6 MB 12.2 MB/s eta 0:00:01\n",
            "   ---- ----------------------------------- 0.8/6.6 MB 6.4 MB/s eta 0:00:01\n",
            "   ------ --------------------------------- 1.1/6.6 MB 6.1 MB/s eta 0:00:01\n",
            "   --------- ------------------------------ 1.5/6.6 MB 6.4 MB/s eta 0:00:01\n",
            "   ---------------- ----------------------- 2.8/6.6 MB 4.9 MB/s eta 0:00:01\n",
            "   ---------------------- ----------------- 3.7/6.6 MB 4.8 MB/s eta 0:00:01\n",
            "   ------------------------- -------------- 4.2/6.6 MB 4.5 MB/s eta 0:00:01\n",
            "   -------------------------- ------------- 4.4/6.6 MB 4.6 MB/s eta 0:00:01\n",
            "   ---------------------------- ----------- 4.7/6.6 MB 4.6 MB/s eta 0:00:01\n",
            "   ------------------------------ --------- 5.0/6.6 MB 4.6 MB/s eta 0:00:01\n",
            "   ------------------------------- -------- 5.3/6.6 MB 4.6 MB/s eta 0:00:01\n",
            "   --------------------------------- ------ 5.5/6.6 MB 4.4 MB/s eta 0:00:01\n",
            "   ---------------------------------------  6.6/6.6 MB 4.6 MB/s eta 0:00:01\n",
            "   ---------------------------------------- 6.6/6.6 MB 4.4 MB/s eta 0:00:00\n",
            "Downloading cloudpathlib-0.16.0-py3-none-any.whl (45 kB)\n",
            "   ---------------------------------------- 0.0/45.0 kB ? eta -:--:--\n",
            "   ---------------------------------------- 45.0/45.0 kB 2.2 MB/s eta 0:00:00\n",
            "Downloading confection-0.1.4-py3-none-any.whl (35 kB)\n",
            "Downloading typing_extensions-4.9.0-py3-none-any.whl (32 kB)\n",
            "Installing collected packages: cymem, wasabi, typing-extensions, spacy-loggers, spacy-legacy, murmurhash, langcodes, cloudpathlib, catalogue, blis, annotated-types, typer, srsly, pydantic-core, preshed, pydantic, confection, weasel, thinc, spacy\n",
            "Successfully installed annotated-types-0.6.0 blis-0.7.11 catalogue-2.0.10 cloudpathlib-0.16.0 confection-0.1.4 cymem-2.0.8 langcodes-3.3.0 murmurhash-1.0.10 preshed-3.0.9 pydantic-2.5.2 pydantic-core-2.14.5 spacy-3.7.2 spacy-legacy-3.0.12 spacy-loggers-1.0.5 srsly-2.4.8 thinc-8.2.2 typer-0.9.0 typing-extensions-4.9.0 wasabi-1.1.2 weasel-0.3.4\n"
          ]
        }
      ],
      "source": [
        "pip install spacy"
      ]
    },
    {
      "cell_type": "code",
      "execution_count": 18,
      "metadata": {},
      "outputs": [
        {
          "name": "stdout",
          "output_type": "stream",
          "text": [
            "Collecting en-core-web-sm==3.7.1\n",
            "  Downloading https://github.com/explosion/spacy-models/releases/download/en_core_web_sm-3.7.1/en_core_web_sm-3.7.1-py3-none-any.whl (12.8 MB)\n",
            "     ---------------------------------------- 0.0/12.8 MB ? eta -:--:--\n",
            "     ---------------------------------------- 0.1/12.8 MB 2.2 MB/s eta 0:00:06\n",
            "      --------------------------------------- 0.3/12.8 MB 3.2 MB/s eta 0:00:04\n",
            "     - -------------------------------------- 0.5/12.8 MB 3.7 MB/s eta 0:00:04\n",
            "     -- ------------------------------------- 0.7/12.8 MB 3.8 MB/s eta 0:00:04\n",
            "     ---- ----------------------------------- 1.4/12.8 MB 4.0 MB/s eta 0:00:03\n",
            "     ----- ---------------------------------- 1.6/12.8 MB 4.2 MB/s eta 0:00:03\n",
            "     ----- ---------------------------------- 1.8/12.8 MB 4.1 MB/s eta 0:00:03\n",
            "     ------ --------------------------------- 1.9/12.8 MB 4.1 MB/s eta 0:00:03\n",
            "     ------ --------------------------------- 2.2/12.8 MB 4.1 MB/s eta 0:00:03\n",
            "     ------- -------------------------------- 2.3/12.8 MB 4.0 MB/s eta 0:00:03\n",
            "     ------- -------------------------------- 2.4/12.8 MB 3.9 MB/s eta 0:00:03\n",
            "     ------- -------------------------------- 2.5/12.8 MB 3.8 MB/s eta 0:00:03\n",
            "     -------- ------------------------------- 2.6/12.8 MB 3.8 MB/s eta 0:00:03\n",
            "     -------- ------------------------------- 2.6/12.8 MB 3.4 MB/s eta 0:00:03\n",
            "     -------- ------------------------------- 2.8/12.8 MB 3.4 MB/s eta 0:00:03\n",
            "     --------- ------------------------------ 3.0/12.8 MB 3.5 MB/s eta 0:00:03\n",
            "     --------- ------------------------------ 3.2/12.8 MB 3.6 MB/s eta 0:00:03\n",
            "     ---------- ----------------------------- 3.4/12.8 MB 3.6 MB/s eta 0:00:03\n",
            "     ----------- ---------------------------- 3.7/12.8 MB 3.6 MB/s eta 0:00:03\n",
            "     ------------ --------------------------- 3.9/12.8 MB 3.7 MB/s eta 0:00:03\n",
            "     ------------ --------------------------- 4.1/12.8 MB 3.7 MB/s eta 0:00:03\n",
            "     ------------- -------------------------- 4.3/12.8 MB 3.8 MB/s eta 0:00:03\n",
            "     -------------- ------------------------- 4.5/12.8 MB 3.8 MB/s eta 0:00:03\n",
            "     -------------- ------------------------- 4.7/12.8 MB 3.8 MB/s eta 0:00:03\n",
            "     --------------- ------------------------ 4.9/12.8 MB 3.9 MB/s eta 0:00:03\n",
            "     ---------------- ----------------------- 5.1/12.8 MB 3.9 MB/s eta 0:00:02\n",
            "     ---------------- ----------------------- 5.3/12.8 MB 3.9 MB/s eta 0:00:02\n",
            "     ----------------- ---------------------- 5.5/12.8 MB 3.9 MB/s eta 0:00:02\n",
            "     ----------------- ---------------------- 5.7/12.8 MB 3.9 MB/s eta 0:00:02\n",
            "     ------------------ --------------------- 6.0/12.8 MB 3.9 MB/s eta 0:00:02\n",
            "     ------------------- -------------------- 6.2/12.8 MB 4.0 MB/s eta 0:00:02\n",
            "     -------------------- ------------------- 6.4/12.8 MB 4.0 MB/s eta 0:00:02\n",
            "     -------------------- ------------------- 6.7/12.8 MB 4.1 MB/s eta 0:00:02\n",
            "     --------------------- ------------------ 6.9/12.8 MB 4.0 MB/s eta 0:00:02\n",
            "     ---------------------- ----------------- 7.2/12.8 MB 4.1 MB/s eta 0:00:02\n",
            "     ----------------------- ---------------- 7.5/12.8 MB 4.1 MB/s eta 0:00:02\n",
            "     ----------------------- ---------------- 7.7/12.8 MB 4.2 MB/s eta 0:00:02\n",
            "     ------------------------ --------------- 7.9/12.8 MB 4.2 MB/s eta 0:00:02\n",
            "     ------------------------- -------------- 8.1/12.8 MB 4.2 MB/s eta 0:00:02\n",
            "     -------------------------- ------------- 8.4/12.8 MB 4.2 MB/s eta 0:00:02\n",
            "     -------------------------- ------------- 8.6/12.8 MB 4.2 MB/s eta 0:00:02\n",
            "     --------------------------- ------------ 8.8/12.8 MB 4.2 MB/s eta 0:00:01\n",
            "     ---------------------------- ----------- 9.0/12.8 MB 4.2 MB/s eta 0:00:01\n",
            "     ---------------------------- ----------- 9.3/12.8 MB 4.3 MB/s eta 0:00:01\n",
            "     ----------------------------- ---------- 9.5/12.8 MB 4.3 MB/s eta 0:00:01\n",
            "     ------------------------------ --------- 9.8/12.8 MB 4.3 MB/s eta 0:00:01\n",
            "     ------------------------------- -------- 10.0/12.8 MB 4.3 MB/s eta 0:00:01\n",
            "     ------------------------------- -------- 10.1/12.8 MB 4.3 MB/s eta 0:00:01\n",
            "     -------------------------------- ------- 10.4/12.8 MB 4.3 MB/s eta 0:00:01\n",
            "     -------------------------------- ------- 10.5/12.8 MB 4.3 MB/s eta 0:00:01\n",
            "     --------------------------------- ------ 10.8/12.8 MB 4.3 MB/s eta 0:00:01\n",
            "     ---------------------------------- ----- 11.0/12.8 MB 4.4 MB/s eta 0:00:01\n",
            "     ---------------------------------- ----- 11.2/12.8 MB 4.4 MB/s eta 0:00:01\n",
            "     ----------------------------------- ---- 11.4/12.8 MB 4.4 MB/s eta 0:00:01\n",
            "     ------------------------------------ --- 11.7/12.8 MB 4.4 MB/s eta 0:00:01\n",
            "     ------------------------------------- -- 11.9/12.8 MB 4.4 MB/s eta 0:00:01\n",
            "     -------------------------------------- - 12.2/12.8 MB 4.5 MB/s eta 0:00:01\n",
            "     -------------------------------------- - 12.4/12.8 MB 4.4 MB/s eta 0:00:01\n",
            "     ---------------------------------------  12.6/12.8 MB 4.5 MB/s eta 0:00:01\n",
            "     ---------------------------------------  12.8/12.8 MB 4.6 MB/s eta 0:00:01\n",
            "     ---------------------------------------  12.8/12.8 MB 4.6 MB/s eta 0:00:01\n",
            "     ---------------------------------------  12.8/12.8 MB 4.6 MB/s eta 0:00:01\n",
            "     ---------------------------------------  12.8/12.8 MB 4.6 MB/s eta 0:00:01\n",
            "     ---------------------------------------  12.8/12.8 MB 4.6 MB/s eta 0:00:01\n",
            "     ---------------------------------------  12.8/12.8 MB 4.6 MB/s eta 0:00:01\n",
            "     ---------------------------------------  12.8/12.8 MB 4.6 MB/s eta 0:00:01\n",
            "     ---------------------------------------  12.8/12.8 MB 4.6 MB/s eta 0:00:01\n",
            "     ---------------------------------------  12.8/12.8 MB 4.6 MB/s eta 0:00:01\n",
            "     ---------------------------------------  12.8/12.8 MB 4.6 MB/s eta 0:00:01\n",
            "     ---------------------------------------  12.8/12.8 MB 4.6 MB/s eta 0:00:01\n",
            "     ---------------------------------------  12.8/12.8 MB 4.6 MB/s eta 0:00:01\n",
            "     ---------------------------------------  12.8/12.8 MB 4.6 MB/s eta 0:00:01\n",
            "     ---------------------------------------  12.8/12.8 MB 4.6 MB/s eta 0:00:01\n",
            "     ---------------------------------------  12.8/12.8 MB 4.6 MB/s eta 0:00:01\n",
            "     ---------------------------------------  12.8/12.8 MB 4.6 MB/s eta 0:00:01\n",
            "     ---------------------------------------  12.8/12.8 MB 4.6 MB/s eta 0:00:01\n",
            "     ---------------------------------------  12.8/12.8 MB 4.6 MB/s eta 0:00:01\n",
            "     ---------------------------------------  12.8/12.8 MB 4.6 MB/s eta 0:00:01\n",
            "     ---------------------------------------  12.8/12.8 MB 4.6 MB/s eta 0:00:01\n",
            "     ---------------------------------------  12.8/12.8 MB 4.6 MB/s eta 0:00:01\n",
            "     ---------------------------------------  12.8/12.8 MB 4.6 MB/s eta 0:00:01\n",
            "     ---------------------------------------  12.8/12.8 MB 4.6 MB/s eta 0:00:01\n",
            "     ---------------------------------------  12.8/12.8 MB 4.6 MB/s eta 0:00:01\n",
            "     ---------------------------------------  12.8/12.8 MB 4.6 MB/s eta 0:00:01\n",
            "     ---------------------------------------  12.8/12.8 MB 4.6 MB/s eta 0:00:01\n",
            "     ---------------------------------------  12.8/12.8 MB 4.6 MB/s eta 0:00:01\n",
            "     ---------------------------------------  12.8/12.8 MB 4.6 MB/s eta 0:00:01\n",
            "     ---------------------------------------  12.8/12.8 MB 4.6 MB/s eta 0:00:01\n",
            "     ---------------------------------------  12.8/12.8 MB 4.6 MB/s eta 0:00:01\n",
            "     ---------------------------------------  12.8/12.8 MB 4.6 MB/s eta 0:00:01\n",
            "     ---------------------------------------  12.8/12.8 MB 4.6 MB/s eta 0:00:01\n",
            "     ---------------------------------------  12.8/12.8 MB 4.6 MB/s eta 0:00:01\n",
            "     ---------------------------------------  12.8/12.8 MB 4.6 MB/s eta 0:00:01\n",
            "     ---------------------------------------  12.8/12.8 MB 4.6 MB/s eta 0:00:01\n",
            "     ---------------------------------------  12.8/12.8 MB 4.6 MB/s eta 0:00:01\n",
            "     ---------------------------------------  12.8/12.8 MB 4.6 MB/s eta 0:00:01\n",
            "     ---------------------------------------  12.8/12.8 MB 4.6 MB/s eta 0:00:01\n",
            "     ---------------------------------------  12.8/12.8 MB 4.6 MB/s eta 0:00:01\n",
            "     ---------------------------------------  12.8/12.8 MB 4.6 MB/s eta 0:00:01\n",
            "     ---------------------------------------  12.8/12.8 MB 4.6 MB/s eta 0:00:01\n",
            "     ---------------------------------------  12.8/12.8 MB 4.6 MB/s eta 0:00:01\n",
            "     ---------------------------------------  12.8/12.8 MB 4.6 MB/s eta 0:00:01\n",
            "     ---------------------------------------  12.8/12.8 MB 4.6 MB/s eta 0:00:01\n",
            "     ---------------------------------------  12.8/12.8 MB 4.6 MB/s eta 0:00:01\n",
            "     ---------------------------------------  12.8/12.8 MB 4.6 MB/s eta 0:00:01\n",
            "     ---------------------------------------  12.8/12.8 MB 4.6 MB/s eta 0:00:01\n",
            "     ---------------------------------------  12.8/12.8 MB 4.6 MB/s eta 0:00:01\n",
            "     ---------------------------------------  12.8/12.8 MB 4.6 MB/s eta 0:00:01\n",
            "     ---------------------------------------  12.8/12.8 MB 4.6 MB/s eta 0:00:01\n",
            "     ---------------------------------------  12.8/12.8 MB 4.6 MB/s eta 0:00:01\n",
            "     ---------------------------------------  12.8/12.8 MB 4.6 MB/s eta 0:00:01\n",
            "     ---------------------------------------  12.8/12.8 MB 4.6 MB/s eta 0:00:01\n",
            "     ---------------------------------------  12.8/12.8 MB 4.6 MB/s eta 0:00:01\n",
            "     ---------------------------------------  12.8/12.8 MB 4.6 MB/s eta 0:00:01\n",
            "     ---------------------------------------  12.8/12.8 MB 4.6 MB/s eta 0:00:01\n",
            "     ---------------------------------------  12.8/12.8 MB 4.6 MB/s eta 0:00:01\n",
            "     ---------------------------------------  12.8/12.8 MB 4.6 MB/s eta 0:00:01\n",
            "     ---------------------------------------  12.8/12.8 MB 4.6 MB/s eta 0:00:01\n",
            "     ---------------------------------------  12.8/12.8 MB 4.6 MB/s eta 0:00:01\n",
            "     ---------------------------------------  12.8/12.8 MB 4.6 MB/s eta 0:00:01\n",
            "     ---------------------------------------  12.8/12.8 MB 4.6 MB/s eta 0:00:01\n",
            "     ---------------------------------------  12.8/12.8 MB 4.6 MB/s eta 0:00:01\n",
            "     ---------------------------------------  12.8/12.8 MB 4.6 MB/s eta 0:00:01\n",
            "     ---------------------------------------  12.8/12.8 MB 4.6 MB/s eta 0:00:01\n",
            "     ---------------------------------------  12.8/12.8 MB 4.6 MB/s eta 0:00:01\n",
            "     ---------------------------------------  12.8/12.8 MB 4.6 MB/s eta 0:00:01\n",
            "     ---------------------------------------  12.8/12.8 MB 4.6 MB/s eta 0:00:01\n",
            "     ---------------------------------------  12.8/12.8 MB 4.6 MB/s eta 0:00:01\n",
            "     ---------------------------------------  12.8/12.8 MB 4.6 MB/s eta 0:00:01\n",
            "     ---------------------------------------  12.8/12.8 MB 4.6 MB/s eta 0:00:01\n",
            "     ---------------------------------------  12.8/12.8 MB 4.6 MB/s eta 0:00:01\n",
            "     ---------------------------------------  12.8/12.8 MB 4.6 MB/s eta 0:00:01\n",
            "     ---------------------------------------  12.8/12.8 MB 4.6 MB/s eta 0:00:01\n",
            "     ---------------------------------------  12.8/12.8 MB 4.6 MB/s eta 0:00:01\n",
            "     ---------------------------------------  12.8/12.8 MB 4.6 MB/s eta 0:00:01\n",
            "     ---------------------------------------  12.8/12.8 MB 4.6 MB/s eta 0:00:01\n",
            "     ---------------------------------------  12.8/12.8 MB 4.6 MB/s eta 0:00:01\n",
            "     ---------------------------------------  12.8/12.8 MB 4.6 MB/s eta 0:00:01\n",
            "     ---------------------------------------  12.8/12.8 MB 4.6 MB/s eta 0:00:01\n",
            "     ---------------------------------------  12.8/12.8 MB 4.6 MB/s eta 0:00:01\n",
            "     ---------------------------------------  12.8/12.8 MB 4.6 MB/s eta 0:00:01\n",
            "     ---------------------------------------  12.8/12.8 MB 4.6 MB/s eta 0:00:01\n",
            "     ---------------------------------------  12.8/12.8 MB 4.6 MB/s eta 0:00:01\n",
            "     ---------------------------------------  12.8/12.8 MB 4.6 MB/s eta 0:00:01\n",
            "     ---------------------------------------  12.8/12.8 MB 4.6 MB/s eta 0:00:01\n",
            "     ---------------------------------------  12.8/12.8 MB 4.6 MB/s eta 0:00:01\n",
            "     ---------------------------------------  12.8/12.8 MB 4.6 MB/s eta 0:00:01\n",
            "     ---------------------------------------  12.8/12.8 MB 4.6 MB/s eta 0:00:01\n",
            "     ---------------------------------------  12.8/12.8 MB 4.6 MB/s eta 0:00:01\n",
            "     ---------------------------------------  12.8/12.8 MB 4.6 MB/s eta 0:00:01\n",
            "     ---------------------------------------  12.8/12.8 MB 4.6 MB/s eta 0:00:01\n",
            "     ---------------------------------------  12.8/12.8 MB 4.6 MB/s eta 0:00:01\n",
            "     ---------------------------------------  12.8/12.8 MB 4.6 MB/s eta 0:00:01\n",
            "     ---------------------------------------  12.8/12.8 MB 4.6 MB/s eta 0:00:01\n",
            "     ---------------------------------------  12.8/12.8 MB 4.6 MB/s eta 0:00:01\n",
            "     ---------------------------------------  12.8/12.8 MB 4.6 MB/s eta 0:00:01\n",
            "     ---------------------------------------  12.8/12.8 MB 4.6 MB/s eta 0:00:01\n",
            "     ---------------------------------------  12.8/12.8 MB 4.6 MB/s eta 0:00:01\n",
            "     ---------------------------------------  12.8/12.8 MB 4.6 MB/s eta 0:00:01\n",
            "     ---------------------------------------  12.8/12.8 MB 4.6 MB/s eta 0:00:01\n",
            "     ---------------------------------------  12.8/12.8 MB 4.6 MB/s eta 0:00:01\n",
            "     ---------------------------------------  12.8/12.8 MB 4.6 MB/s eta 0:00:01\n",
            "     ---------------------------------------  12.8/12.8 MB 4.6 MB/s eta 0:00:01\n",
            "     ---------------------------------------  12.8/12.8 MB 4.6 MB/s eta 0:00:01\n",
            "     ---------------------------------------  12.8/12.8 MB 4.6 MB/s eta 0:00:01\n",
            "     ---------------------------------------  12.8/12.8 MB 4.6 MB/s eta 0:00:01\n",
            "     ---------------------------------------  12.8/12.8 MB 4.6 MB/s eta 0:00:01\n",
            "     ---------------------------------------  12.8/12.8 MB 4.6 MB/s eta 0:00:01\n",
            "     ---------------------------------------  12.8/12.8 MB 4.6 MB/s eta 0:00:01\n",
            "     ---------------------------------------  12.8/12.8 MB 4.6 MB/s eta 0:00:01\n",
            "     ---------------------------------------  12.8/12.8 MB 4.6 MB/s eta 0:00:01\n",
            "     ---------------------------------------  12.8/12.8 MB 4.6 MB/s eta 0:00:01\n",
            "     ---------------------------------------  12.8/12.8 MB 4.6 MB/s eta 0:00:01\n",
            "     ---------------------------------------  12.8/12.8 MB 4.6 MB/s eta 0:00:01\n",
            "     ---------------------------------------  12.8/12.8 MB 4.6 MB/s eta 0:00:01\n",
            "     ---------------------------------------  12.8/12.8 MB 4.6 MB/s eta 0:00:01\n",
            "     ---------------------------------------  12.8/12.8 MB 4.6 MB/s eta 0:00:01\n",
            "     ---------------------------------------  12.8/12.8 MB 4.6 MB/s eta 0:00:01\n",
            "     ---------------------------------------  12.8/12.8 MB 4.6 MB/s eta 0:00:01\n",
            "     ---------------------------------------  12.8/12.8 MB 4.6 MB/s eta 0:00:01\n",
            "     ---------------------------------------  12.8/12.8 MB 4.6 MB/s eta 0:00:01\n",
            "     ---------------------------------------  12.8/12.8 MB 4.6 MB/s eta 0:00:01\n",
            "     ---------------------------------------  12.8/12.8 MB 4.6 MB/s eta 0:00:01\n",
            "     ---------------------------------------  12.8/12.8 MB 4.6 MB/s eta 0:00:01\n",
            "     ---------------------------------------  12.8/12.8 MB 4.6 MB/s eta 0:00:01\n",
            "     ---------------------------------------  12.8/12.8 MB 4.6 MB/s eta 0:00:01\n",
            "     ---------------------------------------  12.8/12.8 MB 4.6 MB/s eta 0:00:01\n",
            "     ---------------------------------------  12.8/12.8 MB 4.6 MB/s eta 0:00:01\n",
            "     ---------------------------------------  12.8/12.8 MB 4.6 MB/s eta 0:00:01\n",
            "     ---------------------------------------  12.8/12.8 MB 4.6 MB/s eta 0:00:01\n",
            "     ---------------------------------------  12.8/12.8 MB 4.6 MB/s eta 0:00:01\n",
            "     ---------------------------------------  12.8/12.8 MB 4.6 MB/s eta 0:00:01\n",
            "     ---------------------------------------  12.8/12.8 MB 4.6 MB/s eta 0:00:01\n",
            "     ---------------------------------------  12.8/12.8 MB 4.6 MB/s eta 0:00:01\n",
            "     ---------------------------------------  12.8/12.8 MB 4.6 MB/s eta 0:00:01\n",
            "     ---------------------------------------  12.8/12.8 MB 4.6 MB/s eta 0:00:01\n",
            "     ---------------------------------------  12.8/12.8 MB 4.6 MB/s eta 0:00:01\n",
            "     ---------------------------------------  12.8/12.8 MB 4.6 MB/s eta 0:00:01\n",
            "     ---------------------------------------  12.8/12.8 MB 4.6 MB/s eta 0:00:01\n",
            "     ---------------------------------------  12.8/12.8 MB 4.6 MB/s eta 0:00:01\n",
            "     ---------------------------------------  12.8/12.8 MB 4.6 MB/s eta 0:00:01\n",
            "     ---------------------------------------  12.8/12.8 MB 4.6 MB/s eta 0:00:01\n",
            "     ---------------------------------------  12.8/12.8 MB 4.6 MB/s eta 0:00:01\n",
            "     ---------------------------------------  12.8/12.8 MB 4.6 MB/s eta 0:00:01\n",
            "     ---------------------------------------  12.8/12.8 MB 4.6 MB/s eta 0:00:01\n",
            "     ---------------------------------------  12.8/12.8 MB 4.6 MB/s eta 0:00:01\n",
            "     ---------------------------------------  12.8/12.8 MB 4.6 MB/s eta 0:00:01\n",
            "     ---------------------------------------  12.8/12.8 MB 4.6 MB/s eta 0:00:01\n",
            "     ---------------------------------------  12.8/12.8 MB 4.6 MB/s eta 0:00:01\n",
            "     ---------------------------------------  12.8/12.8 MB 4.6 MB/s eta 0:00:01\n",
            "     ---------------------------------------  12.8/12.8 MB 4.6 MB/s eta 0:00:01\n",
            "     ---------------------------------------  12.8/12.8 MB 4.6 MB/s eta 0:00:01\n",
            "     ---------------------------------------  12.8/12.8 MB 4.6 MB/s eta 0:00:01\n",
            "     ---------------------------------------  12.8/12.8 MB 4.6 MB/s eta 0:00:01\n",
            "     ---------------------------------------  12.8/12.8 MB 4.6 MB/s eta 0:00:01\n",
            "     ---------------------------------------  12.8/12.8 MB 4.6 MB/s eta 0:00:01\n",
            "     ---------------------------------------  12.8/12.8 MB 4.6 MB/s eta 0:00:01\n",
            "     ---------------------------------------  12.8/12.8 MB 4.6 MB/s eta 0:00:01\n",
            "     ---------------------------------------  12.8/12.8 MB 4.6 MB/s eta 0:00:01\n",
            "     ---------------------------------------  12.8/12.8 MB 4.6 MB/s eta 0:00:01\n",
            "     ---------------------------------------  12.8/12.8 MB 4.6 MB/s eta 0:00:01\n",
            "     ---------------------------------------  12.8/12.8 MB 4.6 MB/s eta 0:00:01\n",
            "     ---------------------------------------  12.8/12.8 MB 4.6 MB/s eta 0:00:01\n",
            "     ---------------------------------------  12.8/12.8 MB 4.6 MB/s eta 0:00:01\n",
            "     ---------------------------------------  12.8/12.8 MB 4.6 MB/s eta 0:00:01\n",
            "     ---------------------------------------  12.8/12.8 MB 4.6 MB/s eta 0:00:01\n",
            "     ---------------------------------------  12.8/12.8 MB 4.6 MB/s eta 0:00:01\n",
            "     ---------------------------------------  12.8/12.8 MB 4.6 MB/s eta 0:00:01\n",
            "     ---------------------------------------  12.8/12.8 MB 4.6 MB/s eta 0:00:01\n",
            "     ---------------------------------------  12.8/12.8 MB 4.6 MB/s eta 0:00:01\n",
            "     ---------------------------------------  12.8/12.8 MB 4.6 MB/s eta 0:00:01\n",
            "     ---------------------------------------  12.8/12.8 MB 4.6 MB/s eta 0:00:01\n",
            "     ---------------------------------------  12.8/12.8 MB 4.6 MB/s eta 0:00:01\n",
            "     ---------------------------------------  12.8/12.8 MB 4.6 MB/s eta 0:00:01\n",
            "     ---------------------------------------  12.8/12.8 MB 4.6 MB/s eta 0:00:01\n",
            "     ---------------------------------------  12.8/12.8 MB 4.6 MB/s eta 0:00:01\n",
            "     ---------------------------------------  12.8/12.8 MB 4.6 MB/s eta 0:00:01\n",
            "     ---------------------------------------  12.8/12.8 MB 4.6 MB/s eta 0:00:01\n",
            "     ---------------------------------------  12.8/12.8 MB 4.6 MB/s eta 0:00:01\n",
            "     ---------------------------------------  12.8/12.8 MB 4.6 MB/s eta 0:00:01\n",
            "     ---------------------------------------  12.8/12.8 MB 4.6 MB/s eta 0:00:01\n",
            "     ---------------------------------------  12.8/12.8 MB 4.6 MB/s eta 0:00:01\n",
            "     ---------------------------------------  12.8/12.8 MB 4.6 MB/s eta 0:00:01\n",
            "     ---------------------------------------  12.8/12.8 MB 4.6 MB/s eta 0:00:01\n",
            "     ---------------------------------------  12.8/12.8 MB 4.6 MB/s eta 0:00:01\n",
            "     ---------------------------------------  12.8/12.8 MB 4.6 MB/s eta 0:00:01\n",
            "     ---------------------------------------  12.8/12.8 MB 4.6 MB/s eta 0:00:01\n",
            "     ---------------------------------------  12.8/12.8 MB 4.6 MB/s eta 0:00:01\n",
            "     ---------------------------------------  12.8/12.8 MB 4.6 MB/s eta 0:00:01\n",
            "     ---------------------------------------  12.8/12.8 MB 4.6 MB/s eta 0:00:01\n",
            "     ---------------------------------------  12.8/12.8 MB 4.6 MB/s eta 0:00:01\n",
            "     ---------------------------------------  12.8/12.8 MB 4.6 MB/s eta 0:00:01\n",
            "     ---------------------------------------  12.8/12.8 MB 4.6 MB/s eta 0:00:01\n",
            "     ---------------------------------------  12.8/12.8 MB 4.6 MB/s eta 0:00:01\n",
            "     ---------------------------------------  12.8/12.8 MB 4.6 MB/s eta 0:00:01\n",
            "     ---------------------------------------  12.8/12.8 MB 4.6 MB/s eta 0:00:01\n",
            "     ---------------------------------------  12.8/12.8 MB 4.6 MB/s eta 0:00:01\n",
            "     ---------------------------------------  12.8/12.8 MB 4.6 MB/s eta 0:00:01\n",
            "     ---------------------------------------  12.8/12.8 MB 4.6 MB/s eta 0:00:01\n",
            "     ---------------------------------------  12.8/12.8 MB 4.6 MB/s eta 0:00:01\n",
            "     ---------------------------------------  12.8/12.8 MB 4.6 MB/s eta 0:00:01\n",
            "     ---------------------------------------  12.8/12.8 MB 4.6 MB/s eta 0:00:01\n",
            "     ---------------------------------------  12.8/12.8 MB 4.6 MB/s eta 0:00:01\n",
            "     ---------------------------------------  12.8/12.8 MB 4.6 MB/s eta 0:00:01\n",
            "     ---------------------------------------  12.8/12.8 MB 4.6 MB/s eta 0:00:01\n",
            "     ---------------------------------------  12.8/12.8 MB 4.6 MB/s eta 0:00:01\n",
            "     ---------------------------------------  12.8/12.8 MB 4.6 MB/s eta 0:00:01\n",
            "     ---------------------------------------  12.8/12.8 MB 4.6 MB/s eta 0:00:01\n",
            "     ---------------------------------------  12.8/12.8 MB 4.6 MB/s eta 0:00:01\n",
            "     ---------------------------------------  12.8/12.8 MB 4.6 MB/s eta 0:00:01\n",
            "     ---------------------------------------  12.8/12.8 MB 4.6 MB/s eta 0:00:01\n",
            "     ---------------------------------------  12.8/12.8 MB 4.6 MB/s eta 0:00:01\n",
            "     ---------------------------------------  12.8/12.8 MB 4.6 MB/s eta 0:00:01\n",
            "     ---------------------------------------  12.8/12.8 MB 4.6 MB/s eta 0:00:01\n",
            "     ---------------------------------------  12.8/12.8 MB 4.6 MB/s eta 0:00:01\n",
            "     ---------------------------------------  12.8/12.8 MB 4.6 MB/s eta 0:00:01\n",
            "     ---------------------------------------  12.8/12.8 MB 4.6 MB/s eta 0:00:01\n",
            "     ---------------------------------------  12.8/12.8 MB 4.6 MB/s eta 0:00:01\n",
            "     ---------------------------------------  12.8/12.8 MB 4.6 MB/s eta 0:00:01\n",
            "     ---------------------------------------  12.8/12.8 MB 4.6 MB/s eta 0:00:01\n",
            "     ---------------------------------------  12.8/12.8 MB 4.6 MB/s eta 0:00:01\n",
            "     ---------------------------------------  12.8/12.8 MB 4.6 MB/s eta 0:00:01\n",
            "     ---------------------------------------  12.8/12.8 MB 4.6 MB/s eta 0:00:01\n",
            "     ---------------------------------------  12.8/12.8 MB 4.6 MB/s eta 0:00:01\n",
            "     ---------------------------------------  12.8/12.8 MB 4.6 MB/s eta 0:00:01\n",
            "     ---------------------------------------  12.8/12.8 MB 4.6 MB/s eta 0:00:01\n",
            "     ---------------------------------------  12.8/12.8 MB 4.6 MB/s eta 0:00:01\n",
            "     ---------------------------------------  12.8/12.8 MB 4.6 MB/s eta 0:00:01\n",
            "     ---------------------------------------  12.8/12.8 MB 4.6 MB/s eta 0:00:01\n",
            "     ---------------------------------------  12.8/12.8 MB 4.6 MB/s eta 0:00:01\n",
            "     ---------------------------------------  12.8/12.8 MB 4.6 MB/s eta 0:00:01\n",
            "     ---------------------------------------  12.8/12.8 MB 4.6 MB/s eta 0:00:01\n",
            "     ---------------------------------------  12.8/12.8 MB 4.6 MB/s eta 0:00:01\n",
            "     ---------------------------------------  12.8/12.8 MB 4.6 MB/s eta 0:00:01\n",
            "     ---------------------------------------  12.8/12.8 MB 4.6 MB/s eta 0:00:01\n",
            "     ---------------------------------------  12.8/12.8 MB 4.6 MB/s eta 0:00:01\n",
            "     ---------------------------------------  12.8/12.8 MB 4.6 MB/s eta 0:00:01\n",
            "     ---------------------------------------  12.8/12.8 MB 4.6 MB/s eta 0:00:01\n",
            "     ---------------------------------------  12.8/12.8 MB 4.6 MB/s eta 0:00:01\n",
            "     ---------------------------------------  12.8/12.8 MB 4.6 MB/s eta 0:00:01\n",
            "     ---------------------------------------  12.8/12.8 MB 4.6 MB/s eta 0:00:01\n",
            "     ---------------------------------------  12.8/12.8 MB 4.6 MB/s eta 0:00:01\n",
            "     ---------------------------------------  12.8/12.8 MB 4.6 MB/s eta 0:00:01\n",
            "     ---------------------------------------  12.8/12.8 MB 4.6 MB/s eta 0:00:01\n",
            "     ---------------------------------------  12.8/12.8 MB 4.6 MB/s eta 0:00:01\n",
            "     ---------------------------------------  12.8/12.8 MB 4.6 MB/s eta 0:00:01\n",
            "     ---------------------------------------  12.8/12.8 MB 4.6 MB/s eta 0:00:01\n",
            "     ---------------------------------------  12.8/12.8 MB 4.6 MB/s eta 0:00:01\n",
            "     ---------------------------------------  12.8/12.8 MB 4.6 MB/s eta 0:00:01\n",
            "     ---------------------------------------  12.8/12.8 MB 4.6 MB/s eta 0:00:01\n",
            "     ---------------------------------------  12.8/12.8 MB 4.6 MB/s eta 0:00:01\n",
            "     ---------------------------------------  12.8/12.8 MB 4.6 MB/s eta 0:00:01\n",
            "     ---------------------------------------  12.8/12.8 MB 4.6 MB/s eta 0:00:01\n",
            "     ---------------------------------------  12.8/12.8 MB 4.6 MB/s eta 0:00:01\n",
            "     ---------------------------------------  12.8/12.8 MB 4.6 MB/s eta 0:00:01\n",
            "     ---------------------------------------  12.8/12.8 MB 4.6 MB/s eta 0:00:01\n",
            "     ---------------------------------------  12.8/12.8 MB 4.6 MB/s eta 0:00:01\n",
            "     ---------------------------------------  12.8/12.8 MB 4.6 MB/s eta 0:00:01\n",
            "     ---------------------------------------  12.8/12.8 MB 4.6 MB/s eta 0:00:01\n",
            "     ---------------------------------------  12.8/12.8 MB 4.6 MB/s eta 0:00:01\n",
            "     ---------------------------------------  12.8/12.8 MB 4.6 MB/s eta 0:00:01\n",
            "     ---------------------------------------  12.8/12.8 MB 4.6 MB/s eta 0:00:01\n",
            "     ---------------------------------------  12.8/12.8 MB 4.6 MB/s eta 0:00:01\n",
            "     ---------------------------------------  12.8/12.8 MB 4.6 MB/s eta 0:00:01\n",
            "     ---------------------------------------  12.8/12.8 MB 4.6 MB/s eta 0:00:01\n",
            "     ---------------------------------------  12.8/12.8 MB 4.6 MB/s eta 0:00:01\n",
            "     -------------------------------------- 12.8/12.8 MB 612.6 kB/s eta 0:00:00\n",
            "Requirement already satisfied: spacy<3.8.0,>=3.7.2 in c:\\users\\ela\\appdata\\local\\packages\\pythonsoftwarefoundation.python.3.11_qbz5n2kfra8p0\\localcache\\local-packages\\python311\\site-packages (from en-core-web-sm==3.7.1) (3.7.2)\n",
            "Requirement already satisfied: spacy-legacy<3.1.0,>=3.0.11 in c:\\users\\ela\\appdata\\local\\packages\\pythonsoftwarefoundation.python.3.11_qbz5n2kfra8p0\\localcache\\local-packages\\python311\\site-packages (from spacy<3.8.0,>=3.7.2->en-core-web-sm==3.7.1) (3.0.12)\n",
            "Requirement already satisfied: spacy-loggers<2.0.0,>=1.0.0 in c:\\users\\ela\\appdata\\local\\packages\\pythonsoftwarefoundation.python.3.11_qbz5n2kfra8p0\\localcache\\local-packages\\python311\\site-packages (from spacy<3.8.0,>=3.7.2->en-core-web-sm==3.7.1) (1.0.5)\n",
            "Requirement already satisfied: murmurhash<1.1.0,>=0.28.0 in c:\\users\\ela\\appdata\\local\\packages\\pythonsoftwarefoundation.python.3.11_qbz5n2kfra8p0\\localcache\\local-packages\\python311\\site-packages (from spacy<3.8.0,>=3.7.2->en-core-web-sm==3.7.1) (1.0.10)\n",
            "Requirement already satisfied: cymem<2.1.0,>=2.0.2 in c:\\users\\ela\\appdata\\local\\packages\\pythonsoftwarefoundation.python.3.11_qbz5n2kfra8p0\\localcache\\local-packages\\python311\\site-packages (from spacy<3.8.0,>=3.7.2->en-core-web-sm==3.7.1) (2.0.8)\n",
            "Requirement already satisfied: preshed<3.1.0,>=3.0.2 in c:\\users\\ela\\appdata\\local\\packages\\pythonsoftwarefoundation.python.3.11_qbz5n2kfra8p0\\localcache\\local-packages\\python311\\site-packages (from spacy<3.8.0,>=3.7.2->en-core-web-sm==3.7.1) (3.0.9)\n",
            "Requirement already satisfied: thinc<8.3.0,>=8.1.8 in c:\\users\\ela\\appdata\\local\\packages\\pythonsoftwarefoundation.python.3.11_qbz5n2kfra8p0\\localcache\\local-packages\\python311\\site-packages (from spacy<3.8.0,>=3.7.2->en-core-web-sm==3.7.1) (8.2.2)\n",
            "Requirement already satisfied: wasabi<1.2.0,>=0.9.1 in c:\\users\\ela\\appdata\\local\\packages\\pythonsoftwarefoundation.python.3.11_qbz5n2kfra8p0\\localcache\\local-packages\\python311\\site-packages (from spacy<3.8.0,>=3.7.2->en-core-web-sm==3.7.1) (1.1.2)\n",
            "Requirement already satisfied: srsly<3.0.0,>=2.4.3 in c:\\users\\ela\\appdata\\local\\packages\\pythonsoftwarefoundation.python.3.11_qbz5n2kfra8p0\\localcache\\local-packages\\python311\\site-packages (from spacy<3.8.0,>=3.7.2->en-core-web-sm==3.7.1) (2.4.8)\n",
            "Requirement already satisfied: catalogue<2.1.0,>=2.0.6 in c:\\users\\ela\\appdata\\local\\packages\\pythonsoftwarefoundation.python.3.11_qbz5n2kfra8p0\\localcache\\local-packages\\python311\\site-packages (from spacy<3.8.0,>=3.7.2->en-core-web-sm==3.7.1) (2.0.10)\n",
            "Requirement already satisfied: weasel<0.4.0,>=0.1.0 in c:\\users\\ela\\appdata\\local\\packages\\pythonsoftwarefoundation.python.3.11_qbz5n2kfra8p0\\localcache\\local-packages\\python311\\site-packages (from spacy<3.8.0,>=3.7.2->en-core-web-sm==3.7.1) (0.3.4)\n",
            "Requirement already satisfied: typer<0.10.0,>=0.3.0 in c:\\users\\ela\\appdata\\local\\packages\\pythonsoftwarefoundation.python.3.11_qbz5n2kfra8p0\\localcache\\local-packages\\python311\\site-packages (from spacy<3.8.0,>=3.7.2->en-core-web-sm==3.7.1) (0.9.0)\n",
            "Requirement already satisfied: smart-open<7.0.0,>=5.2.1 in c:\\users\\ela\\appdata\\local\\packages\\pythonsoftwarefoundation.python.3.11_qbz5n2kfra8p0\\localcache\\local-packages\\python311\\site-packages (from spacy<3.8.0,>=3.7.2->en-core-web-sm==3.7.1) (6.4.0)\n",
            "Requirement already satisfied: tqdm<5.0.0,>=4.38.0 in c:\\users\\ela\\appdata\\local\\packages\\pythonsoftwarefoundation.python.3.11_qbz5n2kfra8p0\\localcache\\local-packages\\python311\\site-packages (from spacy<3.8.0,>=3.7.2->en-core-web-sm==3.7.1) (4.66.1)\n",
            "Requirement already satisfied: requests<3.0.0,>=2.13.0 in c:\\users\\ela\\appdata\\local\\packages\\pythonsoftwarefoundation.python.3.11_qbz5n2kfra8p0\\localcache\\local-packages\\python311\\site-packages (from spacy<3.8.0,>=3.7.2->en-core-web-sm==3.7.1) (2.31.0)\n",
            "Requirement already satisfied: pydantic!=1.8,!=1.8.1,<3.0.0,>=1.7.4 in c:\\users\\ela\\appdata\\local\\packages\\pythonsoftwarefoundation.python.3.11_qbz5n2kfra8p0\\localcache\\local-packages\\python311\\site-packages (from spacy<3.8.0,>=3.7.2->en-core-web-sm==3.7.1) (2.5.2)\n",
            "Requirement already satisfied: jinja2 in c:\\users\\ela\\appdata\\local\\packages\\pythonsoftwarefoundation.python.3.11_qbz5n2kfra8p0\\localcache\\local-packages\\python311\\site-packages (from spacy<3.8.0,>=3.7.2->en-core-web-sm==3.7.1) (3.1.2)\n",
            "Requirement already satisfied: setuptools in c:\\program files\\windowsapps\\pythonsoftwarefoundation.python.3.11_3.11.752.0_x64__qbz5n2kfra8p0\\lib\\site-packages (from spacy<3.8.0,>=3.7.2->en-core-web-sm==3.7.1) (65.5.0)\n",
            "Requirement already satisfied: packaging>=20.0 in c:\\users\\ela\\appdata\\local\\packages\\pythonsoftwarefoundation.python.3.11_qbz5n2kfra8p0\\localcache\\local-packages\\python311\\site-packages (from spacy<3.8.0,>=3.7.2->en-core-web-sm==3.7.1) (22.0)\n",
            "Requirement already satisfied: langcodes<4.0.0,>=3.2.0 in c:\\users\\ela\\appdata\\local\\packages\\pythonsoftwarefoundation.python.3.11_qbz5n2kfra8p0\\localcache\\local-packages\\python311\\site-packages (from spacy<3.8.0,>=3.7.2->en-core-web-sm==3.7.1) (3.3.0)\n",
            "Requirement already satisfied: numpy>=1.19.0 in c:\\users\\ela\\appdata\\local\\packages\\pythonsoftwarefoundation.python.3.11_qbz5n2kfra8p0\\localcache\\local-packages\\python311\\site-packages (from spacy<3.8.0,>=3.7.2->en-core-web-sm==3.7.1) (1.23.5)\n",
            "Requirement already satisfied: annotated-types>=0.4.0 in c:\\users\\ela\\appdata\\local\\packages\\pythonsoftwarefoundation.python.3.11_qbz5n2kfra8p0\\localcache\\local-packages\\python311\\site-packages (from pydantic!=1.8,!=1.8.1,<3.0.0,>=1.7.4->spacy<3.8.0,>=3.7.2->en-core-web-sm==3.7.1) (0.6.0)\n",
            "Requirement already satisfied: pydantic-core==2.14.5 in c:\\users\\ela\\appdata\\local\\packages\\pythonsoftwarefoundation.python.3.11_qbz5n2kfra8p0\\localcache\\local-packages\\python311\\site-packages (from pydantic!=1.8,!=1.8.1,<3.0.0,>=1.7.4->spacy<3.8.0,>=3.7.2->en-core-web-sm==3.7.1) (2.14.5)\n",
            "Requirement already satisfied: typing-extensions>=4.6.1 in c:\\users\\ela\\appdata\\local\\packages\\pythonsoftwarefoundation.python.3.11_qbz5n2kfra8p0\\localcache\\local-packages\\python311\\site-packages (from pydantic!=1.8,!=1.8.1,<3.0.0,>=1.7.4->spacy<3.8.0,>=3.7.2->en-core-web-sm==3.7.1) (4.9.0)\n",
            "Requirement already satisfied: charset-normalizer<4,>=2 in c:\\users\\ela\\appdata\\local\\packages\\pythonsoftwarefoundation.python.3.11_qbz5n2kfra8p0\\localcache\\local-packages\\python311\\site-packages (from requests<3.0.0,>=2.13.0->spacy<3.8.0,>=3.7.2->en-core-web-sm==3.7.1) (3.3.0)\n",
            "Requirement already satisfied: idna<4,>=2.5 in c:\\users\\ela\\appdata\\local\\packages\\pythonsoftwarefoundation.python.3.11_qbz5n2kfra8p0\\localcache\\local-packages\\python311\\site-packages (from requests<3.0.0,>=2.13.0->spacy<3.8.0,>=3.7.2->en-core-web-sm==3.7.1) (3.4)\n",
            "Requirement already satisfied: urllib3<3,>=1.21.1 in c:\\users\\ela\\appdata\\local\\packages\\pythonsoftwarefoundation.python.3.11_qbz5n2kfra8p0\\localcache\\local-packages\\python311\\site-packages (from requests<3.0.0,>=2.13.0->spacy<3.8.0,>=3.7.2->en-core-web-sm==3.7.1) (2.0.6)\n",
            "Requirement already satisfied: certifi>=2017.4.17 in c:\\users\\ela\\appdata\\local\\packages\\pythonsoftwarefoundation.python.3.11_qbz5n2kfra8p0\\localcache\\local-packages\\python311\\site-packages (from requests<3.0.0,>=2.13.0->spacy<3.8.0,>=3.7.2->en-core-web-sm==3.7.1) (2023.7.22)\n",
            "Requirement already satisfied: blis<0.8.0,>=0.7.8 in c:\\users\\ela\\appdata\\local\\packages\\pythonsoftwarefoundation.python.3.11_qbz5n2kfra8p0\\localcache\\local-packages\\python311\\site-packages (from thinc<8.3.0,>=8.1.8->spacy<3.8.0,>=3.7.2->en-core-web-sm==3.7.1) (0.7.11)\n",
            "Requirement already satisfied: confection<1.0.0,>=0.0.1 in c:\\users\\ela\\appdata\\local\\packages\\pythonsoftwarefoundation.python.3.11_qbz5n2kfra8p0\\localcache\\local-packages\\python311\\site-packages (from thinc<8.3.0,>=8.1.8->spacy<3.8.0,>=3.7.2->en-core-web-sm==3.7.1) (0.1.4)\n",
            "Requirement already satisfied: colorama in c:\\users\\ela\\appdata\\local\\packages\\pythonsoftwarefoundation.python.3.11_qbz5n2kfra8p0\\localcache\\local-packages\\python311\\site-packages (from tqdm<5.0.0,>=4.38.0->spacy<3.8.0,>=3.7.2->en-core-web-sm==3.7.1) (0.4.6)\n",
            "Requirement already satisfied: click<9.0.0,>=7.1.1 in c:\\users\\ela\\appdata\\local\\packages\\pythonsoftwarefoundation.python.3.11_qbz5n2kfra8p0\\localcache\\local-packages\\python311\\site-packages (from typer<0.10.0,>=0.3.0->spacy<3.8.0,>=3.7.2->en-core-web-sm==3.7.1) (8.1.7)\n",
            "Requirement already satisfied: cloudpathlib<0.17.0,>=0.7.0 in c:\\users\\ela\\appdata\\local\\packages\\pythonsoftwarefoundation.python.3.11_qbz5n2kfra8p0\\localcache\\local-packages\\python311\\site-packages (from weasel<0.4.0,>=0.1.0->spacy<3.8.0,>=3.7.2->en-core-web-sm==3.7.1) (0.16.0)\n",
            "Requirement already satisfied: MarkupSafe>=2.0 in c:\\users\\ela\\appdata\\local\\packages\\pythonsoftwarefoundation.python.3.11_qbz5n2kfra8p0\\localcache\\local-packages\\python311\\site-packages (from jinja2->spacy<3.8.0,>=3.7.2->en-core-web-sm==3.7.1) (2.1.3)\n",
            "Installing collected packages: en-core-web-sm\n",
            "Successfully installed en-core-web-sm-3.7.1\n",
            "\u001b[38;5;2m✔ Download and installation successful\u001b[0m\n",
            "You can now load the package via spacy.load('en_core_web_sm')\n"
          ]
        }
      ],
      "source": [
        "!python -m spacy download en_core_web_sm\n"
      ]
    },
    {
      "cell_type": "code",
      "execution_count": 19,
      "metadata": {
        "id": "bt4RyH5FcG6f"
      },
      "outputs": [],
      "source": [
        "import spacy\n",
        "\n",
        "nlp = spacy.load(\"en_core_web_sm\")\n",
        "\n",
        "# remove stop words\n",
        "for word in custom_stopwords:\n",
        "    nlp.vocab[word].is_stop = True"
      ]
    },
    {
      "cell_type": "code",
      "execution_count": 20,
      "metadata": {
        "colab": {
          "base_uri": "https://localhost:8080/"
        },
        "id": "p2UuvS-ZcG4D",
        "outputId": "afd39b49-c3a4-4d9e-8f58-afc1286deceb"
      },
      "outputs": [
        {
          "data": {
            "text/plain": [
              "['methanol',\n",
              " 'meter',\n",
              " 'follow',\n",
              " 'note',\n",
              " 'give',\n",
              " 'monday',\n",
              " 'preliminary',\n",
              " 'flow',\n",
              " 'datum',\n",
              " 'provide',\n",
              " 'daren',\n",
              " 'override',\n",
              " 'pop',\n",
              " 'daily',\n",
              " 'volume']"
            ]
          },
          "execution_count": 20,
          "metadata": {},
          "output_type": "execute_result"
        }
      ],
      "source": [
        "# lemmatization\n",
        "emails = [[token.lemma_ for token in nlp(text) if not token.is_stop] for text in emails]\n",
        "emails[0][:15]"
      ]
    },
    {
      "cell_type": "markdown",
      "metadata": {
        "id": "I7pigNZRUtc4"
      },
      "source": [
        "# Feature extraction\n"
      ]
    },
    {
      "cell_type": "code",
      "execution_count": 21,
      "metadata": {
        "colab": {
          "base_uri": "https://localhost:8080/"
        },
        "execution": {
          "iopub.execute_input": "2023-11-21T19:21:28.852791Z",
          "iopub.status.busy": "2023-11-21T19:21:28.851927Z",
          "iopub.status.idle": "2023-11-21T19:21:29.134665Z",
          "shell.execute_reply": "2023-11-21T19:21:29.133543Z",
          "shell.execute_reply.started": "2023-11-21T19:21:28.852750Z"
        },
        "id": "Pnz21jIwUtc5",
        "outputId": "e08e0a55-8e36-4083-e5ff-a726569225fe",
        "trusted": true
      },
      "outputs": [
        {
          "name": "stdout",
          "output_type": "stream",
          "text": [
            "(5171, 2470)\n"
          ]
        },
        {
          "data": {
            "text/plain": [
              "array(['ability', 'able', 'absence', 'absolutely', 'accept', 'acceptance',\n",
              "       'access', 'accomplish', 'accord', 'accordingly'], dtype=object)"
            ]
          },
          "execution_count": 21,
          "metadata": {},
          "output_type": "execute_result"
        }
      ],
      "source": [
        "# TF-IDF\n",
        "from sklearn.feature_extraction.text import TfidfVectorizer\n",
        "\n",
        "tf_vectorizer = TfidfVectorizer(max_features=25000, ngram_range=(1,1), min_df=0.003, max_df=0.9)\n",
        "tf_idf = tf_vectorizer.fit_transform([\" \".join(text) for text in emails]).toarray()\n",
        "print(tf_idf.shape)\n",
        "tf_vectorizer.get_feature_names_out()[:10]"
      ]
    },
    {
      "cell_type": "markdown",
      "metadata": {
        "id": "eo8lVx0kUtdG"
      },
      "source": [
        "# Split to train and test data\n"
      ]
    },
    {
      "cell_type": "code",
      "execution_count": 23,
      "metadata": {
        "execution": {
          "iopub.execute_input": "2023-11-21T19:21:40.016923Z",
          "iopub.status.busy": "2023-11-21T19:21:40.016104Z",
          "iopub.status.idle": "2023-11-21T19:21:40.047239Z",
          "shell.execute_reply": "2023-11-21T19:21:40.046285Z",
          "shell.execute_reply.started": "2023-11-21T19:21:40.016854Z"
        },
        "id": "LBvDchpmUtdG",
        "trusted": true
      },
      "outputs": [],
      "source": [
        "from sklearn.model_selection import train_test_split\n",
        "import numpy as np\n",
        "\n",
        "# split to train and test data for TF-IDF\n",
        "x2_train,x2_test,y2_train,y2_test = train_test_split(tf_idf, np.asarray(data[\"label\"]), random_state=42, test_size=0.2)\n"
      ]
    },
    {
      "cell_type": "markdown",
      "metadata": {
        "id": "v6faZb0mUtdG"
      },
      "source": [
        "# Classification algorithms (supervised)\n",
        "## Evaluation metrics:\n",
        "**Accuracy** = (True Positives + True Negatives) / (True Positives + False Positives + True Negatives + False Negatives) <br />\n",
        "Accuracy measures the proportion of correct predictions made by the model out of the total number of predictions.\n",
        "\n",
        "\n",
        "**Precision** = True Positives / (True Positives + False Positives) <br />\n",
        "Precision measures the proportion of true positive predictions out of all the positive predictions made by the model.\n",
        "\n",
        "\n",
        "**Recall** = True Positives / (True Positives + False Negatives) <br />\n",
        "Recall measures the proportion of true positive predictions to the number of actual positives (true positives + false negatives).\n",
        "\n",
        "\n",
        "**F1 Score** = 2 * (Precision * Recall) / (Precision + Recall) <br />\n",
        "An F1 score reaches its best value at 1 (perfect precision and recall) and its worst value at 0."
      ]
    },
    {
      "cell_type": "code",
      "execution_count": null,
      "metadata": {
        "colab": {
          "base_uri": "https://localhost:8080/"
        },
        "id": "WFL3oUkQ_NMb",
        "outputId": "d36b42ea-fdbf-43e5-9c09-103f1db41a90"
      },
      "outputs": [
        {
          "name": "stdout",
          "output_type": "stream",
          "text": [
            "Requirement already satisfied: scikit-learn in /usr/local/lib/python3.10/dist-packages (1.3.2)\n",
            "Requirement already satisfied: numpy<2.0,>=1.17.3 in /usr/local/lib/python3.10/dist-packages (from scikit-learn) (1.23.5)\n",
            "Requirement already satisfied: scipy>=1.5.0 in /usr/local/lib/python3.10/dist-packages (from scikit-learn) (1.11.4)\n",
            "Requirement already satisfied: joblib>=1.1.1 in /usr/local/lib/python3.10/dist-packages (from scikit-learn) (1.3.2)\n",
            "Requirement already satisfied: threadpoolctl>=2.0.0 in /usr/local/lib/python3.10/dist-packages (from scikit-learn) (3.2.0)\n"
          ]
        }
      ],
      "source": [
        "!pip install --upgrade scikit-learn"
      ]
    },
    {
      "cell_type": "code",
      "execution_count": 32,
      "metadata": {
        "colab": {
          "base_uri": "https://localhost:8080/",
          "height": 788
        },
        "id": "pB77prnoIYgJ",
        "outputId": "9a99ea98-99df-4e5d-ba9e-b9b3d60748e3"
      },
      "outputs": [
        {
          "name": "stdout",
          "output_type": "stream",
          "text": [
            "Training Accuracy: 0.9983075435203095\n",
            "Testing Accuracy: 0.7439613526570048\n",
            "\n",
            "K Neighbors Classifier (Training Data _ TF-IDF):\n",
            " [[2927    3]\n",
            " [   4 1202]]\n",
            "\n",
            "K Neighbors Classifier (Testing Data _ TF-IDF):\n",
            " [[479 263]\n",
            " [  2 291]]\n"
          ]
        },
        {
          "data": {
            "image/png": "[encoded data removed]",
            "text/plain": [
              "<Figure size 1200x600 with 2 Axes>"
            ]
          },
          "metadata": {},
          "output_type": "display_data"
        },
        {
          "name": "stdout",
          "output_type": "stream",
          "text": [
            "\n",
            "Classification Report (Training Data):\n",
            "               precision    recall  f1-score   support\n",
            "\n",
            "         ham       1.00      1.00      1.00      2930\n",
            "        spam       1.00      1.00      1.00      1206\n",
            "\n",
            "    accuracy                           1.00      4136\n",
            "   macro avg       1.00      1.00      1.00      4136\n",
            "weighted avg       1.00      1.00      1.00      4136\n",
            "\n",
            "\n",
            "Classification Report (Testing Data):\n",
            "               precision    recall  f1-score   support\n",
            "\n",
            "         ham       1.00      0.65      0.78       742\n",
            "        spam       0.53      0.99      0.69       293\n",
            "\n",
            "    accuracy                           0.74      1035\n",
            "   macro avg       0.76      0.82      0.74      1035\n",
            "weighted avg       0.86      0.74      0.76      1035\n",
            "\n"
          ]
        }
      ],
      "source": [
        "from sklearn.neighbors import KNeighborsClassifier\n",
        "from sklearn.metrics import classification_report\n",
        "from sklearn.metrics import accuracy_score, confusion_matrix\n",
        "import matplotlib.pyplot as plt\n",
        "import seaborn as sns\n",
        "\n",
        "# Inisialisasi dan pelatihan model KNeighborsClassifier\n",
        "KNN2 = KNeighborsClassifier(algorithm='brute', n_jobs=-1)\n",
        "KNN2.fit(x2_train, y2_train)\n",
        "\n",
        "# Prediksi untuk data training\n",
        "y2_train_pred = KNN2.predict(x2_train)\n",
        "train_accuracy = accuracy_score(y2_train, y2_train_pred)\n",
        "print(\"Training Accuracy:\", train_accuracy)\n",
        "\n",
        "# Prediksi untuk data testing\n",
        "y2_test_pred = KNN2.predict(x2_test)\n",
        "test_accuracy = accuracy_score(y2_test, y2_test_pred)\n",
        "print(\"Testing Accuracy:\", test_accuracy)\n",
        "\n",
        "# Confusion matrix untuk data training\n",
        "train_conf_matrix = confusion_matrix(y2_train, y2_train_pred)\n",
        "print(\"\\nK Neighbors Classifier (Training Data _ TF-IDF):\\n\", train_conf_matrix)\n",
        "\n",
        "# Confusion matrix untuk data testing\n",
        "test_conf_matrix = confusion_matrix(y2_test, y2_test_pred)\n",
        "print(\"\\nK Neighbors Classifier (Testing Data _ TF-IDF):\\n\", test_conf_matrix)\n",
        "\n",
        "# Visualisasi confusion matrix sebagai gambar\n",
        "plt.figure(figsize=(12, 6))\n",
        "\n",
        "plt.subplot(1, 2, 1)\n",
        "sns.heatmap(train_conf_matrix, annot=True, fmt='d', cmap='Blues', cbar=False)\n",
        "plt.title('K Neighbors Classifier (Training Data _ TF-IDF)')\n",
        "plt.xlabel('Predicted Labels')\n",
        "plt.ylabel('True Labels')\n",
        "\n",
        "plt.subplot(1, 2, 2)\n",
        "sns.heatmap(test_conf_matrix, annot=True, fmt='d', cmap='Greens', cbar=False)\n",
        "plt.title('K Neighbors Classifier (Testing Data _ TF-IDF)')\n",
        "plt.xlabel('Predicted Labels')\n",
        "plt.ylabel('True Labels')\n",
        "\n",
        "plt.tight_layout()\n",
        "plt.show()\n",
        "\n",
        "\n",
        "print(\"\\nClassification Report (Training Data):\\n\", classification_report(y2_train, y2_train_pred))\n",
        "print(\"\\nClassification Report (Testing Data):\\n\", classification_report(y2_test, y2_test_pred))\n",
        "\n"
      ]
    },
    {
      "cell_type": "code",
      "execution_count": null,
      "metadata": {},
      "outputs": [],
      "source": []
    }
  ],
  "metadata": {
    "colab": {
      "provenance": []
    },
    "kaggle": {
      "accelerator": "none",
      "dataSources": [
        {
          "datasetId": 946753,
          "sourceId": 1603933,
          "sourceType": "datasetVersion"
        },
        {
          "datasetId": 3061553,
          "sourceId": 5260904,
          "sourceType": "datasetVersion"
        },
        {
          "datasetId": 3703513,
          "sourceId": 6420219,
          "sourceType": "datasetVersion"
        }
      ],
      "dockerImageVersionId": 30407,
      "isGpuEnabled": false,
      "isInternetEnabled": false,
      "language": "python",
      "sourceType": "notebook"
    },
    "kernelspec": {
      "display_name": "Python 3",
      "language": "python",
      "name": "python3"
    },
    "language_info": {
      "codemirror_mode": {
        "name": "ipython",
        "version": 3
      },
      "file_extension": ".py",
      "mimetype": "text/x-python",
      "name": "python",
      "nbconvert_exporter": "python",
      "pygments_lexer": "ipython3",
      "version": "3.11.2"
    }
  },
  "nbformat": 4,
  "nbformat_minor": 0
}
