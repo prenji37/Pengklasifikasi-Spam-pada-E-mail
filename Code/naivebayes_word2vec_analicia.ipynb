{
  "cells": [
    {
      "cell_type": "code",
      "execution_count": 7,
      "id": "f5e85b77",
      "metadata": {},
      "outputs": [
        {
          "data": {
            "text/html": [
              "<div>\n",
              "<style scoped>\n",
              "    .dataframe tbody tr th:only-of-type {\n",
              "        vertical-align: middle;\n",
              "    }\n",
              "\n",
              "    .dataframe tbody tr th {\n",
              "        vertical-align: top;\n",
              "    }\n",
              "\n",
              "    .dataframe thead th {\n",
              "        text-align: right;\n",
              "    }\n",
              "</style>\n",
              "<table border=\"1\" class=\"dataframe\">\n",
              "  <thead>\n",
              "    <tr style=\"text-align: right;\">\n",
              "      <th></th>\n",
              "      <th>Unnamed: 0</th>\n",
              "      <th>label</th>\n",
              "      <th>text</th>\n",
              "      <th>label_num</th>\n",
              "    </tr>\n",
              "  </thead>\n",
              "  <tbody>\n",
              "    <tr>\n",
              "      <th>0</th>\n",
              "      <td>605</td>\n",
              "      <td>ham</td>\n",
              "      <td>Subject: enron methanol ; meter # : 988291\\r\\n...</td>\n",
              "      <td>0</td>\n",
              "    </tr>\n",
              "    <tr>\n",
              "      <th>1</th>\n",
              "      <td>2349</td>\n",
              "      <td>ham</td>\n",
              "      <td>Subject: hpl nom for january 9 , 2001\\r\\n( see...</td>\n",
              "      <td>0</td>\n",
              "    </tr>\n",
              "    <tr>\n",
              "      <th>2</th>\n",
              "      <td>3624</td>\n",
              "      <td>ham</td>\n",
              "      <td>Subject: neon retreat\\r\\nho ho ho , we ' re ar...</td>\n",
              "      <td>0</td>\n",
              "    </tr>\n",
              "    <tr>\n",
              "      <th>3</th>\n",
              "      <td>4685</td>\n",
              "      <td>spam</td>\n",
              "      <td>Subject: photoshop , windows , office . cheap ...</td>\n",
              "      <td>1</td>\n",
              "    </tr>\n",
              "    <tr>\n",
              "      <th>4</th>\n",
              "      <td>2030</td>\n",
              "      <td>ham</td>\n",
              "      <td>Subject: re : indian springs\\r\\nthis deal is t...</td>\n",
              "      <td>0</td>\n",
              "    </tr>\n",
              "  </tbody>\n",
              "</table>\n",
              "</div>"
            ],
            "text/plain": [
              "   Unnamed: 0 label                                               text   \n",
              "0         605   ham  Subject: enron methanol ; meter # : 988291\\r\\n...  \\\n",
              "1        2349   ham  Subject: hpl nom for january 9 , 2001\\r\\n( see...   \n",
              "2        3624   ham  Subject: neon retreat\\r\\nho ho ho , we ' re ar...   \n",
              "3        4685  spam  Subject: photoshop , windows , office . cheap ...   \n",
              "4        2030   ham  Subject: re : indian springs\\r\\nthis deal is t...   \n",
              "\n",
              "   label_num  \n",
              "0          0  \n",
              "1          0  \n",
              "2          0  \n",
              "3          1  \n",
              "4          0  "
            ]
          },
          "execution_count": 7,
          "metadata": {},
          "output_type": "execute_result"
        }
      ],
      "source": [
        "import pandas as pd\n",
        "#Reading dataset\n",
        "Email_dataset = pd.read_csv(\"spam_ham_dataset.csv\")\n",
        "#Show dataset\n",
        "Email_dataset.head()"
      ]
    },
    {
      "cell_type": "code",
      "execution_count": 8,
      "id": "f609ea51",
      "metadata": {
        "_cell_guid": "b1076dfc-b9ad-4769-8c92-a6c4dae69d19",
        "_uuid": "8f2839f25d086af736a60e9eeb907d3b93b6e0e5",
        "execution": {
          "iopub.execute_input": "2023-05-04T13:55:50.778414Z",
          "iopub.status.busy": "2023-05-04T13:55:50.778052Z",
          "iopub.status.idle": "2023-05-04T13:55:52.883442Z",
          "shell.execute_reply": "2023-05-04T13:55:52.882260Z"
        },
        "id": "f609ea51",
        "papermill": {
          "duration": 2.11988,
          "end_time": "2023-05-04T13:55:52.885972",
          "exception": false,
          "start_time": "2023-05-04T13:55:50.766092",
          "status": "completed"
        },
        "tags": []
      },
      "outputs": [],
      "source": [
        "#Import all libraries\n",
        "import numpy as np\n",
        "import pandas as pd\n",
        "import nltk\n",
        "import matplotlib.pyplot as plt\n",
        "from wordcloud import WordCloud\n",
        "from wordcloud import WordCloud, STOPWORDS\n",
        "import string\n",
        "import seaborn as sns\n",
        "import plotly.graph_objects as go\n",
        "from sklearn.decomposition import PCA\n",
        "from gensim.models import Word2Vec, FastText\n",
        "import warnings\n",
        "from sklearn.model_selection import train_test_split\n",
        "from sklearn.feature_extraction.text import CountVectorizer\n",
        "from sklearn.naive_bayes import MultinomialNB\n",
        "from sklearn.pipeline import Pipeline\n",
        "from sklearn.metrics import accuracy_score, confusion_matrix , classification_report\n",
        "warnings.filterwarnings('ignore')"
      ]
    },
    {
      "cell_type": "code",
      "execution_count": 9,
      "id": "b7f3b872",
      "metadata": {
        "execution": {
          "iopub.execute_input": "2023-05-04T13:55:52.909093Z",
          "iopub.status.busy": "2023-05-04T13:55:52.907663Z",
          "iopub.status.idle": "2023-05-04T13:55:52.913831Z",
          "shell.execute_reply": "2023-05-04T13:55:52.913062Z"
        },
        "id": "b7f3b872",
        "papermill": {
          "duration": 0.019767,
          "end_time": "2023-05-04T13:55:52.916003",
          "exception": false,
          "start_time": "2023-05-04T13:55:52.896236",
          "status": "completed"
        },
        "tags": []
      },
      "outputs": [],
      "source": [
        "#creating word cloud for given corpus\n",
        "def make_wordcloud(corpus , stopword):\n",
        "    word_cloud = WordCloud(\n",
        "            width=3000,\n",
        "            height=2000,\n",
        "            random_state=1,\n",
        "            background_color=\"black\",\n",
        "            colormap=\"Pastel1\",\n",
        "            collocations=False,\n",
        "            stopwords=stopword,\n",
        "            ).generate(corpus)\n",
        "    return word_cloud"
      ]
    },
    {
      "cell_type": "code",
      "execution_count": 10,
      "id": "1ae69fc0",
      "metadata": {
        "execution": {
          "iopub.execute_input": "2023-05-04T13:55:52.938261Z",
          "iopub.status.busy": "2023-05-04T13:55:52.937584Z",
          "iopub.status.idle": "2023-05-04T13:55:52.943051Z",
          "shell.execute_reply": "2023-05-04T13:55:52.942270Z"
        },
        "id": "1ae69fc0",
        "papermill": {
          "duration": 0.018817,
          "end_time": "2023-05-04T13:55:52.945048",
          "exception": false,
          "start_time": "2023-05-04T13:55:52.926231",
          "status": "completed"
        },
        "tags": []
      },
      "outputs": [],
      "source": [
        "#This function swaps 2 columns inside the dataframe\n",
        "def swap_columns(df, col1, col2):\n",
        "    col_list = list(df.columns)\n",
        "    x, y = col_list.index(col1), col_list.index(col2)\n",
        "    col_list[y], col_list[x] = col_list[x], col_list[y]\n",
        "    df = df[col_list]\n",
        "    return df"
      ]
    },
    {
      "cell_type": "code",
      "execution_count": 11,
      "id": "3cf6a51b",
      "metadata": {
        "execution": {
          "iopub.execute_input": "2023-05-04T13:55:52.966736Z",
          "iopub.status.busy": "2023-05-04T13:55:52.966360Z",
          "iopub.status.idle": "2023-05-04T13:55:52.971454Z",
          "shell.execute_reply": "2023-05-04T13:55:52.970443Z"
        },
        "id": "3cf6a51b",
        "papermill": {
          "duration": 0.018297,
          "end_time": "2023-05-04T13:55:52.973356",
          "exception": false,
          "start_time": "2023-05-04T13:55:52.955059",
          "status": "completed"
        },
        "tags": []
      },
      "outputs": [],
      "source": [
        "#This function removes punctuation from string\n",
        "def remove_punctuations(text):\n",
        "    for punctuation in string.punctuation:\n",
        "        text = text.replace(punctuation, '')\n",
        "    return text"
      ]
    },
    {
      "cell_type": "code",
      "execution_count": null,
      "id": "9af3a518",
      "metadata": {
        "execution": {
          "iopub.execute_input": "2023-05-04T13:55:52.995313Z",
          "iopub.status.busy": "2023-05-04T13:55:52.994267Z",
          "iopub.status.idle": "2023-05-04T13:55:53.165436Z",
          "shell.execute_reply": "2023-05-04T13:55:53.164238Z"
        },
        "id": "9af3a518",
        "papermill": {
          "duration": 0.184938,
          "end_time": "2023-05-04T13:55:53.168181",
          "exception": false,
          "start_time": "2023-05-04T13:55:52.983243",
          "status": "completed"
        },
        "tags": []
      },
      "outputs": [],
      "source": []
    },
    {
      "cell_type": "code",
      "execution_count": null,
      "id": "777fdf76",
      "metadata": {
        "colab": {
          "base_uri": "https://localhost:8080/",
          "height": 206
        },
        "execution": {
          "iopub.execute_input": "2023-05-04T13:55:53.190492Z",
          "iopub.status.busy": "2023-05-04T13:55:53.190031Z",
          "iopub.status.idle": "2023-05-04T13:55:53.218565Z",
          "shell.execute_reply": "2023-05-04T13:55:53.217521Z"
        },
        "id": "777fdf76",
        "outputId": "7db51eb9-71ac-4c6d-a68f-06882e4981d8",
        "papermill": {
          "duration": 0.042757,
          "end_time": "2023-05-04T13:55:53.221093",
          "exception": false,
          "start_time": "2023-05-04T13:55:53.178336",
          "status": "completed"
        },
        "tags": []
      },
      "outputs": [],
      "source": []
    },
    {
      "cell_type": "code",
      "execution_count": 12,
      "id": "6abada39",
      "metadata": {
        "colab": {
          "base_uri": "https://localhost:8080/"
        },
        "execution": {
          "iopub.execute_input": "2023-05-04T13:55:53.248624Z",
          "iopub.status.busy": "2023-05-04T13:55:53.248187Z",
          "iopub.status.idle": "2023-05-04T13:55:53.260988Z",
          "shell.execute_reply": "2023-05-04T13:55:53.260025Z"
        },
        "id": "6abada39",
        "outputId": "13990a7e-9a79-4507-e285-68124325d0c7",
        "papermill": {
          "duration": 0.026947,
          "end_time": "2023-05-04T13:55:53.263397",
          "exception": false,
          "start_time": "2023-05-04T13:55:53.236450",
          "status": "completed"
        },
        "tags": []
      },
      "outputs": [
        {
          "data": {
            "text/plain": [
              "label\n",
              "ham     3672\n",
              "spam    1499\n",
              "Name: count, dtype: int64"
            ]
          },
          "execution_count": 12,
          "metadata": {},
          "output_type": "execute_result"
        }
      ],
      "source": [
        "s=Email_dataset[\"label\"].value_counts()\n",
        "s"
      ]
    },
    {
      "cell_type": "code",
      "execution_count": 13,
      "id": "69d1e6a5",
      "metadata": {
        "colab": {
          "base_uri": "https://localhost:8080/",
          "height": 496
        },
        "execution": {
          "iopub.execute_input": "2023-05-04T13:55:53.300336Z",
          "iopub.status.busy": "2023-05-04T13:55:53.299774Z",
          "iopub.status.idle": "2023-05-04T13:55:53.610634Z",
          "shell.execute_reply": "2023-05-04T13:55:53.609577Z"
        },
        "id": "69d1e6a5",
        "outputId": "f05ffe1f-192d-4da8-b558-cb7159a17d3d",
        "papermill": {
          "duration": 0.334854,
          "end_time": "2023-05-04T13:55:53.613078",
          "exception": false,
          "start_time": "2023-05-04T13:55:53.278224",
          "status": "completed"
        },
        "tags": []
      },
      "outputs": [
        {
          "data": {
            "image/png": "[encoded data removed]",
            "text/plain": [
              "<Figure size 640x480 with 1 Axes>"
            ]
          },
          "metadata": {},
          "output_type": "display_data"
        }
      ],
      "source": [
        "# create a bar chart\n",
        "s.plot.bar()\n",
        "\n",
        "# set the title and axis labels\n",
        "plt.title(\"Email Label Counts\")\n",
        "plt.xlabel(\"Label\")\n",
        "plt.ylabel(\"Count\")\n",
        "\n",
        "# display the chart\n",
        "plt.show()"
      ]
    },
    {
      "cell_type": "code",
      "execution_count": 14,
      "id": "47cad534",
      "metadata": {
        "execution": {
          "iopub.execute_input": "2023-05-04T13:55:53.639720Z",
          "iopub.status.busy": "2023-05-04T13:55:53.639063Z",
          "iopub.status.idle": "2023-05-04T13:55:53.651323Z",
          "shell.execute_reply": "2023-05-04T13:55:53.649914Z"
        },
        "id": "47cad534",
        "papermill": {
          "duration": 0.028141,
          "end_time": "2023-05-04T13:55:53.653937",
          "exception": false,
          "start_time": "2023-05-04T13:55:53.625796",
          "status": "completed"
        },
        "tags": []
      },
      "outputs": [],
      "source": [
        "#Dropping columns that are not needed\n",
        "Email_dataset = Email_dataset.drop('Unnamed: 0', axis=1)\n",
        "Email_dataset = Email_dataset.drop('label', axis=1)"
      ]
    },
    {
      "cell_type": "code",
      "execution_count": 15,
      "id": "7062f2a6",
      "metadata": {
        "colab": {
          "base_uri": "https://localhost:8080/",
          "height": 206
        },
        "execution": {
          "iopub.execute_input": "2023-05-04T13:55:53.683608Z",
          "iopub.status.busy": "2023-05-04T13:55:53.682443Z",
          "iopub.status.idle": "2023-05-04T13:55:53.693423Z",
          "shell.execute_reply": "2023-05-04T13:55:53.692473Z"
        },
        "id": "7062f2a6",
        "outputId": "5e04cd9e-e9e7-42b7-f107-9c2847aa9cc7",
        "papermill": {
          "duration": 0.027036,
          "end_time": "2023-05-04T13:55:53.695858",
          "exception": false,
          "start_time": "2023-05-04T13:55:53.668822",
          "status": "completed"
        },
        "tags": []
      },
      "outputs": [
        {
          "data": {
            "text/html": [
              "<div>\n",
              "<style scoped>\n",
              "    .dataframe tbody tr th:only-of-type {\n",
              "        vertical-align: middle;\n",
              "    }\n",
              "\n",
              "    .dataframe tbody tr th {\n",
              "        vertical-align: top;\n",
              "    }\n",
              "\n",
              "    .dataframe thead th {\n",
              "        text-align: right;\n",
              "    }\n",
              "</style>\n",
              "<table border=\"1\" class=\"dataframe\">\n",
              "  <thead>\n",
              "    <tr style=\"text-align: right;\">\n",
              "      <th></th>\n",
              "      <th>text</th>\n",
              "      <th>label_num</th>\n",
              "    </tr>\n",
              "  </thead>\n",
              "  <tbody>\n",
              "    <tr>\n",
              "      <th>0</th>\n",
              "      <td>Subject: enron methanol ; meter # : 988291\\r\\n...</td>\n",
              "      <td>0</td>\n",
              "    </tr>\n",
              "    <tr>\n",
              "      <th>1</th>\n",
              "      <td>Subject: hpl nom for january 9 , 2001\\r\\n( see...</td>\n",
              "      <td>0</td>\n",
              "    </tr>\n",
              "    <tr>\n",
              "      <th>2</th>\n",
              "      <td>Subject: neon retreat\\r\\nho ho ho , we ' re ar...</td>\n",
              "      <td>0</td>\n",
              "    </tr>\n",
              "    <tr>\n",
              "      <th>3</th>\n",
              "      <td>Subject: photoshop , windows , office . cheap ...</td>\n",
              "      <td>1</td>\n",
              "    </tr>\n",
              "    <tr>\n",
              "      <th>4</th>\n",
              "      <td>Subject: re : indian springs\\r\\nthis deal is t...</td>\n",
              "      <td>0</td>\n",
              "    </tr>\n",
              "  </tbody>\n",
              "</table>\n",
              "</div>"
            ],
            "text/plain": [
              "                                                text  label_num\n",
              "0  Subject: enron methanol ; meter # : 988291\\r\\n...          0\n",
              "1  Subject: hpl nom for january 9 , 2001\\r\\n( see...          0\n",
              "2  Subject: neon retreat\\r\\nho ho ho , we ' re ar...          0\n",
              "3  Subject: photoshop , windows , office . cheap ...          1\n",
              "4  Subject: re : indian springs\\r\\nthis deal is t...          0"
            ]
          },
          "execution_count": 15,
          "metadata": {},
          "output_type": "execute_result"
        }
      ],
      "source": [
        "Email_dataset.head()"
      ]
    },
    {
      "cell_type": "code",
      "execution_count": 16,
      "id": "bdd8f4a6",
      "metadata": {
        "execution": {
          "iopub.execute_input": "2023-05-04T13:55:53.720139Z",
          "iopub.status.busy": "2023-05-04T13:55:53.719325Z",
          "iopub.status.idle": "2023-05-04T13:55:53.819372Z",
          "shell.execute_reply": "2023-05-04T13:55:53.818495Z"
        },
        "id": "bdd8f4a6",
        "papermill": {
          "duration": 0.115198,
          "end_time": "2023-05-04T13:55:53.822132",
          "exception": false,
          "start_time": "2023-05-04T13:55:53.706934",
          "status": "completed"
        },
        "tags": []
      },
      "outputs": [],
      "source": [
        "#Creating a new feature, extracting subject of each email\n",
        "subjects = []\n",
        "for i in range(len(Email_dataset)):\n",
        "    ln = Email_dataset[\"text\"][i]\n",
        "    line = \"\"\n",
        "    for i in ln:\n",
        "        if(i == '\\r'):\n",
        "            break\n",
        "        line = line + i\n",
        "    line = line.replace(\"Subject\" , \"\")\n",
        "    subjects.append(line)"
      ]
    },
    {
      "cell_type": "code",
      "execution_count": 17,
      "id": "26b5999e",
      "metadata": {
        "execution": {
          "iopub.execute_input": "2023-05-04T13:55:53.850782Z",
          "iopub.status.busy": "2023-05-04T13:55:53.850058Z",
          "iopub.status.idle": "2023-05-04T13:55:53.856073Z",
          "shell.execute_reply": "2023-05-04T13:55:53.854817Z"
        },
        "id": "26b5999e",
        "papermill": {
          "duration": 0.021026,
          "end_time": "2023-05-04T13:55:53.858459",
          "exception": false,
          "start_time": "2023-05-04T13:55:53.837433",
          "status": "completed"
        },
        "tags": []
      },
      "outputs": [],
      "source": [
        "Email_dataset['Subject'] = subjects"
      ]
    },
    {
      "cell_type": "code",
      "execution_count": 18,
      "id": "60997566",
      "metadata": {
        "execution": {
          "iopub.execute_input": "2023-05-04T13:55:53.882797Z",
          "iopub.status.busy": "2023-05-04T13:55:53.882297Z",
          "iopub.status.idle": "2023-05-04T13:55:53.887908Z",
          "shell.execute_reply": "2023-05-04T13:55:53.886634Z"
        },
        "id": "60997566",
        "papermill": {
          "duration": 0.020513,
          "end_time": "2023-05-04T13:55:53.890137",
          "exception": false,
          "start_time": "2023-05-04T13:55:53.869624",
          "status": "completed"
        },
        "tags": []
      },
      "outputs": [],
      "source": [
        "#Renaming the dataframe columns\n",
        "Email_dataset.columns = [\"Email_text\" , \"Labels\" , \"Email_Subject\"]"
      ]
    },
    {
      "cell_type": "code",
      "execution_count": 19,
      "id": "a0eff055",
      "metadata": {
        "colab": {
          "base_uri": "https://localhost:8080/",
          "height": 206
        },
        "execution": {
          "iopub.execute_input": "2023-05-04T13:55:53.914994Z",
          "iopub.status.busy": "2023-05-04T13:55:53.913925Z",
          "iopub.status.idle": "2023-05-04T13:55:53.924880Z",
          "shell.execute_reply": "2023-05-04T13:55:53.923943Z"
        },
        "id": "a0eff055",
        "outputId": "a121279b-2cdc-464d-cffd-4cf53170381a",
        "papermill": {
          "duration": 0.0253,
          "end_time": "2023-05-04T13:55:53.926878",
          "exception": false,
          "start_time": "2023-05-04T13:55:53.901578",
          "status": "completed"
        },
        "tags": []
      },
      "outputs": [
        {
          "data": {
            "text/html": [
              "<div>\n",
              "<style scoped>\n",
              "    .dataframe tbody tr th:only-of-type {\n",
              "        vertical-align: middle;\n",
              "    }\n",
              "\n",
              "    .dataframe tbody tr th {\n",
              "        vertical-align: top;\n",
              "    }\n",
              "\n",
              "    .dataframe thead th {\n",
              "        text-align: right;\n",
              "    }\n",
              "</style>\n",
              "<table border=\"1\" class=\"dataframe\">\n",
              "  <thead>\n",
              "    <tr style=\"text-align: right;\">\n",
              "      <th></th>\n",
              "      <th>Email_text</th>\n",
              "      <th>Labels</th>\n",
              "      <th>Email_Subject</th>\n",
              "    </tr>\n",
              "  </thead>\n",
              "  <tbody>\n",
              "    <tr>\n",
              "      <th>0</th>\n",
              "      <td>Subject: enron methanol ; meter # : 988291\\r\\n...</td>\n",
              "      <td>0</td>\n",
              "      <td>: enron methanol ; meter # : 988291</td>\n",
              "    </tr>\n",
              "    <tr>\n",
              "      <th>1</th>\n",
              "      <td>Subject: hpl nom for january 9 , 2001\\r\\n( see...</td>\n",
              "      <td>0</td>\n",
              "      <td>: hpl nom for january 9 , 2001</td>\n",
              "    </tr>\n",
              "    <tr>\n",
              "      <th>2</th>\n",
              "      <td>Subject: neon retreat\\r\\nho ho ho , we ' re ar...</td>\n",
              "      <td>0</td>\n",
              "      <td>: neon retreat</td>\n",
              "    </tr>\n",
              "    <tr>\n",
              "      <th>3</th>\n",
              "      <td>Subject: photoshop , windows , office . cheap ...</td>\n",
              "      <td>1</td>\n",
              "      <td>: photoshop , windows , office . cheap . main ...</td>\n",
              "    </tr>\n",
              "    <tr>\n",
              "      <th>4</th>\n",
              "      <td>Subject: re : indian springs\\r\\nthis deal is t...</td>\n",
              "      <td>0</td>\n",
              "      <td>: re : indian springs</td>\n",
              "    </tr>\n",
              "  </tbody>\n",
              "</table>\n",
              "</div>"
            ],
            "text/plain": [
              "                                          Email_text  Labels   \n",
              "0  Subject: enron methanol ; meter # : 988291\\r\\n...       0  \\\n",
              "1  Subject: hpl nom for january 9 , 2001\\r\\n( see...       0   \n",
              "2  Subject: neon retreat\\r\\nho ho ho , we ' re ar...       0   \n",
              "3  Subject: photoshop , windows , office . cheap ...       1   \n",
              "4  Subject: re : indian springs\\r\\nthis deal is t...       0   \n",
              "\n",
              "                                       Email_Subject  \n",
              "0                : enron methanol ; meter # : 988291  \n",
              "1                     : hpl nom for january 9 , 2001  \n",
              "2                                     : neon retreat  \n",
              "3  : photoshop , windows , office . cheap . main ...  \n",
              "4                              : re : indian springs  "
            ]
          },
          "execution_count": 19,
          "metadata": {},
          "output_type": "execute_result"
        }
      ],
      "source": [
        "Email_dataset.head()"
      ]
    },
    {
      "cell_type": "code",
      "execution_count": 20,
      "id": "fdc3e389",
      "metadata": {
        "execution": {
          "iopub.execute_input": "2023-05-04T13:55:53.951968Z",
          "iopub.status.busy": "2023-05-04T13:55:53.951081Z",
          "iopub.status.idle": "2023-05-04T13:55:53.958309Z",
          "shell.execute_reply": "2023-05-04T13:55:53.957307Z"
        },
        "id": "fdc3e389",
        "papermill": {
          "duration": 0.022188,
          "end_time": "2023-05-04T13:55:53.960423",
          "exception": false,
          "start_time": "2023-05-04T13:55:53.938235",
          "status": "completed"
        },
        "tags": []
      },
      "outputs": [],
      "source": [
        "#Swapping the dataframe columns\n",
        "Email_dataset = swap_columns(Email_dataset, 'Labels', 'Email_Subject')"
      ]
    },
    {
      "cell_type": "code",
      "execution_count": 21,
      "id": "f36ee542",
      "metadata": {
        "colab": {
          "base_uri": "https://localhost:8080/",
          "height": 206
        },
        "execution": {
          "iopub.execute_input": "2023-05-04T13:55:53.985869Z",
          "iopub.status.busy": "2023-05-04T13:55:53.985031Z",
          "iopub.status.idle": "2023-05-04T13:55:53.996561Z",
          "shell.execute_reply": "2023-05-04T13:55:53.995651Z"
        },
        "id": "f36ee542",
        "outputId": "4a3c036f-068a-47a0-8d79-c40c16c4d6f0",
        "papermill": {
          "duration": 0.027119,
          "end_time": "2023-05-04T13:55:53.998845",
          "exception": false,
          "start_time": "2023-05-04T13:55:53.971726",
          "status": "completed"
        },
        "tags": []
      },
      "outputs": [
        {
          "data": {
            "text/html": [
              "<div>\n",
              "<style scoped>\n",
              "    .dataframe tbody tr th:only-of-type {\n",
              "        vertical-align: middle;\n",
              "    }\n",
              "\n",
              "    .dataframe tbody tr th {\n",
              "        vertical-align: top;\n",
              "    }\n",
              "\n",
              "    .dataframe thead th {\n",
              "        text-align: right;\n",
              "    }\n",
              "</style>\n",
              "<table border=\"1\" class=\"dataframe\">\n",
              "  <thead>\n",
              "    <tr style=\"text-align: right;\">\n",
              "      <th></th>\n",
              "      <th>Email_text</th>\n",
              "      <th>Email_Subject</th>\n",
              "      <th>Labels</th>\n",
              "    </tr>\n",
              "  </thead>\n",
              "  <tbody>\n",
              "    <tr>\n",
              "      <th>0</th>\n",
              "      <td>Subject: enron methanol ; meter # : 988291\\r\\n...</td>\n",
              "      <td>: enron methanol ; meter # : 988291</td>\n",
              "      <td>0</td>\n",
              "    </tr>\n",
              "    <tr>\n",
              "      <th>1</th>\n",
              "      <td>Subject: hpl nom for january 9 , 2001\\r\\n( see...</td>\n",
              "      <td>: hpl nom for january 9 , 2001</td>\n",
              "      <td>0</td>\n",
              "    </tr>\n",
              "    <tr>\n",
              "      <th>2</th>\n",
              "      <td>Subject: neon retreat\\r\\nho ho ho , we ' re ar...</td>\n",
              "      <td>: neon retreat</td>\n",
              "      <td>0</td>\n",
              "    </tr>\n",
              "    <tr>\n",
              "      <th>3</th>\n",
              "      <td>Subject: photoshop , windows , office . cheap ...</td>\n",
              "      <td>: photoshop , windows , office . cheap . main ...</td>\n",
              "      <td>1</td>\n",
              "    </tr>\n",
              "    <tr>\n",
              "      <th>4</th>\n",
              "      <td>Subject: re : indian springs\\r\\nthis deal is t...</td>\n",
              "      <td>: re : indian springs</td>\n",
              "      <td>0</td>\n",
              "    </tr>\n",
              "  </tbody>\n",
              "</table>\n",
              "</div>"
            ],
            "text/plain": [
              "                                          Email_text   \n",
              "0  Subject: enron methanol ; meter # : 988291\\r\\n...  \\\n",
              "1  Subject: hpl nom for january 9 , 2001\\r\\n( see...   \n",
              "2  Subject: neon retreat\\r\\nho ho ho , we ' re ar...   \n",
              "3  Subject: photoshop , windows , office . cheap ...   \n",
              "4  Subject: re : indian springs\\r\\nthis deal is t...   \n",
              "\n",
              "                                       Email_Subject  Labels  \n",
              "0                : enron methanol ; meter # : 988291       0  \n",
              "1                     : hpl nom for january 9 , 2001       0  \n",
              "2                                     : neon retreat       0  \n",
              "3  : photoshop , windows , office . cheap . main ...       1  \n",
              "4                              : re : indian springs       0  "
            ]
          },
          "execution_count": 21,
          "metadata": {},
          "output_type": "execute_result"
        }
      ],
      "source": [
        "Email_dataset.head()"
      ]
    },
    {
      "cell_type": "code",
      "execution_count": 22,
      "id": "f75d4a3f",
      "metadata": {
        "execution": {
          "iopub.execute_input": "2023-05-04T13:55:54.023252Z",
          "iopub.status.busy": "2023-05-04T13:55:54.022863Z",
          "iopub.status.idle": "2023-05-04T13:55:54.039923Z",
          "shell.execute_reply": "2023-05-04T13:55:54.038908Z"
        },
        "id": "f75d4a3f",
        "papermill": {
          "duration": 0.032051,
          "end_time": "2023-05-04T13:55:54.042356",
          "exception": false,
          "start_time": "2023-05-04T13:55:54.010305",
          "status": "completed"
        },
        "tags": []
      },
      "outputs": [],
      "source": [
        "#Converting all strings to lowercase\n",
        "Email_dataset['Email_Subject'] = Email_dataset['Email_Subject'].str.lower()\n",
        "Email_dataset['Email_text'] = Email_dataset['Email_text'].str.lower()"
      ]
    },
    {
      "cell_type": "code",
      "execution_count": 23,
      "id": "ef324c35",
      "metadata": {
        "execution": {
          "iopub.execute_input": "2023-05-04T13:55:54.066864Z",
          "iopub.status.busy": "2023-05-04T13:55:54.066471Z",
          "iopub.status.idle": "2023-05-04T13:55:54.210887Z",
          "shell.execute_reply": "2023-05-04T13:55:54.209821Z"
        },
        "id": "ef324c35",
        "papermill": {
          "duration": 0.15969,
          "end_time": "2023-05-04T13:55:54.213489",
          "exception": false,
          "start_time": "2023-05-04T13:55:54.053799",
          "status": "completed"
        },
        "tags": []
      },
      "outputs": [],
      "source": [
        "#Removing Punctuation from the data\n",
        "Email_dataset['Email_Subject'] = Email_dataset['Email_Subject'].apply(remove_punctuations)\n",
        "Email_dataset['Email_text'] = Email_dataset['Email_text'].apply(remove_punctuations)"
      ]
    },
    {
      "cell_type": "code",
      "execution_count": 24,
      "id": "eed2e3d0",
      "metadata": {
        "colab": {
          "base_uri": "https://localhost:8080/",
          "height": 206
        },
        "execution": {
          "iopub.execute_input": "2023-05-04T13:55:54.240410Z",
          "iopub.status.busy": "2023-05-04T13:55:54.240036Z",
          "iopub.status.idle": "2023-05-04T13:55:54.250278Z",
          "shell.execute_reply": "2023-05-04T13:55:54.249213Z"
        },
        "id": "eed2e3d0",
        "outputId": "67e81bb2-2635-4c71-bff9-f76cc346f17c",
        "papermill": {
          "duration": 0.026693,
          "end_time": "2023-05-04T13:55:54.252352",
          "exception": false,
          "start_time": "2023-05-04T13:55:54.225659",
          "status": "completed"
        },
        "tags": []
      },
      "outputs": [
        {
          "data": {
            "text/html": [
              "<div>\n",
              "<style scoped>\n",
              "    .dataframe tbody tr th:only-of-type {\n",
              "        vertical-align: middle;\n",
              "    }\n",
              "\n",
              "    .dataframe tbody tr th {\n",
              "        vertical-align: top;\n",
              "    }\n",
              "\n",
              "    .dataframe thead th {\n",
              "        text-align: right;\n",
              "    }\n",
              "</style>\n",
              "<table border=\"1\" class=\"dataframe\">\n",
              "  <thead>\n",
              "    <tr style=\"text-align: right;\">\n",
              "      <th></th>\n",
              "      <th>Email_text</th>\n",
              "      <th>Email_Subject</th>\n",
              "      <th>Labels</th>\n",
              "    </tr>\n",
              "  </thead>\n",
              "  <tbody>\n",
              "    <tr>\n",
              "      <th>0</th>\n",
              "      <td>subject enron methanol  meter   988291\\r\\nthis...</td>\n",
              "      <td>enron methanol  meter   988291</td>\n",
              "      <td>0</td>\n",
              "    </tr>\n",
              "    <tr>\n",
              "      <th>1</th>\n",
              "      <td>subject hpl nom for january 9  2001\\r\\n see at...</td>\n",
              "      <td>hpl nom for january 9  2001</td>\n",
              "      <td>0</td>\n",
              "    </tr>\n",
              "    <tr>\n",
              "      <th>2</th>\n",
              "      <td>subject neon retreat\\r\\nho ho ho  we  re aroun...</td>\n",
              "      <td>neon retreat</td>\n",
              "      <td>0</td>\n",
              "    </tr>\n",
              "    <tr>\n",
              "      <th>3</th>\n",
              "      <td>subject photoshop  windows  office  cheap  mai...</td>\n",
              "      <td>photoshop  windows  office  cheap  main trending</td>\n",
              "      <td>1</td>\n",
              "    </tr>\n",
              "    <tr>\n",
              "      <th>4</th>\n",
              "      <td>subject re  indian springs\\r\\nthis deal is to ...</td>\n",
              "      <td>re  indian springs</td>\n",
              "      <td>0</td>\n",
              "    </tr>\n",
              "  </tbody>\n",
              "</table>\n",
              "</div>"
            ],
            "text/plain": [
              "                                          Email_text   \n",
              "0  subject enron methanol  meter   988291\\r\\nthis...  \\\n",
              "1  subject hpl nom for january 9  2001\\r\\n see at...   \n",
              "2  subject neon retreat\\r\\nho ho ho  we  re aroun...   \n",
              "3  subject photoshop  windows  office  cheap  mai...   \n",
              "4  subject re  indian springs\\r\\nthis deal is to ...   \n",
              "\n",
              "                                       Email_Subject  Labels  \n",
              "0                     enron methanol  meter   988291       0  \n",
              "1                        hpl nom for january 9  2001       0  \n",
              "2                                       neon retreat       0  \n",
              "3   photoshop  windows  office  cheap  main trending       1  \n",
              "4                                 re  indian springs       0  "
            ]
          },
          "execution_count": 24,
          "metadata": {},
          "output_type": "execute_result"
        }
      ],
      "source": [
        "Email_dataset.head()"
      ]
    },
    {
      "cell_type": "code",
      "execution_count": 25,
      "id": "139a8ddd",
      "metadata": {
        "execution": {
          "iopub.execute_input": "2023-05-04T13:56:50.823486Z",
          "iopub.status.busy": "2023-05-04T13:56:50.822822Z",
          "iopub.status.idle": "2023-05-04T13:56:50.927516Z",
          "shell.execute_reply": "2023-05-04T13:56:50.926272Z"
        },
        "id": "139a8ddd",
        "papermill": {
          "duration": 0.16089,
          "end_time": "2023-05-04T13:56:50.930228",
          "exception": false,
          "start_time": "2023-05-04T13:56:50.769338",
          "status": "completed"
        },
        "tags": []
      },
      "outputs": [],
      "source": [
        "#create a corpus conatininga all the email text\n",
        "Email_text_corpus = []\n",
        "for line in Email_dataset['Email_text']:\n",
        "    words = line.split(\" \")\n",
        "    Email_text_corpus.append(words)"
      ]
    },
    {
      "cell_type": "code",
      "execution_count": 26,
      "id": "a014a1ba",
      "metadata": {
        "execution": {
          "iopub.execute_input": "2023-05-04T13:56:51.037822Z",
          "iopub.status.busy": "2023-05-04T13:56:51.036685Z",
          "iopub.status.idle": "2023-05-04T13:56:57.772643Z",
          "shell.execute_reply": "2023-05-04T13:56:57.771658Z"
        },
        "id": "a014a1ba",
        "papermill": {
          "duration": 6.792565,
          "end_time": "2023-05-04T13:56:57.775050",
          "exception": false,
          "start_time": "2023-05-04T13:56:50.982485",
          "status": "completed"
        },
        "tags": []
      },
      "outputs": [],
      "source": [
        "#create a word2vec model for words in email text\n",
        "model = Word2Vec(Email_text_corpus, min_count=1, vector_size=56)"
      ]
    },
    {
      "cell_type": "code",
      "execution_count": 27,
      "id": "a5fc6577",
      "metadata": {
        "execution": {
          "iopub.execute_input": "2023-05-04T13:56:57.880778Z",
          "iopub.status.busy": "2023-05-04T13:56:57.880401Z",
          "iopub.status.idle": "2023-05-04T13:56:58.599429Z",
          "shell.execute_reply": "2023-05-04T13:56:58.598041Z"
        },
        "id": "a5fc6577",
        "papermill": {
          "duration": 0.77544,
          "end_time": "2023-05-04T13:56:58.602782",
          "exception": false,
          "start_time": "2023-05-04T13:56:57.827342",
          "status": "completed"
        },
        "tags": []
      },
      "outputs": [],
      "source": [
        "X = model.wv[model.wv.key_to_index ]\n",
        "pca = PCA(n_components=2)\n",
        "result = pca.fit_transform(X)\n",
        "pca_df = pd.DataFrame(result, columns = ['x','y'])\n"
      ]
    },
    {
      "cell_type": "code",
      "execution_count": 28,
      "id": "6d18c7f9",
      "metadata": {
        "colab": {
          "base_uri": "https://localhost:8080/",
          "height": 206
        },
        "execution": {
          "iopub.execute_input": "2023-05-04T13:57:01.148542Z",
          "iopub.status.busy": "2023-05-04T13:57:01.147563Z",
          "iopub.status.idle": "2023-05-04T13:57:01.158137Z",
          "shell.execute_reply": "2023-05-04T13:57:01.157005Z"
        },
        "id": "6d18c7f9",
        "outputId": "03654d0d-44f3-41e4-8b52-0c6a0a18a1f1",
        "papermill": {
          "duration": 0.388277,
          "end_time": "2023-05-04T13:57:01.160552",
          "exception": false,
          "start_time": "2023-05-04T13:57:00.772275",
          "status": "completed"
        },
        "tags": []
      },
      "outputs": [
        {
          "data": {
            "text/html": [
              "<div>\n",
              "<style scoped>\n",
              "    .dataframe tbody tr th:only-of-type {\n",
              "        vertical-align: middle;\n",
              "    }\n",
              "\n",
              "    .dataframe tbody tr th {\n",
              "        vertical-align: top;\n",
              "    }\n",
              "\n",
              "    .dataframe thead th {\n",
              "        text-align: right;\n",
              "    }\n",
              "</style>\n",
              "<table border=\"1\" class=\"dataframe\">\n",
              "  <thead>\n",
              "    <tr style=\"text-align: right;\">\n",
              "      <th></th>\n",
              "      <th>Email_text</th>\n",
              "      <th>Email_Subject</th>\n",
              "      <th>Labels</th>\n",
              "    </tr>\n",
              "  </thead>\n",
              "  <tbody>\n",
              "    <tr>\n",
              "      <th>0</th>\n",
              "      <td>subject enron methanol  meter   988291\\r\\nthis...</td>\n",
              "      <td>enron methanol  meter   988291</td>\n",
              "      <td>0</td>\n",
              "    </tr>\n",
              "    <tr>\n",
              "      <th>1</th>\n",
              "      <td>subject hpl nom for january 9  2001\\r\\n see at...</td>\n",
              "      <td>hpl nom for january 9  2001</td>\n",
              "      <td>0</td>\n",
              "    </tr>\n",
              "    <tr>\n",
              "      <th>2</th>\n",
              "      <td>subject neon retreat\\r\\nho ho ho  we  re aroun...</td>\n",
              "      <td>neon retreat</td>\n",
              "      <td>0</td>\n",
              "    </tr>\n",
              "    <tr>\n",
              "      <th>3</th>\n",
              "      <td>subject photoshop  windows  office  cheap  mai...</td>\n",
              "      <td>photoshop  windows  office  cheap  main trending</td>\n",
              "      <td>1</td>\n",
              "    </tr>\n",
              "    <tr>\n",
              "      <th>4</th>\n",
              "      <td>subject re  indian springs\\r\\nthis deal is to ...</td>\n",
              "      <td>re  indian springs</td>\n",
              "      <td>0</td>\n",
              "    </tr>\n",
              "  </tbody>\n",
              "</table>\n",
              "</div>"
            ],
            "text/plain": [
              "                                          Email_text   \n",
              "0  subject enron methanol  meter   988291\\r\\nthis...  \\\n",
              "1  subject hpl nom for january 9  2001\\r\\n see at...   \n",
              "2  subject neon retreat\\r\\nho ho ho  we  re aroun...   \n",
              "3  subject photoshop  windows  office  cheap  mai...   \n",
              "4  subject re  indian springs\\r\\nthis deal is to ...   \n",
              "\n",
              "                                       Email_Subject  Labels  \n",
              "0                     enron methanol  meter   988291       0  \n",
              "1                        hpl nom for january 9  2001       0  \n",
              "2                                       neon retreat       0  \n",
              "3   photoshop  windows  office  cheap  main trending       1  \n",
              "4                                 re  indian springs       0  "
            ]
          },
          "execution_count": 28,
          "metadata": {},
          "output_type": "execute_result"
        }
      ],
      "source": [
        "Email_dataset.head()"
      ]
    },
    {
      "cell_type": "code",
      "execution_count": 29,
      "id": "212307e3",
      "metadata": {
        "execution": {
          "iopub.execute_input": "2023-05-04T13:57:01.917526Z",
          "iopub.status.busy": "2023-05-04T13:57:01.916578Z",
          "iopub.status.idle": "2023-05-04T13:57:01.923497Z",
          "shell.execute_reply": "2023-05-04T13:57:01.922778Z"
        },
        "id": "212307e3",
        "papermill": {
          "duration": 0.389083,
          "end_time": "2023-05-04T13:57:01.926375",
          "exception": false,
          "start_time": "2023-05-04T13:57:01.537292",
          "status": "completed"
        },
        "tags": []
      },
      "outputs": [],
      "source": [
        "#split email dataset\n",
        "X_train, X_test , y_train, y_test = train_test_split(Email_dataset['Email_text'], Email_dataset['Labels'] , test_size=0.2, random_state=0)"
      ]
    },
    {
      "cell_type": "code",
      "execution_count": 30,
      "id": "a498b9da",
      "metadata": {
        "execution": {
          "iopub.execute_input": "2023-05-04T13:57:02.685799Z",
          "iopub.status.busy": "2023-05-04T13:57:02.685407Z",
          "iopub.status.idle": "2023-05-04T13:57:03.243419Z",
          "shell.execute_reply": "2023-05-04T13:57:03.242225Z"
        },
        "id": "a498b9da",
        "papermill": {
          "duration": 0.939368,
          "end_time": "2023-05-04T13:57:03.245965",
          "exception": false,
          "start_time": "2023-05-04T13:57:02.306597",
          "status": "completed"
        },
        "tags": []
      },
      "outputs": [],
      "source": [
        "#vectorize our training dataset\n",
        "Vectorizer = CountVectorizer()\n",
        "count= Vectorizer.fit_transform(X_train.values)"
      ]
    },
    {
      "cell_type": "code",
      "execution_count": 31,
      "id": "07c32a15",
      "metadata": {
        "colab": {
          "base_uri": "https://localhost:8080/",
          "height": 75
        },
        "execution": {
          "iopub.execute_input": "2023-05-04T13:57:04.004069Z",
          "iopub.status.busy": "2023-05-04T13:57:04.003006Z",
          "iopub.status.idle": "2023-05-04T13:57:04.023934Z",
          "shell.execute_reply": "2023-05-04T13:57:04.023020Z"
        },
        "id": "07c32a15",
        "outputId": "5ac8744d-2109-46e7-db82-e09098d91387",
        "papermill": {
          "duration": 0.401227,
          "end_time": "2023-05-04T13:57:04.025874",
          "exception": false,
          "start_time": "2023-05-04T13:57:03.624647",
          "status": "completed"
        },
        "tags": []
      },
      "outputs": [
        {
          "data": {
            "text/html": [
              "<style>#sk-container-id-1 {color: black;}#sk-container-id-1 pre{padding: 0;}#sk-container-id-1 div.sk-toggleable {background-color: white;}#sk-container-id-1 label.sk-toggleable__label {cursor: pointer;display: block;width: 100%;margin-bottom: 0;padding: 0.3em;box-sizing: border-box;text-align: center;}#sk-container-id-1 label.sk-toggleable__label-arrow:before {content: \"▸\";float: left;margin-right: 0.25em;color: #696969;}#sk-container-id-1 label.sk-toggleable__label-arrow:hover:before {color: black;}#sk-container-id-1 div.sk-estimator:hover label.sk-toggleable__label-arrow:before {color: black;}#sk-container-id-1 div.sk-toggleable__content {max-height: 0;max-width: 0;overflow: hidden;text-align: left;background-color: #f0f8ff;}#sk-container-id-1 div.sk-toggleable__content pre {margin: 0.2em;color: black;border-radius: 0.25em;background-color: #f0f8ff;}#sk-container-id-1 input.sk-toggleable__control:checked~div.sk-toggleable__content {max-height: 200px;max-width: 100%;overflow: auto;}#sk-container-id-1 input.sk-toggleable__control:checked~label.sk-toggleable__label-arrow:before {content: \"▾\";}#sk-container-id-1 div.sk-estimator input.sk-toggleable__control:checked~label.sk-toggleable__label {background-color: #d4ebff;}#sk-container-id-1 div.sk-label input.sk-toggleable__control:checked~label.sk-toggleable__label {background-color: #d4ebff;}#sk-container-id-1 input.sk-hidden--visually {border: 0;clip: rect(1px 1px 1px 1px);clip: rect(1px, 1px, 1px, 1px);height: 1px;margin: -1px;overflow: hidden;padding: 0;position: absolute;width: 1px;}#sk-container-id-1 div.sk-estimator {font-family: monospace;background-color: #f0f8ff;border: 1px dotted black;border-radius: 0.25em;box-sizing: border-box;margin-bottom: 0.5em;}#sk-container-id-1 div.sk-estimator:hover {background-color: #d4ebff;}#sk-container-id-1 div.sk-parallel-item::after {content: \"\";width: 100%;border-bottom: 1px solid gray;flex-grow: 1;}#sk-container-id-1 div.sk-label:hover label.sk-toggleable__label {background-color: #d4ebff;}#sk-container-id-1 div.sk-serial::before {content: \"\";position: absolute;border-left: 1px solid gray;box-sizing: border-box;top: 0;bottom: 0;left: 50%;z-index: 0;}#sk-container-id-1 div.sk-serial {display: flex;flex-direction: column;align-items: center;background-color: white;padding-right: 0.2em;padding-left: 0.2em;position: relative;}#sk-container-id-1 div.sk-item {position: relative;z-index: 1;}#sk-container-id-1 div.sk-parallel {display: flex;align-items: stretch;justify-content: center;background-color: white;position: relative;}#sk-container-id-1 div.sk-item::before, #sk-container-id-1 div.sk-parallel-item::before {content: \"\";position: absolute;border-left: 1px solid gray;box-sizing: border-box;top: 0;bottom: 0;left: 50%;z-index: -1;}#sk-container-id-1 div.sk-parallel-item {display: flex;flex-direction: column;z-index: 1;position: relative;background-color: white;}#sk-container-id-1 div.sk-parallel-item:first-child::after {align-self: flex-end;width: 50%;}#sk-container-id-1 div.sk-parallel-item:last-child::after {align-self: flex-start;width: 50%;}#sk-container-id-1 div.sk-parallel-item:only-child::after {width: 0;}#sk-container-id-1 div.sk-dashed-wrapped {border: 1px dashed gray;margin: 0 0.4em 0.5em 0.4em;box-sizing: border-box;padding-bottom: 0.4em;background-color: white;}#sk-container-id-1 div.sk-label label {font-family: monospace;font-weight: bold;display: inline-block;line-height: 1.2em;}#sk-container-id-1 div.sk-label-container {text-align: center;}#sk-container-id-1 div.sk-container {/* jupyter's `normalize.less` sets `[hidden] { display: none; }` but bootstrap.min.css set `[hidden] { display: none !important; }` so we also need the `!important` here to be able to override the default hidden behavior on the sphinx rendered scikit-learn.org. See: https://github.com/scikit-learn/scikit-learn/issues/21755 */display: inline-block !important;position: relative;}#sk-container-id-1 div.sk-text-repr-fallback {display: none;}</style><div id=\"sk-container-id-1\" class=\"sk-top-container\"><div class=\"sk-text-repr-fallback\"><pre>MultinomialNB()</pre><b>In a Jupyter environment, please rerun this cell to show the HTML representation or trust the notebook. <br />On GitHub, the HTML representation is unable to render, please try loading this page with nbviewer.org.</b></div><div class=\"sk-container\" hidden><div class=\"sk-item\"><div class=\"sk-estimator sk-toggleable\"><input class=\"sk-toggleable__control sk-hidden--visually\" id=\"sk-estimator-id-1\" type=\"checkbox\" checked><label for=\"sk-estimator-id-1\" class=\"sk-toggleable__label sk-toggleable__label-arrow\">MultinomialNB</label><div class=\"sk-toggleable__content\"><pre>MultinomialNB()</pre></div></div></div></div></div>"
            ],
            "text/plain": [
              "MultinomialNB()"
            ]
          },
          "execution_count": 31,
          "metadata": {},
          "output_type": "execute_result"
        }
      ],
      "source": [
        "#fit the dataset on multinomial naive bayes\n",
        "Spam_detection = MultinomialNB()\n",
        "targets = y_train.values\n",
        "Spam_detection.fit(count, targets)"
      ]
    },
    {
      "cell_type": "code",
      "execution_count": 32,
      "id": "507486cf",
      "metadata": {
        "execution": {
          "iopub.execute_input": "2023-05-04T13:57:04.777990Z",
          "iopub.status.busy": "2023-05-04T13:57:04.777277Z",
          "iopub.status.idle": "2023-05-04T13:57:04.974633Z",
          "shell.execute_reply": "2023-05-04T13:57:04.973445Z"
        },
        "id": "507486cf",
        "papermill": {
          "duration": 0.57621,
          "end_time": "2023-05-04T13:57:04.977252",
          "exception": false,
          "start_time": "2023-05-04T13:57:04.401042",
          "status": "completed"
        },
        "tags": []
      },
      "outputs": [],
      "source": [
        "#make predictions\n",
        "y_predict = Spam_detection.predict(Vectorizer.transform(X_test))"
      ]
    },
    {
      "cell_type": "code",
      "execution_count": 33,
      "id": "551b49ab",
      "metadata": {
        "colab": {
          "base_uri": "https://localhost:8080/"
        },
        "execution": {
          "iopub.execute_input": "2023-05-04T13:57:05.742359Z",
          "iopub.status.busy": "2023-05-04T13:57:05.741311Z",
          "iopub.status.idle": "2023-05-04T13:57:05.750872Z",
          "shell.execute_reply": "2023-05-04T13:57:05.749843Z"
        },
        "id": "551b49ab",
        "outputId": "a1d20b7d-81d2-44b6-c270-95e09d2c869c",
        "papermill": {
          "duration": 0.391205,
          "end_time": "2023-05-04T13:57:05.752994",
          "exception": false,
          "start_time": "2023-05-04T13:57:05.361789",
          "status": "completed"
        },
        "tags": []
      },
      "outputs": [
        {
          "data": {
            "text/plain": [
              "0.9729468599033816"
            ]
          },
          "execution_count": 33,
          "metadata": {},
          "output_type": "execute_result"
        }
      ],
      "source": [
        "#test accuracy\n",
        "accuracy_score(y_test, y_predict)"
      ]
    },
    {
      "cell_type": "code",
      "execution_count": 34,
      "id": "638225d7",
      "metadata": {
        "colab": {
          "base_uri": "https://localhost:8080/",
          "height": 466
        },
        "execution": {
          "iopub.execute_input": "2023-05-04T13:57:06.512536Z",
          "iopub.status.busy": "2023-05-04T13:57:06.511542Z",
          "iopub.status.idle": "2023-05-04T13:57:06.718324Z",
          "shell.execute_reply": "2023-05-04T13:57:06.717287Z"
        },
        "id": "638225d7",
        "outputId": "1a047dfd-9b27-488f-9a08-885cfa32617e",
        "papermill": {
          "duration": 0.589297,
          "end_time": "2023-05-04T13:57:06.720829",
          "exception": false,
          "start_time": "2023-05-04T13:57:06.131532",
          "status": "completed"
        },
        "tags": []
      },
      "outputs": [
        {
          "data": {
            "text/plain": [
              "Text(50.722222222222214, 0.5, 'Actual')"
            ]
          },
          "execution_count": 34,
          "metadata": {},
          "output_type": "execute_result"
        },
        {
          "data": {
            "image/png": "[encoded data removed]",
            "text/plain": [
              "<Figure size 640x480 with 2 Axes>"
            ]
          },
          "metadata": {},
          "output_type": "display_data"
        }
      ],
      "source": [
        "#create a confusion matrix\n",
        "cm = confusion_matrix(y_test,y_predict)\n",
        "sns.heatmap(cm, annot = True, fmt = 'd')\n",
        "plt.xlabel('Predicted')\n",
        "plt.ylabel('Actual')"
      ]
    },
    {
      "cell_type": "code",
      "execution_count": 35,
      "id": "bb2aa9ae",
      "metadata": {
        "colab": {
          "base_uri": "https://localhost:8080/"
        },
        "execution": {
          "iopub.execute_input": "2023-05-04T13:57:07.481114Z",
          "iopub.status.busy": "2023-05-04T13:57:07.480734Z",
          "iopub.status.idle": "2023-05-04T13:57:07.496006Z",
          "shell.execute_reply": "2023-05-04T13:57:07.494832Z"
        },
        "id": "bb2aa9ae",
        "outputId": "cc66914b-b9ee-4290-8d63-3f1b62057dc2",
        "papermill": {
          "duration": 0.398979,
          "end_time": "2023-05-04T13:57:07.498105",
          "exception": false,
          "start_time": "2023-05-04T13:57:07.099126",
          "status": "completed"
        },
        "tags": []
      },
      "outputs": [
        {
          "name": "stdout",
          "output_type": "stream",
          "text": [
            "              precision    recall  f1-score   support\n",
            "\n",
            "           0       0.98      0.99      0.98       732\n",
            "           1       0.97      0.94      0.95       303\n",
            "\n",
            "    accuracy                           0.97      1035\n",
            "   macro avg       0.97      0.96      0.97      1035\n",
            "weighted avg       0.97      0.97      0.97      1035\n",
            "\n"
          ]
        }
      ],
      "source": [
        "#print the classification report\n",
        "print(classification_report(y_test , y_predict))"
      ]
    }
  ],
  "metadata": {
    "colab": {
      "provenance": []
    },
    "kernelspec": {
      "display_name": "Python 3",
      "language": "python",
      "name": "python3"
    },
    "language_info": {
      "codemirror_mode": {
        "name": "ipython",
        "version": 3
      },
      "file_extension": ".py",
      "mimetype": "text/x-python",
      "name": "python",
      "nbconvert_exporter": "python",
      "pygments_lexer": "ipython3",
      "version": "3.11.2"
    },
    "papermill": {
      "default_parameters": {},
      "duration": 89.49485,
      "end_time": "2023-05-04T13:57:10.561121",
      "environment_variables": {},
      "exception": null,
      "input_path": "__notebook__.ipynb",
      "output_path": "__notebook__.ipynb",
      "parameters": {},
      "start_time": "2023-05-04T13:55:41.066271",
      "version": "2.4.0"
    }
  },
  "nbformat": 4,
  "nbformat_minor": 5
}
