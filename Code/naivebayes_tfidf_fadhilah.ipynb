{
  "cells": [
    {
      "cell_type": "code",
      "execution_count": 1,
      "metadata": {
        "_cell_guid": "b1076dfc-b9ad-4769-8c92-a6c4dae69d19",
        "_uuid": "8f2839f25d086af736a60e9eeb907d3b93b6e0e5",
        "id": "I2MUN1jqAyeI",
        "trusted": true
      },
      "outputs": [],
      "source": [
        "import numpy as np\n",
        "import pandas as pd\n",
        "import seaborn as sns\n",
        "import matplotlib.pyplot as plt"
      ]
    },
    {
      "cell_type": "markdown",
      "metadata": {
        "id": "5hZaSXvtAyeN"
      },
      "source": [
        "Loading and Observing the Dataset"
      ]
    },
    {
      "cell_type": "code",
      "execution_count": 2,
      "metadata": {
        "_cell_guid": "79c7e3d0-c299-4dcb-8224-4455121ee9b0",
        "_uuid": "d629ff2d2480ee46fbb7e2d37f6b5fab8052498a",
        "id": "vi0b9cDSAyeQ",
        "trusted": true
      },
      "outputs": [
        {
          "data": {
            "text/html": [
              "<div>\n",
              "<style scoped>\n",
              "    .dataframe tbody tr th:only-of-type {\n",
              "        vertical-align: middle;\n",
              "    }\n",
              "\n",
              "    .dataframe tbody tr th {\n",
              "        vertical-align: top;\n",
              "    }\n",
              "\n",
              "    .dataframe thead th {\n",
              "        text-align: right;\n",
              "    }\n",
              "</style>\n",
              "<table border=\"1\" class=\"dataframe\">\n",
              "  <thead>\n",
              "    <tr style=\"text-align: right;\">\n",
              "      <th></th>\n",
              "      <th>Unnamed: 0</th>\n",
              "      <th>label</th>\n",
              "      <th>text</th>\n",
              "      <th>label_num</th>\n",
              "    </tr>\n",
              "  </thead>\n",
              "  <tbody>\n",
              "    <tr>\n",
              "      <th>0</th>\n",
              "      <td>605</td>\n",
              "      <td>ham</td>\n",
              "      <td>Subject: enron methanol ; meter # : 988291\\r\\n...</td>\n",
              "      <td>0</td>\n",
              "    </tr>\n",
              "    <tr>\n",
              "      <th>1</th>\n",
              "      <td>2349</td>\n",
              "      <td>ham</td>\n",
              "      <td>Subject: hpl nom for january 9 , 2001\\r\\n( see...</td>\n",
              "      <td>0</td>\n",
              "    </tr>\n",
              "    <tr>\n",
              "      <th>2</th>\n",
              "      <td>3624</td>\n",
              "      <td>ham</td>\n",
              "      <td>Subject: neon retreat\\r\\nho ho ho , we ' re ar...</td>\n",
              "      <td>0</td>\n",
              "    </tr>\n",
              "    <tr>\n",
              "      <th>3</th>\n",
              "      <td>4685</td>\n",
              "      <td>spam</td>\n",
              "      <td>Subject: photoshop , windows , office . cheap ...</td>\n",
              "      <td>1</td>\n",
              "    </tr>\n",
              "    <tr>\n",
              "      <th>4</th>\n",
              "      <td>2030</td>\n",
              "      <td>ham</td>\n",
              "      <td>Subject: re : indian springs\\r\\nthis deal is t...</td>\n",
              "      <td>0</td>\n",
              "    </tr>\n",
              "  </tbody>\n",
              "</table>\n",
              "</div>"
            ],
            "text/plain": [
              "   Unnamed: 0 label                                               text   \n",
              "0         605   ham  Subject: enron methanol ; meter # : 988291\\r\\n...  \\\n",
              "1        2349   ham  Subject: hpl nom for january 9 , 2001\\r\\n( see...   \n",
              "2        3624   ham  Subject: neon retreat\\r\\nho ho ho , we ' re ar...   \n",
              "3        4685  spam  Subject: photoshop , windows , office . cheap ...   \n",
              "4        2030   ham  Subject: re : indian springs\\r\\nthis deal is t...   \n",
              "\n",
              "   label_num  \n",
              "0          0  \n",
              "1          0  \n",
              "2          0  \n",
              "3          1  \n",
              "4          0  "
            ]
          },
          "execution_count": 2,
          "metadata": {},
          "output_type": "execute_result"
        }
      ],
      "source": [
        "df = pd.read_csv('spam_ham_dataset.csv')\n",
        "df.head()"
      ]
    },
    {
      "cell_type": "code",
      "execution_count": 3,
      "metadata": {
        "colab": {
          "base_uri": "https://localhost:8080/"
        },
        "id": "gAg9QPdYAyeR",
        "outputId": "4192a186-7377-4b5c-ad15-f9767f619525",
        "trusted": true
      },
      "outputs": [
        {
          "data": {
            "text/plain": [
              "(5171, 4)"
            ]
          },
          "execution_count": 3,
          "metadata": {},
          "output_type": "execute_result"
        }
      ],
      "source": [
        "df.shape"
      ]
    },
    {
      "cell_type": "code",
      "execution_count": 4,
      "metadata": {
        "colab": {
          "base_uri": "https://localhost:8080/"
        },
        "id": "JDXi6dq-AyeR",
        "outputId": "c8d25e60-1be3-4e3f-dec8-540d330e1229",
        "trusted": true
      },
      "outputs": [
        {
          "name": "stdout",
          "output_type": "stream",
          "text": [
            "<class 'pandas.core.frame.DataFrame'>\n",
            "RangeIndex: 5171 entries, 0 to 5170\n",
            "Data columns (total 4 columns):\n",
            " #   Column      Non-Null Count  Dtype \n",
            "---  ------      --------------  ----- \n",
            " 0   Unnamed: 0  5171 non-null   int64 \n",
            " 1   label       5171 non-null   object\n",
            " 2   text        5171 non-null   object\n",
            " 3   label_num   5171 non-null   int64 \n",
            "dtypes: int64(2), object(2)\n",
            "memory usage: 161.7+ KB\n"
          ]
        }
      ],
      "source": [
        "df.info()"
      ]
    },
    {
      "cell_type": "markdown",
      "metadata": {
        "id": "T7yKFcYOAyeS"
      },
      "source": [
        "No Missing Values\n"
      ]
    },
    {
      "cell_type": "code",
      "execution_count": 5,
      "metadata": {
        "colab": {
          "base_uri": "https://localhost:8080/"
        },
        "id": "BYLyp3i_AyeS",
        "outputId": "3021b62c-8498-4d5e-9783-3bb4b410e2aa",
        "trusted": true
      },
      "outputs": [
        {
          "data": {
            "text/plain": [
              "Unnamed: 0    0\n",
              "label         0\n",
              "text          0\n",
              "label_num     0\n",
              "dtype: int64"
            ]
          },
          "execution_count": 5,
          "metadata": {},
          "output_type": "execute_result"
        }
      ],
      "source": [
        "df.isna().sum()"
      ]
    },
    {
      "cell_type": "markdown",
      "metadata": {
        "id": "RpP6WCt2AyeS"
      },
      "source": [
        "**Exploratory Data Analysis**"
      ]
    },
    {
      "cell_type": "code",
      "execution_count": 6,
      "metadata": {
        "colab": {
          "base_uri": "https://localhost:8080/"
        },
        "id": "0Lzi_APrAyeT",
        "outputId": "89af3f1c-f6ba-4de5-a7ae-8c26705dc44c",
        "trusted": true
      },
      "outputs": [
        {
          "data": {
            "text/plain": [
              "label_num\n",
              "0    3672\n",
              "1    1499\n",
              "Name: count, dtype: int64"
            ]
          },
          "execution_count": 6,
          "metadata": {},
          "output_type": "execute_result"
        }
      ],
      "source": [
        "df['label_num'].value_counts()"
      ]
    },
    {
      "cell_type": "markdown",
      "metadata": {
        "id": "zyx44PoxAyeT"
      },
      "source": [
        "Checking the Length of email and it's relation"
      ]
    },
    {
      "cell_type": "code",
      "execution_count": 7,
      "metadata": {
        "id": "DeK_XgQsAyeT",
        "trusted": true
      },
      "outputs": [],
      "source": [
        "from nltk import word_tokenize"
      ]
    },
    {
      "cell_type": "markdown",
      "metadata": {
        "id": "BZAZnUYzAyeU"
      },
      "source": [
        "Function that tokenizes each and every email into words and returns it's length"
      ]
    },
    {
      "cell_type": "code",
      "execution_count": 8,
      "metadata": {
        "id": "t94rajJ-AyeU",
        "trusted": true
      },
      "outputs": [],
      "source": [
        "def count_words(text):\n",
        "    words = word_tokenize(text)\n",
        "    return len(words)"
      ]
    },
    {
      "cell_type": "markdown",
      "metadata": {
        "id": "n4Iin0KHAyeU"
      },
      "source": [
        "Applying the function to df['text'] and storing the count in another column"
      ]
    },
    {
      "cell_type": "code",
      "execution_count": 9,
      "metadata": {
        "colab": {
          "base_uri": "https://localhost:8080/"
        },
        "id": "xW_Y1yRbDL8U",
        "outputId": "94dbf758-239a-4859-daac-a27d8d47668d"
      },
      "outputs": [
        {
          "name": "stderr",
          "output_type": "stream",
          "text": [
            "[nltk_data] Downloading package punkt to\n",
            "[nltk_data]     C:\\Users\\ela\\AppData\\Roaming\\nltk_data...\n",
            "[nltk_data]   Package punkt is already up-to-date!\n"
          ]
        },
        {
          "data": {
            "text/plain": [
              "True"
            ]
          },
          "execution_count": 9,
          "metadata": {},
          "output_type": "execute_result"
        }
      ],
      "source": [
        "import nltk\n",
        "nltk.download('punkt')"
      ]
    },
    {
      "cell_type": "code",
      "execution_count": 10,
      "metadata": {
        "id": "txvg0Pq7AyeU",
        "trusted": true
      },
      "outputs": [],
      "source": [
        "df['count']=df['text'].apply(count_words)"
      ]
    },
    {
      "cell_type": "code",
      "execution_count": 11,
      "metadata": {
        "colab": {
          "base_uri": "https://localhost:8080/"
        },
        "id": "k_0DkAX8AyeV",
        "outputId": "bcb876b7-9ca3-4b3b-8ffc-131473b660dc",
        "trusted": true
      },
      "outputs": [
        {
          "data": {
            "text/plain": [
              "0        68\n",
              "1        24\n",
              "2       551\n",
              "3        49\n",
              "4        71\n",
              "       ... \n",
              "5166    156\n",
              "5167    306\n",
              "5168     79\n",
              "5169    112\n",
              "5170    200\n",
              "Name: count, Length: 5171, dtype: int64"
            ]
          },
          "execution_count": 11,
          "metadata": {},
          "output_type": "execute_result"
        }
      ],
      "source": [
        "df['count']"
      ]
    },
    {
      "cell_type": "code",
      "execution_count": 12,
      "metadata": {
        "colab": {
          "base_uri": "https://localhost:8080/"
        },
        "id": "LamtBI43AyeV",
        "outputId": "d8c2f9c3-dba8-462b-9f29-925b7aadd0fe",
        "trusted": true
      },
      "outputs": [
        {
          "data": {
            "text/plain": [
              "label_num\n",
              "0    226.239107\n",
              "1    236.387592\n",
              "Name: count, dtype: float64"
            ]
          },
          "execution_count": 12,
          "metadata": {},
          "output_type": "execute_result"
        }
      ],
      "source": [
        "df.groupby('label_num')['count'].mean()"
      ]
    },
    {
      "cell_type": "markdown",
      "metadata": {
        "id": "KHzjqKyhAyeV"
      },
      "source": [
        "# Text Prepreocessing"
      ]
    },
    {
      "cell_type": "markdown",
      "metadata": {
        "id": "XWPQ7Hn1AyeV"
      },
      "source": [
        "**Function to Process the text data and 1. Remove Punctuation 2.Stop Words 3.Stemming**"
      ]
    },
    {
      "cell_type": "code",
      "execution_count": 13,
      "metadata": {
        "id": "y3aPHEL_AyeV",
        "trusted": true
      },
      "outputs": [],
      "source": [
        "import string\n",
        "from nltk.corpus import stopwords\n"
      ]
    },
    {
      "cell_type": "code",
      "execution_count": 14,
      "metadata": {
        "id": "YcBbrImGAyeV",
        "trusted": true
      },
      "outputs": [],
      "source": [
        "def process_text(text):\n",
        "    no_punc = [char for char in text if char not in string.punctuation]\n",
        "    no_punc = ''.join(no_punc)\n",
        "\n",
        "\n",
        "    return ' '.join([word for word in no_punc.split() if word.lower() not in stopwords.words('english')])"
      ]
    },
    {
      "cell_type": "code",
      "execution_count": 15,
      "metadata": {
        "colab": {
          "base_uri": "https://localhost:8080/"
        },
        "id": "nTiaIJrOD1lE",
        "outputId": "83027801-c459-41f1-d2ab-3f61fcd11c66"
      },
      "outputs": [
        {
          "name": "stderr",
          "output_type": "stream",
          "text": [
            "[nltk_data] Downloading package stopwords to\n",
            "[nltk_data]     C:\\Users\\ela\\AppData\\Roaming\\nltk_data...\n",
            "[nltk_data]   Package stopwords is already up-to-date!\n"
          ]
        },
        {
          "data": {
            "text/plain": [
              "True"
            ]
          },
          "execution_count": 15,
          "metadata": {},
          "output_type": "execute_result"
        }
      ],
      "source": [
        "import nltk\n",
        "nltk.download('stopwords')"
      ]
    },
    {
      "cell_type": "code",
      "execution_count": 16,
      "metadata": {
        "id": "zuECulVHAyeW",
        "trusted": true
      },
      "outputs": [],
      "source": [
        "df['text']=df['text'].apply(process_text)"
      ]
    },
    {
      "cell_type": "code",
      "execution_count": 17,
      "metadata": {
        "colab": {
          "base_uri": "https://localhost:8080/"
        },
        "id": "rMN3eEPEAyeW",
        "outputId": "134cd90a-63cb-488a-a365-be123d3040ea",
        "trusted": true
      },
      "outputs": [
        {
          "data": {
            "text/plain": [
              "0       Subject enron methanol meter 988291 follow not...\n",
              "1       Subject hpl nom january 9 2001 see attached fi...\n",
              "2       Subject neon retreat ho ho ho around wonderful...\n",
              "3       Subject photoshop windows office cheap main tr...\n",
              "4       Subject indian springs deal book teco pvr reve...\n",
              "                              ...                        \n",
              "5166    Subject put 10 ft transport volumes decreased ...\n",
              "5167    Subject 3 4 2000 following noms hpl take extra...\n",
              "5168    Subject calpine daily gas nomination julie men...\n",
              "5169    Subject industrial worksheets august 2000 acti...\n",
              "5170    Subject important online banking alert dear va...\n",
              "Name: text, Length: 5171, dtype: object"
            ]
          },
          "execution_count": 17,
          "metadata": {},
          "output_type": "execute_result"
        }
      ],
      "source": [
        "df['text']"
      ]
    },
    {
      "cell_type": "markdown",
      "metadata": {
        "id": "E2NzYiuWAyeW"
      },
      "source": [
        "**After cleaning the text. We will now carry out the process of Stemming to reduce infected words to their root**"
      ]
    },
    {
      "cell_type": "code",
      "execution_count": 18,
      "metadata": {
        "id": "BHTOhCnFAyeW",
        "trusted": true
      },
      "outputs": [],
      "source": [
        "from nltk.stem import PorterStemmer\n",
        "stemmer = PorterStemmer()"
      ]
    },
    {
      "cell_type": "code",
      "execution_count": 19,
      "metadata": {
        "id": "QllNy6KXAyeX",
        "trusted": true
      },
      "outputs": [],
      "source": [
        "def stemming(text):\n",
        "    return ''.join([stemmer.stem(word) for word in text])"
      ]
    },
    {
      "cell_type": "code",
      "execution_count": 20,
      "metadata": {
        "id": "oog-maDnAyeX",
        "trusted": true
      },
      "outputs": [],
      "source": [
        "df['text']=df['text'].apply(stemming)"
      ]
    },
    {
      "cell_type": "code",
      "execution_count": 21,
      "metadata": {
        "colab": {
          "base_uri": "https://localhost:8080/",
          "height": 206
        },
        "id": "TDyQOrGCAyeX",
        "outputId": "e3fb9f8e-5fe6-4a75-9662-9188dd8015ec",
        "trusted": true
      },
      "outputs": [
        {
          "data": {
            "text/html": [
              "<div>\n",
              "<style scoped>\n",
              "    .dataframe tbody tr th:only-of-type {\n",
              "        vertical-align: middle;\n",
              "    }\n",
              "\n",
              "    .dataframe tbody tr th {\n",
              "        vertical-align: top;\n",
              "    }\n",
              "\n",
              "    .dataframe thead th {\n",
              "        text-align: right;\n",
              "    }\n",
              "</style>\n",
              "<table border=\"1\" class=\"dataframe\">\n",
              "  <thead>\n",
              "    <tr style=\"text-align: right;\">\n",
              "      <th></th>\n",
              "      <th>Unnamed: 0</th>\n",
              "      <th>label</th>\n",
              "      <th>text</th>\n",
              "      <th>label_num</th>\n",
              "      <th>count</th>\n",
              "    </tr>\n",
              "  </thead>\n",
              "  <tbody>\n",
              "    <tr>\n",
              "      <th>0</th>\n",
              "      <td>605</td>\n",
              "      <td>ham</td>\n",
              "      <td>subject enron methanol meter 988291 follow not...</td>\n",
              "      <td>0</td>\n",
              "      <td>68</td>\n",
              "    </tr>\n",
              "    <tr>\n",
              "      <th>1</th>\n",
              "      <td>2349</td>\n",
              "      <td>ham</td>\n",
              "      <td>subject hpl nom january 9 2001 see attached fi...</td>\n",
              "      <td>0</td>\n",
              "      <td>24</td>\n",
              "    </tr>\n",
              "    <tr>\n",
              "      <th>2</th>\n",
              "      <td>3624</td>\n",
              "      <td>ham</td>\n",
              "      <td>subject neon retreat ho ho ho around wonderful...</td>\n",
              "      <td>0</td>\n",
              "      <td>551</td>\n",
              "    </tr>\n",
              "    <tr>\n",
              "      <th>3</th>\n",
              "      <td>4685</td>\n",
              "      <td>spam</td>\n",
              "      <td>subject photoshop windows office cheap main tr...</td>\n",
              "      <td>1</td>\n",
              "      <td>49</td>\n",
              "    </tr>\n",
              "    <tr>\n",
              "      <th>4</th>\n",
              "      <td>2030</td>\n",
              "      <td>ham</td>\n",
              "      <td>subject indian springs deal book teco pvr reve...</td>\n",
              "      <td>0</td>\n",
              "      <td>71</td>\n",
              "    </tr>\n",
              "  </tbody>\n",
              "</table>\n",
              "</div>"
            ],
            "text/plain": [
              "   Unnamed: 0 label                                               text   \n",
              "0         605   ham  subject enron methanol meter 988291 follow not...  \\\n",
              "1        2349   ham  subject hpl nom january 9 2001 see attached fi...   \n",
              "2        3624   ham  subject neon retreat ho ho ho around wonderful...   \n",
              "3        4685  spam  subject photoshop windows office cheap main tr...   \n",
              "4        2030   ham  subject indian springs deal book teco pvr reve...   \n",
              "\n",
              "   label_num  count  \n",
              "0          0     68  \n",
              "1          0     24  \n",
              "2          0    551  \n",
              "3          1     49  \n",
              "4          0     71  "
            ]
          },
          "execution_count": 21,
          "metadata": {},
          "output_type": "execute_result"
        }
      ],
      "source": [
        "df.head()"
      ]
    },
    {
      "cell_type": "markdown",
      "metadata": {
        "id": "aPlq6XeaAyeX"
      },
      "source": [
        "**Now we will use Count Vectorizer to convert string data into Bag of Words ie Known Vocabulary**"
      ]
    },
    {
      "cell_type": "code",
      "execution_count": 22,
      "metadata": {
        "colab": {
          "base_uri": "https://localhost:8080/"
        },
        "id": "jXli_PNd8I5L",
        "outputId": "984708ae-663f-4db9-90ea-861121b7182c"
      },
      "outputs": [
        {
          "name": "stdout",
          "output_type": "stream",
          "text": [
            "              precision    recall  f1-score   support\n",
            "\n",
            "           0       0.90      1.00      0.95       741\n",
            "           1       1.00      0.72      0.84       294\n",
            "\n",
            "    accuracy                           0.92      1035\n",
            "   macro avg       0.95      0.86      0.89      1035\n",
            "weighted avg       0.93      0.92      0.92      1035\n",
            "\n"
          ]
        }
      ],
      "source": [
        "from sklearn.feature_extraction.text import TfidfVectorizer\n",
        "from sklearn.model_selection import train_test_split\n",
        "from sklearn.naive_bayes import MultinomialNB\n",
        "from sklearn.metrics import classification_report\n",
        "import joblib\n",
        "import pandas as pd\n",
        "\n",
        "# Assuming df is your DataFrame with 'text' and 'label_num' columns\n",
        "\n",
        "# Vectorize the text using TF-IDF\n",
        "vectorizer = TfidfVectorizer()\n",
        "message_tfidf = vectorizer.fit_transform(df['text'])\n",
        "\n",
        "# Split the data into training and testing sets\n",
        "X_train, X_test, y_train, y_test = train_test_split(message_tfidf, df['label_num'], test_size=0.20)\n",
        "\n",
        "# Train the Naive Bayes model\n",
        "nb = MultinomialNB()\n",
        "nb.fit(X_train, y_train)\n",
        "\n",
        "# Make predictions on the test set\n",
        "y_pred = nb.predict(X_test)\n",
        "\n",
        "# Print classification report\n",
        "print(classification_report(y_test, y_pred))\n",
        "\n",
        "# # Save the trained model using joblib\n",
        "# joblib.dump(nb, 'naive_bayes_model.pkl')"
      ]
    },
    {
      "cell_type": "code",
      "execution_count": null,
      "metadata": {
        "id": "_6qigx42E1XT"
      },
      "outputs": [],
      "source": []
    }
  ],
  "metadata": {
    "colab": {
      "provenance": []
    },
    "kernelspec": {
      "display_name": "Python 3",
      "language": "python",
      "name": "python3"
    },
    "language_info": {
      "codemirror_mode": {
        "name": "ipython",
        "version": 3
      },
      "file_extension": ".py",
      "mimetype": "text/x-python",
      "name": "python",
      "nbconvert_exporter": "python",
      "pygments_lexer": "ipython3",
      "version": "3.11.2"
    }
  },
  "nbformat": 4,
  "nbformat_minor": 0
}
